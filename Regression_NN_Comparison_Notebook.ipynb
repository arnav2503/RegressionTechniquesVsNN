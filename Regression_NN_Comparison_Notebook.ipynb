{
  "cells": [
    {
      "cell_type": "code",
      "execution_count": 2,
      "metadata": {
        "id": "u0o9LnOI46DX"
      },
      "outputs": [],
      "source": [
        "import pandas as pd\n",
        "import numpy as np\n",
        "import matplotlib.pyplot as plt\n",
        "import seaborn as sns\n",
        "\n",
        "from sklearn.impute import SimpleImputer"
      ]
    },
    {
      "cell_type": "code",
      "execution_count": 3,
      "metadata": {
        "id": "tJvYDNuG6C82"
      },
      "outputs": [],
      "source": [
        "train_data = pd.read_csv('/Users/kithaa1/Desktop/pa1/dataset/train.csv')\n",
        "test_data = pd.read_csv('/Users/kithaa1/Desktop/pa1/dataset/test.csv')"
      ]
    },
    {
      "cell_type": "markdown",
      "metadata": {
        "id": "yk45CmxI10kA"
      },
      "source": [
        "# Data Exploration and Preperation"
      ]
    },
    {
      "cell_type": "code",
      "execution_count": 4,
      "metadata": {
        "colab": {
          "base_uri": "https://localhost:8080/",
          "height": 791
        },
        "id": "0xIeqLM_6Zl1",
        "outputId": "d9907ff3-9970-4456-fc0e-234c1cd693c5"
      },
      "outputs": [
        {
          "data": {
            "text/html": [
              "<div>\n",
              "<style scoped>\n",
              "    .dataframe tbody tr th:only-of-type {\n",
              "        vertical-align: middle;\n",
              "    }\n",
              "\n",
              "    .dataframe tbody tr th {\n",
              "        vertical-align: top;\n",
              "    }\n",
              "\n",
              "    .dataframe thead th {\n",
              "        text-align: right;\n",
              "    }\n",
              "</style>\n",
              "<table border=\"1\" class=\"dataframe\">\n",
              "  <thead>\n",
              "    <tr style=\"text-align: right;\">\n",
              "      <th></th>\n",
              "      <th>RaceEthnicityCategory</th>\n",
              "      <th>PneumoVaxEver</th>\n",
              "      <th>LastCheckupTime</th>\n",
              "      <th>SmokerStatus</th>\n",
              "      <th>HadAngina</th>\n",
              "      <th>HadDepressiveDisorder</th>\n",
              "      <th>DifficultyConcentrating</th>\n",
              "      <th>RemovedTeeth</th>\n",
              "      <th>BlindOrVisionDifficulty</th>\n",
              "      <th>GeneralHealth</th>\n",
              "      <th>...</th>\n",
              "      <th>DifficultyWalking</th>\n",
              "      <th>HadCOPD</th>\n",
              "      <th>MentalHealthDays</th>\n",
              "      <th>HadArthritis</th>\n",
              "      <th>DifficultyDressingBathing</th>\n",
              "      <th>HIVTesting</th>\n",
              "      <th>PhysicalActivities</th>\n",
              "      <th>DifficultyErrands</th>\n",
              "      <th>Age</th>\n",
              "      <th>HadHeartAttack</th>\n",
              "    </tr>\n",
              "  </thead>\n",
              "  <tbody>\n",
              "    <tr>\n",
              "      <th>0</th>\n",
              "      <td>White only, Non-Hispanic</td>\n",
              "      <td>No</td>\n",
              "      <td>1 year but less than 2 years ago (Within past ...</td>\n",
              "      <td>Never smoked</td>\n",
              "      <td>No</td>\n",
              "      <td>Yes</td>\n",
              "      <td>No</td>\n",
              "      <td>0</td>\n",
              "      <td>No</td>\n",
              "      <td>Very good</td>\n",
              "      <td>...</td>\n",
              "      <td>No</td>\n",
              "      <td>No</td>\n",
              "      <td>15.0</td>\n",
              "      <td>No</td>\n",
              "      <td>No</td>\n",
              "      <td>No</td>\n",
              "      <td>Yes</td>\n",
              "      <td>No</td>\n",
              "      <td>41.9</td>\n",
              "      <td>0</td>\n",
              "    </tr>\n",
              "    <tr>\n",
              "      <th>1</th>\n",
              "      <td>White only, Non-Hispanic</td>\n",
              "      <td>No</td>\n",
              "      <td>Within past year (anytime less than 12 months ...</td>\n",
              "      <td>Current smoker - now smokes every day</td>\n",
              "      <td>No</td>\n",
              "      <td>Yes</td>\n",
              "      <td>No</td>\n",
              "      <td>6 or more, but not all</td>\n",
              "      <td>No</td>\n",
              "      <td>Fair</td>\n",
              "      <td>...</td>\n",
              "      <td>No</td>\n",
              "      <td>No</td>\n",
              "      <td>0.0</td>\n",
              "      <td>No</td>\n",
              "      <td>No</td>\n",
              "      <td>Yes</td>\n",
              "      <td>Yes</td>\n",
              "      <td>Yes</td>\n",
              "      <td>42.3</td>\n",
              "      <td>0</td>\n",
              "    </tr>\n",
              "    <tr>\n",
              "      <th>2</th>\n",
              "      <td>White only, Non-Hispanic</td>\n",
              "      <td>Yes</td>\n",
              "      <td>Within past year (anytime less than 12 months ...</td>\n",
              "      <td>Former smoker</td>\n",
              "      <td>No</td>\n",
              "      <td>No</td>\n",
              "      <td>No</td>\n",
              "      <td>0</td>\n",
              "      <td>No</td>\n",
              "      <td>Fair</td>\n",
              "      <td>...</td>\n",
              "      <td>Yes</td>\n",
              "      <td>No</td>\n",
              "      <td>0.0</td>\n",
              "      <td>Yes</td>\n",
              "      <td>No</td>\n",
              "      <td>No</td>\n",
              "      <td>No</td>\n",
              "      <td>Yes</td>\n",
              "      <td>66.3</td>\n",
              "      <td>0</td>\n",
              "    </tr>\n",
              "    <tr>\n",
              "      <th>3</th>\n",
              "      <td>White only, Non-Hispanic</td>\n",
              "      <td>No</td>\n",
              "      <td>Within past year (anytime less than 12 months ...</td>\n",
              "      <td>Never smoked</td>\n",
              "      <td>No</td>\n",
              "      <td>No</td>\n",
              "      <td>No</td>\n",
              "      <td>0</td>\n",
              "      <td>No</td>\n",
              "      <td>Excellent</td>\n",
              "      <td>...</td>\n",
              "      <td>No</td>\n",
              "      <td>No</td>\n",
              "      <td>0.0</td>\n",
              "      <td>No</td>\n",
              "      <td>No</td>\n",
              "      <td>Yes</td>\n",
              "      <td>Yes</td>\n",
              "      <td>No</td>\n",
              "      <td>32.3</td>\n",
              "      <td>0</td>\n",
              "    </tr>\n",
              "    <tr>\n",
              "      <th>4</th>\n",
              "      <td>White only, Non-Hispanic</td>\n",
              "      <td>No</td>\n",
              "      <td>Within past year (anytime less than 12 months ...</td>\n",
              "      <td>Former smoker</td>\n",
              "      <td>Yes</td>\n",
              "      <td>No</td>\n",
              "      <td>Yes</td>\n",
              "      <td>All</td>\n",
              "      <td>Yes</td>\n",
              "      <td>Fair</td>\n",
              "      <td>...</td>\n",
              "      <td>Yes</td>\n",
              "      <td>No</td>\n",
              "      <td>15.0</td>\n",
              "      <td>Yes</td>\n",
              "      <td>No</td>\n",
              "      <td>No</td>\n",
              "      <td>No</td>\n",
              "      <td>No</td>\n",
              "      <td>71.4</td>\n",
              "      <td>1</td>\n",
              "    </tr>\n",
              "    <tr>\n",
              "      <th>...</th>\n",
              "      <td>...</td>\n",
              "      <td>...</td>\n",
              "      <td>...</td>\n",
              "      <td>...</td>\n",
              "      <td>...</td>\n",
              "      <td>...</td>\n",
              "      <td>...</td>\n",
              "      <td>...</td>\n",
              "      <td>...</td>\n",
              "      <td>...</td>\n",
              "      <td>...</td>\n",
              "      <td>...</td>\n",
              "      <td>...</td>\n",
              "      <td>...</td>\n",
              "      <td>...</td>\n",
              "      <td>...</td>\n",
              "      <td>...</td>\n",
              "      <td>...</td>\n",
              "      <td>...</td>\n",
              "      <td>...</td>\n",
              "      <td>...</td>\n",
              "    </tr>\n",
              "    <tr>\n",
              "      <th>196812</th>\n",
              "      <td>White only, Non-Hispanic</td>\n",
              "      <td>Yes</td>\n",
              "      <td>Within past year (anytime less than 12 months ...</td>\n",
              "      <td>Current smoker - now smokes every day</td>\n",
              "      <td>No</td>\n",
              "      <td>No</td>\n",
              "      <td>No</td>\n",
              "      <td>1 to 5</td>\n",
              "      <td>No</td>\n",
              "      <td>Good</td>\n",
              "      <td>...</td>\n",
              "      <td>No</td>\n",
              "      <td>No</td>\n",
              "      <td>0.0</td>\n",
              "      <td>No</td>\n",
              "      <td>No</td>\n",
              "      <td>No</td>\n",
              "      <td>No</td>\n",
              "      <td>No</td>\n",
              "      <td>72.8</td>\n",
              "      <td>0</td>\n",
              "    </tr>\n",
              "    <tr>\n",
              "      <th>196813</th>\n",
              "      <td>White only, Non-Hispanic</td>\n",
              "      <td>No</td>\n",
              "      <td>Within past year (anytime less than 12 months ...</td>\n",
              "      <td>Never smoked</td>\n",
              "      <td>No</td>\n",
              "      <td>No</td>\n",
              "      <td>No</td>\n",
              "      <td>0</td>\n",
              "      <td>No</td>\n",
              "      <td>Excellent</td>\n",
              "      <td>...</td>\n",
              "      <td>No</td>\n",
              "      <td>No</td>\n",
              "      <td>0.0</td>\n",
              "      <td>No</td>\n",
              "      <td>No</td>\n",
              "      <td>Yes</td>\n",
              "      <td>Yes</td>\n",
              "      <td>No</td>\n",
              "      <td>47.2</td>\n",
              "      <td>0</td>\n",
              "    </tr>\n",
              "    <tr>\n",
              "      <th>196814</th>\n",
              "      <td>White only, Non-Hispanic</td>\n",
              "      <td>No</td>\n",
              "      <td>1 year but less than 2 years ago (Within past ...</td>\n",
              "      <td>Never smoked</td>\n",
              "      <td>No</td>\n",
              "      <td>No</td>\n",
              "      <td>No</td>\n",
              "      <td>1 to 5</td>\n",
              "      <td>No</td>\n",
              "      <td>Good</td>\n",
              "      <td>...</td>\n",
              "      <td>Yes</td>\n",
              "      <td>No</td>\n",
              "      <td>0.0</td>\n",
              "      <td>No</td>\n",
              "      <td>No</td>\n",
              "      <td>No</td>\n",
              "      <td>No</td>\n",
              "      <td>No</td>\n",
              "      <td>67.3</td>\n",
              "      <td>0</td>\n",
              "    </tr>\n",
              "    <tr>\n",
              "      <th>196815</th>\n",
              "      <td>White only, Non-Hispanic</td>\n",
              "      <td>Yes</td>\n",
              "      <td>Within past year (anytime less than 12 months ...</td>\n",
              "      <td>Never smoked</td>\n",
              "      <td>No</td>\n",
              "      <td>No</td>\n",
              "      <td>No</td>\n",
              "      <td>1 to 5</td>\n",
              "      <td>No</td>\n",
              "      <td>Very good</td>\n",
              "      <td>...</td>\n",
              "      <td>No</td>\n",
              "      <td>No</td>\n",
              "      <td>1.0</td>\n",
              "      <td>Yes</td>\n",
              "      <td>No</td>\n",
              "      <td>No</td>\n",
              "      <td>Yes</td>\n",
              "      <td>No</td>\n",
              "      <td>72.5</td>\n",
              "      <td>0</td>\n",
              "    </tr>\n",
              "    <tr>\n",
              "      <th>196816</th>\n",
              "      <td>White only, Non-Hispanic</td>\n",
              "      <td>Yes</td>\n",
              "      <td>1 year but less than 2 years ago (Within past ...</td>\n",
              "      <td>Former smoker</td>\n",
              "      <td>No</td>\n",
              "      <td>No</td>\n",
              "      <td>No</td>\n",
              "      <td>1 to 5</td>\n",
              "      <td>No</td>\n",
              "      <td>Good</td>\n",
              "      <td>...</td>\n",
              "      <td>No</td>\n",
              "      <td>No</td>\n",
              "      <td>30.0</td>\n",
              "      <td>No</td>\n",
              "      <td>No</td>\n",
              "      <td>No</td>\n",
              "      <td>Yes</td>\n",
              "      <td>No</td>\n",
              "      <td>52.4</td>\n",
              "      <td>0</td>\n",
              "    </tr>\n",
              "  </tbody>\n",
              "</table>\n",
              "<p>196817 rows × 36 columns</p>\n",
              "</div>"
            ],
            "text/plain": [
              "           RaceEthnicityCategory PneumoVaxEver  \\\n",
              "0       White only, Non-Hispanic            No   \n",
              "1       White only, Non-Hispanic            No   \n",
              "2       White only, Non-Hispanic           Yes   \n",
              "3       White only, Non-Hispanic            No   \n",
              "4       White only, Non-Hispanic            No   \n",
              "...                          ...           ...   \n",
              "196812  White only, Non-Hispanic           Yes   \n",
              "196813  White only, Non-Hispanic            No   \n",
              "196814  White only, Non-Hispanic            No   \n",
              "196815  White only, Non-Hispanic           Yes   \n",
              "196816  White only, Non-Hispanic           Yes   \n",
              "\n",
              "                                          LastCheckupTime  \\\n",
              "0       1 year but less than 2 years ago (Within past ...   \n",
              "1       Within past year (anytime less than 12 months ...   \n",
              "2       Within past year (anytime less than 12 months ...   \n",
              "3       Within past year (anytime less than 12 months ...   \n",
              "4       Within past year (anytime less than 12 months ...   \n",
              "...                                                   ...   \n",
              "196812  Within past year (anytime less than 12 months ...   \n",
              "196813  Within past year (anytime less than 12 months ...   \n",
              "196814  1 year but less than 2 years ago (Within past ...   \n",
              "196815  Within past year (anytime less than 12 months ...   \n",
              "196816  1 year but less than 2 years ago (Within past ...   \n",
              "\n",
              "                                 SmokerStatus HadAngina HadDepressiveDisorder  \\\n",
              "0                                Never smoked        No                   Yes   \n",
              "1       Current smoker - now smokes every day        No                   Yes   \n",
              "2                               Former smoker        No                    No   \n",
              "3                                Never smoked        No                    No   \n",
              "4                               Former smoker       Yes                    No   \n",
              "...                                       ...       ...                   ...   \n",
              "196812  Current smoker - now smokes every day        No                    No   \n",
              "196813                           Never smoked        No                    No   \n",
              "196814                           Never smoked        No                    No   \n",
              "196815                           Never smoked        No                    No   \n",
              "196816                          Former smoker        No                    No   \n",
              "\n",
              "       DifficultyConcentrating            RemovedTeeth  \\\n",
              "0                           No                       0   \n",
              "1                           No  6 or more, but not all   \n",
              "2                           No                       0   \n",
              "3                           No                       0   \n",
              "4                          Yes                     All   \n",
              "...                        ...                     ...   \n",
              "196812                      No                  1 to 5   \n",
              "196813                      No                       0   \n",
              "196814                      No                  1 to 5   \n",
              "196815                      No                  1 to 5   \n",
              "196816                      No                  1 to 5   \n",
              "\n",
              "       BlindOrVisionDifficulty GeneralHealth  ... DifficultyWalking HadCOPD  \\\n",
              "0                           No     Very good  ...                No      No   \n",
              "1                           No          Fair  ...                No      No   \n",
              "2                           No          Fair  ...               Yes      No   \n",
              "3                           No     Excellent  ...                No      No   \n",
              "4                          Yes          Fair  ...               Yes      No   \n",
              "...                        ...           ...  ...               ...     ...   \n",
              "196812                      No          Good  ...                No      No   \n",
              "196813                      No     Excellent  ...                No      No   \n",
              "196814                      No          Good  ...               Yes      No   \n",
              "196815                      No     Very good  ...                No      No   \n",
              "196816                      No          Good  ...                No      No   \n",
              "\n",
              "       MentalHealthDays HadArthritis DifficultyDressingBathing HIVTesting  \\\n",
              "0                  15.0           No                        No         No   \n",
              "1                   0.0           No                        No        Yes   \n",
              "2                   0.0          Yes                        No         No   \n",
              "3                   0.0           No                        No        Yes   \n",
              "4                  15.0          Yes                        No         No   \n",
              "...                 ...          ...                       ...        ...   \n",
              "196812              0.0           No                        No         No   \n",
              "196813              0.0           No                        No        Yes   \n",
              "196814              0.0           No                        No         No   \n",
              "196815              1.0          Yes                        No         No   \n",
              "196816             30.0           No                        No         No   \n",
              "\n",
              "       PhysicalActivities DifficultyErrands   Age  HadHeartAttack  \n",
              "0                     Yes                No  41.9               0  \n",
              "1                     Yes               Yes  42.3               0  \n",
              "2                      No               Yes  66.3               0  \n",
              "3                     Yes                No  32.3               0  \n",
              "4                      No                No  71.4               1  \n",
              "...                   ...               ...   ...             ...  \n",
              "196812                 No                No  72.8               0  \n",
              "196813                Yes                No  47.2               0  \n",
              "196814                 No                No  67.3               0  \n",
              "196815                Yes                No  72.5               0  \n",
              "196816                Yes                No  52.4               0  \n",
              "\n",
              "[196817 rows x 36 columns]"
            ]
          },
          "execution_count": 4,
          "metadata": {},
          "output_type": "execute_result"
        }
      ],
      "source": [
        "train_data"
      ]
    },
    {
      "cell_type": "markdown",
      "metadata": {
        "id": "WUY3lDrn8I9B"
      },
      "source": [
        "##\n",
        "[Q1] Dataset Overview"
      ]
    },
    {
      "cell_type": "code",
      "execution_count": 5,
      "metadata": {
        "colab": {
          "base_uri": "https://localhost:8080/"
        },
        "id": "K0QcugpJ6bJr",
        "outputId": "e63eadf8-12ee-475c-e06f-cd1f3daf7f01"
      },
      "outputs": [
        {
          "name": "stdout",
          "output_type": "stream",
          "text": [
            "Total number of instances: 196817\n",
            "Total number of features: 36\n"
          ]
        }
      ],
      "source": [
        "num_instances, num_features = train_data.shape\n",
        "\n",
        "print(f'Total number of instances: {num_instances}')\n",
        "print(f'Total number of features: {num_features}')"
      ]
    },
    {
      "cell_type": "code",
      "execution_count": 6,
      "metadata": {
        "colab": {
          "base_uri": "https://localhost:8080/"
        },
        "id": "Wq5gT3hG67uX",
        "outputId": "ce7e8814-f41c-4aac-80d9-ab07300dccfa"
      },
      "outputs": [
        {
          "name": "stdout",
          "output_type": "stream",
          "text": [
            "Numerical features: ['BMI', 'PhysicalHealthDays', 'SleepHours', 'MentalHealthDays', 'Age', 'HadHeartAttack']\n",
            "Categorical features: ['RaceEthnicityCategory', 'PneumoVaxEver', 'LastCheckupTime', 'SmokerStatus', 'HadAngina', 'HadDepressiveDisorder', 'DifficultyConcentrating', 'RemovedTeeth', 'BlindOrVisionDifficulty', 'GeneralHealth', 'HadSkinCancer', 'HighRiskLastYear', 'ECigaretteUsage', 'ChestScan', 'HadStroke', 'FluVaxLast12', 'Sex', 'HadDiabetes', 'HadKidneyDisease', 'AlcoholDrinkers', 'DeafOrHardOfHearing', 'CovidPos', 'HadAsthma', 'DifficultyWalking', 'HadCOPD', 'HadArthritis', 'DifficultyDressingBathing', 'HIVTesting', 'PhysicalActivities', 'DifficultyErrands']\n"
          ]
        }
      ],
      "source": [
        "numerical_features = train_data.select_dtypes(include=['int64', 'float64']).columns.tolist()\n",
        "categorical_features = train_data.select_dtypes(include=['object', 'category']).columns.tolist()\n",
        "\n",
        "print(f'Numerical features: {numerical_features}')\n",
        "print(f'Categorical features: {categorical_features}')"
      ]
    },
    {
      "cell_type": "markdown",
      "metadata": {
        "id": "ebp8Y7QjCgt7"
      },
      "source": [
        "Double checking each value for features mistakenly being classfied as numerical"
      ]
    },
    {
      "cell_type": "code",
      "execution_count": 7,
      "metadata": {
        "colab": {
          "base_uri": "https://localhost:8080/"
        },
        "id": "4D99uZUpDpvh",
        "outputId": "be8e0542-7926-4f81-885b-de34d26fd1ed"
      },
      "outputs": [
        {
          "name": "stdout",
          "output_type": "stream",
          "text": [
            "BMI: 3333\n",
            "PhysicalHealthDays: 31\n",
            "SleepHours: 23\n",
            "MentalHealthDays: 31\n",
            "Age: 492\n",
            "HadHeartAttack: 2\n"
          ]
        }
      ],
      "source": [
        "for feature in numerical_features:\n",
        "  print(f'{feature}: {train_data[feature].nunique()}')"
      ]
    },
    {
      "cell_type": "markdown",
      "metadata": {
        "id": "ZOE1lYkuFmW_"
      },
      "source": [
        "It seems that HadheartAttack has been wrongly classified"
      ]
    },
    {
      "cell_type": "code",
      "execution_count": 8,
      "metadata": {
        "id": "hAlCKqRyFwg9"
      },
      "outputs": [],
      "source": [
        "numerical_features.remove(\"HadHeartAttack\")\n",
        "categorical_features.append(\"HadHeartAttack\")"
      ]
    },
    {
      "cell_type": "code",
      "execution_count": 9,
      "metadata": {},
      "outputs": [
        {
          "name": "stdout",
          "output_type": "stream",
          "text": [
            "Numerical features: ['BMI', 'PhysicalHealthDays', 'SleepHours', 'MentalHealthDays', 'Age']\n",
            "Categorical features: ['RaceEthnicityCategory', 'PneumoVaxEver', 'LastCheckupTime', 'SmokerStatus', 'HadAngina', 'HadDepressiveDisorder', 'DifficultyConcentrating', 'RemovedTeeth', 'BlindOrVisionDifficulty', 'GeneralHealth', 'HadSkinCancer', 'HighRiskLastYear', 'ECigaretteUsage', 'ChestScan', 'HadStroke', 'FluVaxLast12', 'Sex', 'HadDiabetes', 'HadKidneyDisease', 'AlcoholDrinkers', 'DeafOrHardOfHearing', 'CovidPos', 'HadAsthma', 'DifficultyWalking', 'HadCOPD', 'HadArthritis', 'DifficultyDressingBathing', 'HIVTesting', 'PhysicalActivities', 'DifficultyErrands', 'HadHeartAttack']\n"
          ]
        }
      ],
      "source": [
        "print(f'Numerical features: {numerical_features}')\n",
        "print(f'Categorical features: {categorical_features}')"
      ]
    },
    {
      "cell_type": "markdown",
      "metadata": {
        "id": "t3vL8sAc-G3y"
      },
      "source": [
        "##\n",
        "[Q2] Missing Values"
      ]
    },
    {
      "cell_type": "code",
      "execution_count": 10,
      "metadata": {
        "colab": {
          "base_uri": "https://localhost:8080/"
        },
        "id": "mxAMBVNP8gcu",
        "outputId": "23fc6678-92e3-4882-f8e3-8556996adb92"
      },
      "outputs": [
        {
          "name": "stdout",
          "output_type": "stream",
          "text": [
            "Features with missing values:\n",
            "BMI    8258\n",
            "dtype: int64\n"
          ]
        }
      ],
      "source": [
        "missing_values = train_data.isnull().sum()\n",
        "missing_features = missing_values[missing_values > 0]\n",
        "\n",
        "print('Features with missing values:')\n",
        "print(missing_features)"
      ]
    },
    {
      "cell_type": "code",
      "execution_count": 11,
      "metadata": {},
      "outputs": [
        {
          "name": "stdout",
          "output_type": "stream",
          "text": [
            "Proportion of Missing Values: BMI    4.195776\n",
            "dtype: float64\n"
          ]
        }
      ],
      "source": [
        "print(f'Proportion of Missing Values: {missing_features/num_instances * 100}')"
      ]
    },
    {
      "cell_type": "markdown",
      "metadata": {
        "id": "eEYhYgKJ96eC"
      },
      "source": [
        "Potential Impact: Having many missing values for \"BMI\" can hinder model performance due to loss of information, challenges in imputation, increased model complexity, and skewed evaluation metrics. Careful handling of these missing values is crucial for building a robust predictive model.\n",
        "\n"
      ]
    },
    {
      "cell_type": "markdown",
      "metadata": {
        "id": "xz0qmuVC-L5b"
      },
      "source": [
        "##\n",
        "[Q3] Feature Distribution"
      ]
    },
    {
      "cell_type": "markdown",
      "metadata": {
        "id": "RMixceeSGh0-"
      },
      "source": [
        "Determine the discrete and continous data"
      ]
    },
    {
      "cell_type": "code",
      "execution_count": 12,
      "metadata": {
        "colab": {
          "base_uri": "https://localhost:8080/"
        },
        "id": "FJfGdSPA-OVi",
        "outputId": "5063711d-9db7-46da-c663-7b0a14cc5271"
      },
      "outputs": [
        {
          "name": "stdout",
          "output_type": "stream",
          "text": [
            "Discrete Features: ['PhysicalHealthDays', 'MentalHealthDays']\n",
            "Continuous Features: ['BMI', 'Age', 'SleepHours']\n"
          ]
        }
      ],
      "source": [
        "discrete_features = ['PhysicalHealthDays', 'MentalHealthDays']\n",
        "continuous_features = ['BMI', 'Age', 'SleepHours']\n",
        "\n",
        "print(f'Discrete Features: {discrete_features}')\n",
        "print(f'Continuous Features: {continuous_features}')"
      ]
    },
    {
      "cell_type": "markdown",
      "metadata": {
        "id": "dZH3INhVGnJN"
      },
      "source": [
        "Describe the distribution"
      ]
    },
    {
      "cell_type": "code",
      "execution_count": 13,
      "metadata": {
        "colab": {
          "base_uri": "https://localhost:8080/",
          "height": 1000
        },
        "id": "MBF0K0u_GrzI",
        "outputId": "8353ef7d-7733-49b6-8791-7dafad550b3b"
      },
      "outputs": [
        {
          "name": "stdout",
          "output_type": "stream",
          "text": [
            "Descriptive statistics for BMI\n",
            "count     188559.000000\n",
            "mean          28.677420\n",
            "std            6.514538\n",
            "min           12.020000\n",
            "25%           24.280000\n",
            "50%           27.460000\n",
            "75%           31.890000\n",
            "max           97.650000\n",
            "range         85.630000\n",
            "median        27.460000\n",
            "Name: BMI, dtype: float64\n"
          ]
        },
        {
          "data": {
            "image/png": "[encoded data removed]",
            "text/plain": [
              "<Figure size 800x500 with 1 Axes>"
            ]
          },
          "metadata": {},
          "output_type": "display_data"
        },
        {
          "name": "stdout",
          "output_type": "stream",
          "text": [
            "Descriptive statistics for PhysicalHealthDays\n",
            "count     196817.000000\n",
            "mean           4.118486\n",
            "std            8.405127\n",
            "min            0.000000\n",
            "25%            0.000000\n",
            "50%            0.000000\n",
            "75%            3.000000\n",
            "max           30.000000\n",
            "range         30.000000\n",
            "median         0.000000\n",
            "Name: PhysicalHealthDays, dtype: float64\n"
          ]
        },
        {
          "data": {
            "image/png": "[encoded data removed]",
            "text/plain": [
              "<Figure size 800x500 with 1 Axes>"
            ]
          },
          "metadata": {},
          "output_type": "display_data"
        },
        {
          "name": "stdout",
          "output_type": "stream",
          "text": [
            "Descriptive statistics for SleepHours\n",
            "count     196817.000000\n",
            "mean           7.020466\n",
            "std            1.441551\n",
            "min            1.000000\n",
            "25%            6.000000\n",
            "50%            7.000000\n",
            "75%            8.000000\n",
            "max           24.000000\n",
            "range         23.000000\n",
            "median         7.000000\n",
            "Name: SleepHours, dtype: float64\n"
          ]
        },
        {
          "data": {
            "image/png": "[encoded data removed]",
            "text/plain": [
              "<Figure size 800x500 with 1 Axes>"
            ]
          },
          "metadata": {},
          "output_type": "display_data"
        },
        {
          "name": "stdout",
          "output_type": "stream",
          "text": [
            "Descriptive statistics for MentalHealthDays\n",
            "count     196817.000000\n",
            "mean           4.177403\n",
            "std            8.112694\n",
            "min            0.000000\n",
            "25%            0.000000\n",
            "50%            0.000000\n",
            "75%            4.000000\n",
            "max           30.000000\n",
            "range         30.000000\n",
            "median         0.000000\n",
            "Name: MentalHealthDays, dtype: float64\n"
          ]
        },
        {
          "data": {
            "image/png": "[encoded data removed]",
            "text/plain": [
              "<Figure size 800x500 with 1 Axes>"
            ]
          },
          "metadata": {},
          "output_type": "display_data"
        },
        {
          "name": "stdout",
          "output_type": "stream",
          "text": [
            "Descriptive statistics for Age\n",
            "count     196817.000000\n",
            "mean          55.750171\n",
            "std           17.551129\n",
            "min           18.600000\n",
            "25%           42.300000\n",
            "50%           57.500000\n",
            "75%           70.900000\n",
            "max           84.000000\n",
            "range         65.400000\n",
            "median        57.500000\n",
            "Name: Age, dtype: float64\n"
          ]
        },
        {
          "data": {
            "image/png": "[encoded data removed]",
            "text/plain": [
              "<Figure size 800x500 with 1 Axes>"
            ]
          },
          "metadata": {},
          "output_type": "display_data"
        }
      ],
      "source": [
        "description_df = pd.DataFrame()\n",
        "\n",
        "for feature in numerical_features:\n",
        "  #Descriptive Statistics\n",
        "  description = train_data[feature].describe()\n",
        "  description[\"range\"] = description.loc['max'] - description.loc['min']\n",
        "  description.loc['median'] = train_data[feature].median()\n",
        "  print(f'Descriptive statistics for {feature}')\n",
        "  description_df = pd.concat([description_df, pd.DataFrame(description).T])\n",
        "  print(description)\n",
        "\n",
        "  #Box Plot\n",
        "  plt.figure(figsize=(8, 5))\n",
        "  sns.boxplot(x=train_data[feature])\n",
        "  plt.title(f'Box Plot of {feature}')\n",
        "  plt.xlabel(feature)\n",
        "  plt.show()"
      ]
    },
    {
      "cell_type": "code",
      "execution_count": 14,
      "metadata": {},
      "outputs": [
        {
          "data": {
            "text/html": [
              "<div>\n",
              "<style scoped>\n",
              "    .dataframe tbody tr th:only-of-type {\n",
              "        vertical-align: middle;\n",
              "    }\n",
              "\n",
              "    .dataframe tbody tr th {\n",
              "        vertical-align: top;\n",
              "    }\n",
              "\n",
              "    .dataframe thead th {\n",
              "        text-align: right;\n",
              "    }\n",
              "</style>\n",
              "<table border=\"1\" class=\"dataframe\">\n",
              "  <thead>\n",
              "    <tr style=\"text-align: right;\">\n",
              "      <th></th>\n",
              "      <th>count</th>\n",
              "      <th>mean</th>\n",
              "      <th>std</th>\n",
              "      <th>min</th>\n",
              "      <th>25%</th>\n",
              "      <th>50%</th>\n",
              "      <th>75%</th>\n",
              "      <th>max</th>\n",
              "      <th>range</th>\n",
              "      <th>median</th>\n",
              "    </tr>\n",
              "  </thead>\n",
              "  <tbody>\n",
              "    <tr>\n",
              "      <th>BMI</th>\n",
              "      <td>188559.0</td>\n",
              "      <td>28.677420</td>\n",
              "      <td>6.514538</td>\n",
              "      <td>12.02</td>\n",
              "      <td>24.28</td>\n",
              "      <td>27.46</td>\n",
              "      <td>31.89</td>\n",
              "      <td>97.65</td>\n",
              "      <td>85.63</td>\n",
              "      <td>27.46</td>\n",
              "    </tr>\n",
              "    <tr>\n",
              "      <th>PhysicalHealthDays</th>\n",
              "      <td>196817.0</td>\n",
              "      <td>4.118486</td>\n",
              "      <td>8.405127</td>\n",
              "      <td>0.00</td>\n",
              "      <td>0.00</td>\n",
              "      <td>0.00</td>\n",
              "      <td>3.00</td>\n",
              "      <td>30.00</td>\n",
              "      <td>30.00</td>\n",
              "      <td>0.00</td>\n",
              "    </tr>\n",
              "    <tr>\n",
              "      <th>SleepHours</th>\n",
              "      <td>196817.0</td>\n",
              "      <td>7.020466</td>\n",
              "      <td>1.441551</td>\n",
              "      <td>1.00</td>\n",
              "      <td>6.00</td>\n",
              "      <td>7.00</td>\n",
              "      <td>8.00</td>\n",
              "      <td>24.00</td>\n",
              "      <td>23.00</td>\n",
              "      <td>7.00</td>\n",
              "    </tr>\n",
              "    <tr>\n",
              "      <th>MentalHealthDays</th>\n",
              "      <td>196817.0</td>\n",
              "      <td>4.177403</td>\n",
              "      <td>8.112694</td>\n",
              "      <td>0.00</td>\n",
              "      <td>0.00</td>\n",
              "      <td>0.00</td>\n",
              "      <td>4.00</td>\n",
              "      <td>30.00</td>\n",
              "      <td>30.00</td>\n",
              "      <td>0.00</td>\n",
              "    </tr>\n",
              "    <tr>\n",
              "      <th>Age</th>\n",
              "      <td>196817.0</td>\n",
              "      <td>55.750171</td>\n",
              "      <td>17.551129</td>\n",
              "      <td>18.60</td>\n",
              "      <td>42.30</td>\n",
              "      <td>57.50</td>\n",
              "      <td>70.90</td>\n",
              "      <td>84.00</td>\n",
              "      <td>65.40</td>\n",
              "      <td>57.50</td>\n",
              "    </tr>\n",
              "  </tbody>\n",
              "</table>\n",
              "</div>"
            ],
            "text/plain": [
              "                       count       mean        std    min    25%    50%  \\\n",
              "BMI                 188559.0  28.677420   6.514538  12.02  24.28  27.46   \n",
              "PhysicalHealthDays  196817.0   4.118486   8.405127   0.00   0.00   0.00   \n",
              "SleepHours          196817.0   7.020466   1.441551   1.00   6.00   7.00   \n",
              "MentalHealthDays    196817.0   4.177403   8.112694   0.00   0.00   0.00   \n",
              "Age                 196817.0  55.750171  17.551129  18.60  42.30  57.50   \n",
              "\n",
              "                      75%    max  range  median  \n",
              "BMI                 31.89  97.65  85.63   27.46  \n",
              "PhysicalHealthDays   3.00  30.00  30.00    0.00  \n",
              "SleepHours           8.00  24.00  23.00    7.00  \n",
              "MentalHealthDays     4.00  30.00  30.00    0.00  \n",
              "Age                 70.90  84.00  65.40   57.50  "
            ]
          },
          "execution_count": 14,
          "metadata": {},
          "output_type": "execute_result"
        }
      ],
      "source": [
        "description_df"
      ]
    },
    {
      "cell_type": "markdown",
      "metadata": {
        "id": "SCCtGJM7m3N0"
      },
      "source": [
        "Determining if Categorical Features are binary, nomial, or ordinal"
      ]
    },
    {
      "cell_type": "code",
      "execution_count": 15,
      "metadata": {
        "id": "HV4cD9_xnBQJ"
      },
      "outputs": [],
      "source": [
        "def is_binary(column):\n",
        "  unique_values = column.unique()\n",
        "  unique_values_count = len(unique_values)\n",
        "  if unique_values_count == 2:\n",
        "    return True"
      ]
    },
    {
      "cell_type": "code",
      "execution_count": 16,
      "metadata": {
        "id": "e4X8DoN1s71c"
      },
      "outputs": [
        {
          "name": "stderr",
          "output_type": "stream",
          "text": [
            "/var/folders/ws/lv24jr9s1cq05818pkc9rtgc0000gq/T/ipykernel_65031/2362719177.py:9: FutureWarning: Downcasting behavior in `replace` is deprecated and will be removed in a future version. To retain the old behavior, explicitly call `result.infer_objects(copy=False)`. To opt-in to the future behavior, set `pd.set_option('future.no_silent_downcasting', True)`\n",
            "  binary_df[binary_features] = binary_df[binary_features].replace({'Yes': 1, 'No': 0})\n",
            "/var/folders/ws/lv24jr9s1cq05818pkc9rtgc0000gq/T/ipykernel_65031/2362719177.py:10: FutureWarning: Downcasting behavior in `replace` is deprecated and will be removed in a future version. To retain the old behavior, explicitly call `result.infer_objects(copy=False)`. To opt-in to the future behavior, set `pd.set_option('future.no_silent_downcasting', True)`\n",
            "  binary_df[binary_features] = binary_df[binary_features].replace({'Male': 1, 'Female': 0}) # Standardize Male as 1 and Female as 0\n"
          ]
        }
      ],
      "source": [
        "binary_features = []\n",
        "\n",
        "for feature in categorical_features:\n",
        "  if is_binary(train_data[feature]):\n",
        "    binary_features.append(feature)\n",
        "\n",
        "#Change all binary data to 1 and 0\n",
        "binary_df = train_data.copy()\n",
        "binary_df[binary_features] = binary_df[binary_features].replace({'Yes': 1, 'No': 0})\n",
        "binary_df[binary_features] = binary_df[binary_features].replace({'Male': 1, 'Female': 0}) # Standardize Male as 1 and Female as 0"
      ]
    },
    {
      "cell_type": "code",
      "execution_count": 17,
      "metadata": {
        "colab": {
          "base_uri": "https://localhost:8080/"
        },
        "id": "rarMD2P_y1_P",
        "outputId": "c79ed148-0baa-4129-b74e-b3d13e147753"
      },
      "outputs": [
        {
          "name": "stdout",
          "output_type": "stream",
          "text": [
            "PneumoVaxEver\n",
            "[0 1]\n",
            "HadAngina\n",
            "[0 1]\n",
            "HadDepressiveDisorder\n",
            "[1 0]\n",
            "DifficultyConcentrating\n",
            "[0 1]\n",
            "BlindOrVisionDifficulty\n",
            "[0 1]\n",
            "HadSkinCancer\n",
            "[0 1]\n",
            "HighRiskLastYear\n",
            "[0 1]\n",
            "ChestScan\n",
            "[0 1]\n",
            "HadStroke\n",
            "[0 1]\n",
            "FluVaxLast12\n",
            "[0 1]\n",
            "Sex\n",
            "[1 0]\n",
            "HadKidneyDisease\n",
            "[0 1]\n",
            "AlcoholDrinkers\n",
            "[1 0]\n",
            "DeafOrHardOfHearing\n",
            "[0 1]\n",
            "HadAsthma\n",
            "[0 1]\n",
            "DifficultyWalking\n",
            "[0 1]\n",
            "HadCOPD\n",
            "[0 1]\n",
            "HadArthritis\n",
            "[0 1]\n",
            "DifficultyDressingBathing\n",
            "[0 1]\n",
            "HIVTesting\n",
            "[0 1]\n",
            "PhysicalActivities\n",
            "[1 0]\n",
            "DifficultyErrands\n",
            "[0 1]\n",
            "HadHeartAttack\n",
            "[0 1]\n"
          ]
        }
      ],
      "source": [
        "for feature in binary_features:\n",
        "  print(feature)\n",
        "  print(binary_df[feature].unique())"
      ]
    },
    {
      "cell_type": "code",
      "execution_count": 18,
      "metadata": {
        "colab": {
          "base_uri": "https://localhost:8080/"
        },
        "id": "uiariRxZtTOv",
        "outputId": "1ffce088-bbe8-4203-cb89-fe3a938a785a"
      },
      "outputs": [
        {
          "data": {
            "text/plain": [
              "{'CovidPos',\n",
              " 'ECigaretteUsage',\n",
              " 'GeneralHealth',\n",
              " 'HadDiabetes',\n",
              " 'LastCheckupTime',\n",
              " 'RaceEthnicityCategory',\n",
              " 'RemovedTeeth',\n",
              " 'SmokerStatus'}"
            ]
          },
          "execution_count": 18,
          "metadata": {},
          "output_type": "execute_result"
        }
      ],
      "source": [
        "remaining_features = set(categorical_features) - set(binary_features)\n",
        "remaining_features"
      ]
    },
    {
      "cell_type": "markdown",
      "metadata": {
        "id": "FhzW480Huavo"
      },
      "source": [
        "Now, lets look into each of these features to categorise them better"
      ]
    },
    {
      "cell_type": "code",
      "execution_count": 19,
      "metadata": {
        "colab": {
          "base_uri": "https://localhost:8080/"
        },
        "id": "xqSzdJHeudko",
        "outputId": "0908febc-1cae-4ace-9250-ff67cb6017d1"
      },
      "outputs": [
        {
          "name": "stdout",
          "output_type": "stream",
          "text": [
            "RemovedTeeth\n",
            "['0' '6 or more, but not all' 'All' '1 to 5']\n",
            "4\n",
            "SmokerStatus\n",
            "['Never smoked' 'Current smoker - now smokes every day' 'Former smoker'\n",
            " 'Current smoker - now smokes some days']\n",
            "4\n",
            "GeneralHealth\n",
            "['Very good' 'Fair' 'Excellent' 'Good' 'Poor']\n",
            "5\n",
            "HadDiabetes\n",
            "['No' 'Yes' 'Yes, but only during pregnancy (female)'\n",
            " 'No, pre-diabetes or borderline diabetes']\n",
            "4\n",
            "CovidPos\n",
            "['No' 'Yes'\n",
            " 'Tested positive using home test without a health professional']\n",
            "3\n",
            "LastCheckupTime\n",
            "['1 year but less than 2 years ago (Within past 2 years)'\n",
            " 'Within past year (anytime less than 12 months ago)'\n",
            " '5 or more years ago'\n",
            " '2 year but less than 5 years ago (Within past 5 years)']\n",
            "4\n",
            "RaceEthnicityCategory\n",
            "['White only, Non-Hispanic' 'Black only, Non-Hispanic' 'Hispanic'\n",
            " 'Multiracial, Non-Hispanic' 'Other race only, Non-Hispanic']\n",
            "5\n",
            "ECigaretteUsage\n",
            "['Never used e-cigarettes in my entire life' 'Not at all (right now)'\n",
            " 'Use them a few days' 'Use them every day']\n",
            "4\n"
          ]
        }
      ],
      "source": [
        "for feature in remaining_features:\n",
        "  print(feature)\n",
        "  print(binary_df[feature].unique())\n",
        "  print(binary_df[feature].nunique())"
      ]
    },
    {
      "cell_type": "markdown",
      "metadata": {
        "id": "5k2VY-xswDKb"
      },
      "source": [
        "From the above, it is clear that ECigaretteUsage, LastCheckupTime, RemovedTeeth, GeneralHealth, and SmokerStatus, HadDiabetes are ordial; The rest are nominal."
      ]
    },
    {
      "cell_type": "code",
      "execution_count": 20,
      "metadata": {
        "id": "TH4belBTujYR"
      },
      "outputs": [],
      "source": [
        "ordial_features = ['ECigaretteUsage', 'LastCheckupTime', 'RemovedTeeth', 'GeneralHealth', 'SmokerStatus', 'HadDiabetes']\n",
        "nominal_features = set(remaining_features) - set(ordial_features)\n",
        "nominal_features = list(nominal_features)"
      ]
    },
    {
      "cell_type": "code",
      "execution_count": 21,
      "metadata": {
        "colab": {
          "base_uri": "https://localhost:8080/"
        },
        "id": "pUFzUx1Uwx2T",
        "outputId": "f1a73afc-03bd-4017-f892-8342b2e72a3f"
      },
      "outputs": [
        {
          "data": {
            "text/plain": [
              "['CovidPos', 'RaceEthnicityCategory']"
            ]
          },
          "execution_count": 21,
          "metadata": {},
          "output_type": "execute_result"
        }
      ],
      "source": [
        "nominal_features"
      ]
    },
    {
      "cell_type": "code",
      "execution_count": 22,
      "metadata": {},
      "outputs": [
        {
          "data": {
            "text/plain": [
              "['PneumoVaxEver',\n",
              " 'HadAngina',\n",
              " 'HadDepressiveDisorder',\n",
              " 'DifficultyConcentrating',\n",
              " 'BlindOrVisionDifficulty',\n",
              " 'HadSkinCancer',\n",
              " 'HighRiskLastYear',\n",
              " 'ChestScan',\n",
              " 'HadStroke',\n",
              " 'FluVaxLast12',\n",
              " 'Sex',\n",
              " 'HadKidneyDisease',\n",
              " 'AlcoholDrinkers',\n",
              " 'DeafOrHardOfHearing',\n",
              " 'HadAsthma',\n",
              " 'DifficultyWalking',\n",
              " 'HadCOPD',\n",
              " 'HadArthritis',\n",
              " 'DifficultyDressingBathing',\n",
              " 'HIVTesting',\n",
              " 'PhysicalActivities',\n",
              " 'DifficultyErrands',\n",
              " 'HadHeartAttack']"
            ]
          },
          "execution_count": 22,
          "metadata": {},
          "output_type": "execute_result"
        }
      ],
      "source": [
        "binary_features"
      ]
    },
    {
      "cell_type": "markdown",
      "metadata": {
        "id": "KbkMyx1cx_SF"
      },
      "source": [
        "Describe two of the Categorical Features. The two selected features are Sex and AlcoholDrinkers."
      ]
    },
    {
      "cell_type": "code",
      "execution_count": 23,
      "metadata": {
        "colab": {
          "base_uri": "https://localhost:8080/",
          "height": 607
        },
        "id": "YNcy_MnnyB91",
        "outputId": "a5fb0d4f-3858-4192-eba7-1458498858a9"
      },
      "outputs": [
        {
          "name": "stdout",
          "output_type": "stream",
          "text": [
            "Sex: Sex\n",
            "Female    102192\n",
            "Male       94625\n",
            "Name: count, dtype: int64\n",
            "AlcoholDrinkers: AlcoholDrinkers\n",
            "Yes    108243\n",
            "No      88574\n",
            "Name: count, dtype: int64\n"
          ]
        },
        {
          "data": {
            "image/png": "[encoded data removed]",
            "text/plain": [
              "<Figure size 1200x600 with 2 Axes>"
            ]
          },
          "metadata": {},
          "output_type": "display_data"
        }
      ],
      "source": [
        "# Create a bar plot\n",
        "feature1_counts = train_data['Sex'].value_counts()\n",
        "feature2_counts = train_data['AlcoholDrinkers'].value_counts()\n",
        "\n",
        "print(f'Sex: {feature1_counts}')\n",
        "print(f'AlcoholDrinkers: {feature2_counts}')\n",
        "\n",
        "# Create subplots\n",
        "fig, axes = plt.subplots(1, 2, figsize=(12, 6))\n",
        "\n",
        "# Bar plot for Feature1\n",
        "sns.barplot(x=feature1_counts.index, y=feature1_counts.values, ax=axes[0])\n",
        "axes[0].set_title('Count of Sex')\n",
        "axes[0].set_xlabel('Sex')\n",
        "axes[0].set_ylabel('Count')\n",
        "\n",
        "# Bar plot for Feature2\n",
        "sns.barplot(x=feature2_counts.index, y=feature2_counts.values, ax=axes[1])\n",
        "axes[1].set_title('Count of AlcoholDrinkers')\n",
        "axes[1].set_xlabel('AlcoholDrinkers')\n",
        "axes[1].set_ylabel('Count')\n",
        "\n",
        "# Adjust layout\n",
        "plt.tight_layout()\n",
        "\n",
        "# Show the plots\n",
        "plt.show()"
      ]
    },
    {
      "cell_type": "markdown",
      "metadata": {
        "id": "3DUpx3mmzWot"
      },
      "source": [
        "## [Q4] Correlation Analysis"
      ]
    },
    {
      "cell_type": "code",
      "execution_count": 24,
      "metadata": {
        "colab": {
          "base_uri": "https://localhost:8080/",
          "height": 667
        },
        "id": "phhXwT13zbYQ",
        "outputId": "abfce0f5-e3cf-4ba5-cc62-d5830cd1e529"
      },
      "outputs": [
        {
          "data": {
            "image/png": "[encoded data removed]",
            "text/plain": [
              "<Figure size 800x600 with 2 Axes>"
            ]
          },
          "metadata": {},
          "output_type": "display_data"
        }
      ],
      "source": [
        "numerical_data = binary_df[numerical_features]\n",
        "correlation_matrix = numerical_data.corr()\n",
        "\n",
        "plt.figure(figsize=(8, 6))\n",
        "sns.heatmap(correlation_matrix, annot=True, fmt=\".2f\", cmap='coolwarm', square=True, cbar_kws={\"shrink\": .8})\n",
        "plt.title('Correlation Heatmap')\n",
        "plt.show()"
      ]
    },
    {
      "cell_type": "markdown",
      "metadata": {
        "id": "hDc_uIqy1NTN"
      },
      "source": [
        "The strongest correlation is MentalHealthDays and PhysicalHealthDays."
      ]
    },
    {
      "cell_type": "markdown",
      "metadata": {
        "id": "N-ow4dSJ2Ltb"
      },
      "source": [
        "# Data Preprocessing Techniques"
      ]
    },
    {
      "cell_type": "markdown",
      "metadata": {
        "id": "CHG5VMIb2Slj"
      },
      "source": [
        "## [Q5] Handling Missing Values\n"
      ]
    },
    {
      "cell_type": "code",
      "execution_count": 25,
      "metadata": {
        "id": "HefXcyrG2PoF"
      },
      "outputs": [],
      "source": [
        "def impute_df(df, strategy, feature):\n",
        "  imputer = SimpleImputer(strategy=strategy)\n",
        "  imputed_feature = imputer.fit_transform(df[[feature]])\n",
        "\n",
        "  imputed_df = df.copy()\n",
        "  imputed_df[feature] = imputed_feature\n",
        "  return imputed_df"
      ]
    },
    {
      "cell_type": "code",
      "execution_count": 26,
      "metadata": {
        "colab": {
          "base_uri": "https://localhost:8080/"
        },
        "id": "vXctcyhVR0zm",
        "outputId": "f470f9e5-20c2-42f3-c18f-49379885878b"
      },
      "outputs": [
        {
          "name": "stdout",
          "output_type": "stream",
          "text": [
            "Features with missing values:\n",
            "Series([], dtype: int64)\n"
          ]
        }
      ],
      "source": [
        "imputed_df = impute_df(binary_df, strategy = 'median', feature = 'BMI')\n",
        "\n",
        "missing_values = imputed_df.isnull().sum()\n",
        "missing_features = missing_values[missing_values > 0]\n",
        "\n",
        "print('Features with missing values:')\n",
        "print(missing_features)"
      ]
    },
    {
      "cell_type": "markdown",
      "metadata": {
        "id": "4mRAdv9OUfa5"
      },
      "source": [
        "There are several strategies that can be used to handle the missing values. The strategies depend on the type of data we are dealing with.\n",
        "- Mean can used when the data is normally distributed, and does not contain outliers. This is because the mean is sensitive to outliers, which could skew the results\n",
        "- Median is used when there are outliers (such as our dataset for BMI according to Q3) as the median can robust to outliers and provides central tendancies\n",
        "- Mode can used for categorical data or when there is frequent occuerences to help preserve the common data.\n",
        "- Constant can be used to indicate special circumstances (such as using 0 for NA), and also when you want to maintain the same data\n",
        "\n",
        "These are common reaasons, but at the end of the day, it really depends on the distribution, presence of outliers, nature of the data, and relationship between features"
      ]
    },
    {
      "cell_type": "markdown",
      "metadata": {
        "id": "k7KxYyVkW0H2"
      },
      "source": [
        "## [Q6] Normalization and Standarization"
      ]
    },
    {
      "cell_type": "markdown",
      "metadata": {
        "id": "bjkqAkNdX5M_"
      },
      "source": [
        "First 10 samples before processing"
      ]
    },
    {
      "cell_type": "markdown",
      "metadata": {},
      "source": [
        "*Reference 2.1*"
      ]
    },
    {
      "cell_type": "code",
      "execution_count": 142,
      "metadata": {
        "colab": {
          "base_uri": "https://localhost:8080/",
          "height": 363
        },
        "id": "05Urljk3WxWE",
        "outputId": "34cd22d5-6a7b-4588-dc3e-356ab393fccd"
      },
      "outputs": [
        {
          "data": {
            "text/plain": [
              "0    25.10\n",
              "1    22.60\n",
              "2    33.45\n",
              "3    23.11\n",
              "4    32.89\n",
              "5    20.18\n",
              "6    32.49\n",
              "7    24.33\n",
              "8    35.44\n",
              "9    21.77\n",
              "Name: BMI, dtype: float64"
            ]
          },
          "execution_count": 142,
          "metadata": {},
          "output_type": "execute_result"
        }
      ],
      "source": [
        "imputed_df['BMI'].head(10)"
      ]
    },
    {
      "cell_type": "markdown",
      "metadata": {
        "id": "FsComCyYX8WR"
      },
      "source": [
        "Checking if any of the variables are normally distributed to decide how to normalise the features"
      ]
    },
    {
      "cell_type": "markdown",
      "metadata": {},
      "source": [
        "*Reference 2.2*"
      ]
    },
    {
      "cell_type": "code",
      "execution_count": 28,
      "metadata": {
        "colab": {
          "base_uri": "https://localhost:8080/"
        },
        "id": "rBFE4XCxXRD4",
        "outputId": "dc35b820-5bd7-4e2c-8d6a-9d35ee3df558"
      },
      "outputs": [
        {
          "name": "stdout",
          "output_type": "stream",
          "text": [
            "Shapiro-Wilk Test Statistic: 0.9233228352634206\n",
            "p-value: 6.053130381162741e-119\n",
            "Shapiro-Wilk Test Statistic: 0.5441036103542574\n",
            "p-value: 3.815809667888534e-175\n",
            "Shapiro-Wilk Test Statistic: 0.8948201574465516\n",
            "p-value: 4.154979309816149e-128\n",
            "Shapiro-Wilk Test Statistic: 0.5752464925381643\n",
            "p-value: 1.0509947302943556e-172\n",
            "Shapiro-Wilk Test Statistic: 0.9554270253326635\n",
            "p-value: 5.0685270314298055e-104\n"
          ]
        },
        {
          "name": "stderr",
          "output_type": "stream",
          "text": [
            "/var/folders/ws/lv24jr9s1cq05818pkc9rtgc0000gq/T/ipykernel_65031/2371730630.py:5: UserWarning: scipy.stats.shapiro: For N > 5000, computed p-value may not be accurate. Current N is 196817.\n",
            "  stat, p_value = shapiro(imputed_df[feature])\n"
          ]
        },
        {
          "data": {
            "text/plain": [
              "[('BMI', False),\n",
              " ('PhysicalHealthDays', False),\n",
              " ('SleepHours', False),\n",
              " ('MentalHealthDays', False),\n",
              " ('Age', False)]"
            ]
          },
          "execution_count": 28,
          "metadata": {},
          "output_type": "execute_result"
        }
      ],
      "source": [
        "from scipy.stats import shapiro\n",
        "normally_distributed = []\n",
        "\n",
        "for feature in numerical_features:\n",
        "  stat, p_value = shapiro(imputed_df[feature])\n",
        "  print('Shapiro-Wilk Test Statistic:', stat)\n",
        "  print('p-value:', p_value)\n",
        "\n",
        "  if p_value > 0.05:\n",
        "      normally_distributed.append((feature, True))\n",
        "  else:\n",
        "      normally_distributed.append((feature, False))\n",
        "\n",
        "normally_distributed\n"
      ]
    },
    {
      "cell_type": "code",
      "execution_count": 29,
      "metadata": {
        "colab": {
          "base_uri": "https://localhost:8080/"
        },
        "id": "dUrPRP6shFwd",
        "outputId": "f126b2c8-756c-4584-aff0-1378f46a9b11"
      },
      "outputs": [
        {
          "data": {
            "text/plain": [
              "['BMI', 'PhysicalHealthDays', 'SleepHours', 'MentalHealthDays', 'Age']"
            ]
          },
          "execution_count": 29,
          "metadata": {},
          "output_type": "execute_result"
        }
      ],
      "source": [
        "numerical_features"
      ]
    },
    {
      "cell_type": "markdown",
      "metadata": {},
      "source": [
        "*Reference 2.3*"
      ]
    },
    {
      "cell_type": "code",
      "execution_count": 145,
      "metadata": {
        "colab": {
          "base_uri": "https://localhost:8080/",
          "height": 363
        },
        "id": "5iZeXcBpeUyQ",
        "outputId": "5bf984a0-d2ac-4114-f899-aeb5620197c2"
      },
      "outputs": [
        {
          "data": {
            "text/plain": [
              "0   -0.326418\n",
              "1   -0.672199\n",
              "2    0.828492\n",
              "3   -0.601660\n",
              "4    0.751037\n",
              "5   -1.006916\n",
              "6    0.695712\n",
              "7   -0.432918\n",
              "8    1.103734\n",
              "9   -0.786999\n",
              "Name: BMI, dtype: float64"
            ]
          },
          "execution_count": 145,
          "metadata": {},
          "output_type": "execute_result"
        }
      ],
      "source": [
        "from sklearn.preprocessing import RobustScaler\n",
        "\n",
        "numerical_features_without_age = list(numerical_features)\n",
        "numerical_features_without_age.remove('Age')\n",
        "\n",
        "normalized_df = pd.DataFrame()\n",
        "\n",
        "normalized_df = pd.DataFrame()\n",
        "robust_scaler = RobustScaler()\n",
        "scaled_data = robust_scaler.fit_transform(imputed_df[numerical_features_without_age])\n",
        "\n",
        "normalized_df[numerical_features_without_age] = scaled_data\n",
        "normalized_df['Age'] = imputed_df[['Age']]\n",
        "normalized_df['BMI'].head(10)"
      ]
    },
    {
      "cell_type": "markdown",
      "metadata": {
        "id": "8-YdvwlHfIwC"
      },
      "source": [
        "- StandardScale: used when normally distributed data, algo is sensitive to mean/variance. Scales features to mean 0,unit variance\n",
        "- MinMaxScalar: used when known bounds, scales features to range of [0,1]\n",
        "- RobustScalar: used with data with outliers, non-normally distributed data, centers data around the median"
      ]
    },
    {
      "cell_type": "markdown",
      "metadata": {
        "id": "agaz2fq_l_nx"
      },
      "source": [
        "## [Q7] Encoding Categorical Variables"
      ]
    },
    {
      "cell_type": "markdown",
      "metadata": {},
      "source": [
        "*Reference 2.4* Dataframe before any encoding"
      ]
    },
    {
      "cell_type": "code",
      "execution_count": 147,
      "metadata": {},
      "outputs": [
        {
          "data": {
            "text/html": [
              "<div>\n",
              "<style scoped>\n",
              "    .dataframe tbody tr th:only-of-type {\n",
              "        vertical-align: middle;\n",
              "    }\n",
              "\n",
              "    .dataframe tbody tr th {\n",
              "        vertical-align: top;\n",
              "    }\n",
              "\n",
              "    .dataframe thead th {\n",
              "        text-align: right;\n",
              "    }\n",
              "</style>\n",
              "<table border=\"1\" class=\"dataframe\">\n",
              "  <thead>\n",
              "    <tr style=\"text-align: right;\">\n",
              "      <th></th>\n",
              "      <th>RaceEthnicityCategory</th>\n",
              "      <th>PneumoVaxEver</th>\n",
              "      <th>LastCheckupTime</th>\n",
              "      <th>SmokerStatus</th>\n",
              "      <th>HadAngina</th>\n",
              "      <th>HadDepressiveDisorder</th>\n",
              "      <th>DifficultyConcentrating</th>\n",
              "      <th>RemovedTeeth</th>\n",
              "      <th>BlindOrVisionDifficulty</th>\n",
              "      <th>GeneralHealth</th>\n",
              "      <th>...</th>\n",
              "      <th>DifficultyWalking</th>\n",
              "      <th>HadCOPD</th>\n",
              "      <th>MentalHealthDays</th>\n",
              "      <th>HadArthritis</th>\n",
              "      <th>DifficultyDressingBathing</th>\n",
              "      <th>HIVTesting</th>\n",
              "      <th>PhysicalActivities</th>\n",
              "      <th>DifficultyErrands</th>\n",
              "      <th>Age</th>\n",
              "      <th>HadHeartAttack</th>\n",
              "    </tr>\n",
              "  </thead>\n",
              "  <tbody>\n",
              "    <tr>\n",
              "      <th>0</th>\n",
              "      <td>White only, Non-Hispanic</td>\n",
              "      <td>0</td>\n",
              "      <td>1 year but less than 2 years ago (Within past ...</td>\n",
              "      <td>Never smoked</td>\n",
              "      <td>0</td>\n",
              "      <td>1</td>\n",
              "      <td>0</td>\n",
              "      <td>0</td>\n",
              "      <td>0</td>\n",
              "      <td>Very good</td>\n",
              "      <td>...</td>\n",
              "      <td>0</td>\n",
              "      <td>0</td>\n",
              "      <td>15.0</td>\n",
              "      <td>0</td>\n",
              "      <td>0</td>\n",
              "      <td>0</td>\n",
              "      <td>1</td>\n",
              "      <td>0</td>\n",
              "      <td>41.9</td>\n",
              "      <td>0</td>\n",
              "    </tr>\n",
              "    <tr>\n",
              "      <th>1</th>\n",
              "      <td>White only, Non-Hispanic</td>\n",
              "      <td>0</td>\n",
              "      <td>Within past year (anytime less than 12 months ...</td>\n",
              "      <td>Current smoker - now smokes every day</td>\n",
              "      <td>0</td>\n",
              "      <td>1</td>\n",
              "      <td>0</td>\n",
              "      <td>6 or more, but not all</td>\n",
              "      <td>0</td>\n",
              "      <td>Fair</td>\n",
              "      <td>...</td>\n",
              "      <td>0</td>\n",
              "      <td>0</td>\n",
              "      <td>0.0</td>\n",
              "      <td>0</td>\n",
              "      <td>0</td>\n",
              "      <td>1</td>\n",
              "      <td>1</td>\n",
              "      <td>1</td>\n",
              "      <td>42.3</td>\n",
              "      <td>0</td>\n",
              "    </tr>\n",
              "    <tr>\n",
              "      <th>2</th>\n",
              "      <td>White only, Non-Hispanic</td>\n",
              "      <td>1</td>\n",
              "      <td>Within past year (anytime less than 12 months ...</td>\n",
              "      <td>Former smoker</td>\n",
              "      <td>0</td>\n",
              "      <td>0</td>\n",
              "      <td>0</td>\n",
              "      <td>0</td>\n",
              "      <td>0</td>\n",
              "      <td>Fair</td>\n",
              "      <td>...</td>\n",
              "      <td>1</td>\n",
              "      <td>0</td>\n",
              "      <td>0.0</td>\n",
              "      <td>1</td>\n",
              "      <td>0</td>\n",
              "      <td>0</td>\n",
              "      <td>0</td>\n",
              "      <td>1</td>\n",
              "      <td>66.3</td>\n",
              "      <td>0</td>\n",
              "    </tr>\n",
              "    <tr>\n",
              "      <th>3</th>\n",
              "      <td>White only, Non-Hispanic</td>\n",
              "      <td>0</td>\n",
              "      <td>Within past year (anytime less than 12 months ...</td>\n",
              "      <td>Never smoked</td>\n",
              "      <td>0</td>\n",
              "      <td>0</td>\n",
              "      <td>0</td>\n",
              "      <td>0</td>\n",
              "      <td>0</td>\n",
              "      <td>Excellent</td>\n",
              "      <td>...</td>\n",
              "      <td>0</td>\n",
              "      <td>0</td>\n",
              "      <td>0.0</td>\n",
              "      <td>0</td>\n",
              "      <td>0</td>\n",
              "      <td>1</td>\n",
              "      <td>1</td>\n",
              "      <td>0</td>\n",
              "      <td>32.3</td>\n",
              "      <td>0</td>\n",
              "    </tr>\n",
              "    <tr>\n",
              "      <th>4</th>\n",
              "      <td>White only, Non-Hispanic</td>\n",
              "      <td>0</td>\n",
              "      <td>Within past year (anytime less than 12 months ...</td>\n",
              "      <td>Former smoker</td>\n",
              "      <td>1</td>\n",
              "      <td>0</td>\n",
              "      <td>1</td>\n",
              "      <td>All</td>\n",
              "      <td>1</td>\n",
              "      <td>Fair</td>\n",
              "      <td>...</td>\n",
              "      <td>1</td>\n",
              "      <td>0</td>\n",
              "      <td>15.0</td>\n",
              "      <td>1</td>\n",
              "      <td>0</td>\n",
              "      <td>0</td>\n",
              "      <td>0</td>\n",
              "      <td>0</td>\n",
              "      <td>71.4</td>\n",
              "      <td>1</td>\n",
              "    </tr>\n",
              "    <tr>\n",
              "      <th>...</th>\n",
              "      <td>...</td>\n",
              "      <td>...</td>\n",
              "      <td>...</td>\n",
              "      <td>...</td>\n",
              "      <td>...</td>\n",
              "      <td>...</td>\n",
              "      <td>...</td>\n",
              "      <td>...</td>\n",
              "      <td>...</td>\n",
              "      <td>...</td>\n",
              "      <td>...</td>\n",
              "      <td>...</td>\n",
              "      <td>...</td>\n",
              "      <td>...</td>\n",
              "      <td>...</td>\n",
              "      <td>...</td>\n",
              "      <td>...</td>\n",
              "      <td>...</td>\n",
              "      <td>...</td>\n",
              "      <td>...</td>\n",
              "      <td>...</td>\n",
              "    </tr>\n",
              "    <tr>\n",
              "      <th>196812</th>\n",
              "      <td>White only, Non-Hispanic</td>\n",
              "      <td>1</td>\n",
              "      <td>Within past year (anytime less than 12 months ...</td>\n",
              "      <td>Current smoker - now smokes every day</td>\n",
              "      <td>0</td>\n",
              "      <td>0</td>\n",
              "      <td>0</td>\n",
              "      <td>1 to 5</td>\n",
              "      <td>0</td>\n",
              "      <td>Good</td>\n",
              "      <td>...</td>\n",
              "      <td>0</td>\n",
              "      <td>0</td>\n",
              "      <td>0.0</td>\n",
              "      <td>0</td>\n",
              "      <td>0</td>\n",
              "      <td>0</td>\n",
              "      <td>0</td>\n",
              "      <td>0</td>\n",
              "      <td>72.8</td>\n",
              "      <td>0</td>\n",
              "    </tr>\n",
              "    <tr>\n",
              "      <th>196813</th>\n",
              "      <td>White only, Non-Hispanic</td>\n",
              "      <td>0</td>\n",
              "      <td>Within past year (anytime less than 12 months ...</td>\n",
              "      <td>Never smoked</td>\n",
              "      <td>0</td>\n",
              "      <td>0</td>\n",
              "      <td>0</td>\n",
              "      <td>0</td>\n",
              "      <td>0</td>\n",
              "      <td>Excellent</td>\n",
              "      <td>...</td>\n",
              "      <td>0</td>\n",
              "      <td>0</td>\n",
              "      <td>0.0</td>\n",
              "      <td>0</td>\n",
              "      <td>0</td>\n",
              "      <td>1</td>\n",
              "      <td>1</td>\n",
              "      <td>0</td>\n",
              "      <td>47.2</td>\n",
              "      <td>0</td>\n",
              "    </tr>\n",
              "    <tr>\n",
              "      <th>196814</th>\n",
              "      <td>White only, Non-Hispanic</td>\n",
              "      <td>0</td>\n",
              "      <td>1 year but less than 2 years ago (Within past ...</td>\n",
              "      <td>Never smoked</td>\n",
              "      <td>0</td>\n",
              "      <td>0</td>\n",
              "      <td>0</td>\n",
              "      <td>1 to 5</td>\n",
              "      <td>0</td>\n",
              "      <td>Good</td>\n",
              "      <td>...</td>\n",
              "      <td>1</td>\n",
              "      <td>0</td>\n",
              "      <td>0.0</td>\n",
              "      <td>0</td>\n",
              "      <td>0</td>\n",
              "      <td>0</td>\n",
              "      <td>0</td>\n",
              "      <td>0</td>\n",
              "      <td>67.3</td>\n",
              "      <td>0</td>\n",
              "    </tr>\n",
              "    <tr>\n",
              "      <th>196815</th>\n",
              "      <td>White only, Non-Hispanic</td>\n",
              "      <td>1</td>\n",
              "      <td>Within past year (anytime less than 12 months ...</td>\n",
              "      <td>Never smoked</td>\n",
              "      <td>0</td>\n",
              "      <td>0</td>\n",
              "      <td>0</td>\n",
              "      <td>1 to 5</td>\n",
              "      <td>0</td>\n",
              "      <td>Very good</td>\n",
              "      <td>...</td>\n",
              "      <td>0</td>\n",
              "      <td>0</td>\n",
              "      <td>1.0</td>\n",
              "      <td>1</td>\n",
              "      <td>0</td>\n",
              "      <td>0</td>\n",
              "      <td>1</td>\n",
              "      <td>0</td>\n",
              "      <td>72.5</td>\n",
              "      <td>0</td>\n",
              "    </tr>\n",
              "    <tr>\n",
              "      <th>196816</th>\n",
              "      <td>White only, Non-Hispanic</td>\n",
              "      <td>1</td>\n",
              "      <td>1 year but less than 2 years ago (Within past ...</td>\n",
              "      <td>Former smoker</td>\n",
              "      <td>0</td>\n",
              "      <td>0</td>\n",
              "      <td>0</td>\n",
              "      <td>1 to 5</td>\n",
              "      <td>0</td>\n",
              "      <td>Good</td>\n",
              "      <td>...</td>\n",
              "      <td>0</td>\n",
              "      <td>0</td>\n",
              "      <td>30.0</td>\n",
              "      <td>0</td>\n",
              "      <td>0</td>\n",
              "      <td>0</td>\n",
              "      <td>1</td>\n",
              "      <td>0</td>\n",
              "      <td>52.4</td>\n",
              "      <td>0</td>\n",
              "    </tr>\n",
              "  </tbody>\n",
              "</table>\n",
              "<p>196817 rows × 36 columns</p>\n",
              "</div>"
            ],
            "text/plain": [
              "           RaceEthnicityCategory  PneumoVaxEver  \\\n",
              "0       White only, Non-Hispanic              0   \n",
              "1       White only, Non-Hispanic              0   \n",
              "2       White only, Non-Hispanic              1   \n",
              "3       White only, Non-Hispanic              0   \n",
              "4       White only, Non-Hispanic              0   \n",
              "...                          ...            ...   \n",
              "196812  White only, Non-Hispanic              1   \n",
              "196813  White only, Non-Hispanic              0   \n",
              "196814  White only, Non-Hispanic              0   \n",
              "196815  White only, Non-Hispanic              1   \n",
              "196816  White only, Non-Hispanic              1   \n",
              "\n",
              "                                          LastCheckupTime  \\\n",
              "0       1 year but less than 2 years ago (Within past ...   \n",
              "1       Within past year (anytime less than 12 months ...   \n",
              "2       Within past year (anytime less than 12 months ...   \n",
              "3       Within past year (anytime less than 12 months ...   \n",
              "4       Within past year (anytime less than 12 months ...   \n",
              "...                                                   ...   \n",
              "196812  Within past year (anytime less than 12 months ...   \n",
              "196813  Within past year (anytime less than 12 months ...   \n",
              "196814  1 year but less than 2 years ago (Within past ...   \n",
              "196815  Within past year (anytime less than 12 months ...   \n",
              "196816  1 year but less than 2 years ago (Within past ...   \n",
              "\n",
              "                                 SmokerStatus  HadAngina  \\\n",
              "0                                Never smoked          0   \n",
              "1       Current smoker - now smokes every day          0   \n",
              "2                               Former smoker          0   \n",
              "3                                Never smoked          0   \n",
              "4                               Former smoker          1   \n",
              "...                                       ...        ...   \n",
              "196812  Current smoker - now smokes every day          0   \n",
              "196813                           Never smoked          0   \n",
              "196814                           Never smoked          0   \n",
              "196815                           Never smoked          0   \n",
              "196816                          Former smoker          0   \n",
              "\n",
              "        HadDepressiveDisorder  DifficultyConcentrating  \\\n",
              "0                           1                        0   \n",
              "1                           1                        0   \n",
              "2                           0                        0   \n",
              "3                           0                        0   \n",
              "4                           0                        1   \n",
              "...                       ...                      ...   \n",
              "196812                      0                        0   \n",
              "196813                      0                        0   \n",
              "196814                      0                        0   \n",
              "196815                      0                        0   \n",
              "196816                      0                        0   \n",
              "\n",
              "                  RemovedTeeth  BlindOrVisionDifficulty GeneralHealth  ...  \\\n",
              "0                            0                        0     Very good  ...   \n",
              "1       6 or more, but not all                        0          Fair  ...   \n",
              "2                            0                        0          Fair  ...   \n",
              "3                            0                        0     Excellent  ...   \n",
              "4                          All                        1          Fair  ...   \n",
              "...                        ...                      ...           ...  ...   \n",
              "196812                  1 to 5                        0          Good  ...   \n",
              "196813                       0                        0     Excellent  ...   \n",
              "196814                  1 to 5                        0          Good  ...   \n",
              "196815                  1 to 5                        0     Very good  ...   \n",
              "196816                  1 to 5                        0          Good  ...   \n",
              "\n",
              "        DifficultyWalking  HadCOPD MentalHealthDays  HadArthritis  \\\n",
              "0                       0        0             15.0             0   \n",
              "1                       0        0              0.0             0   \n",
              "2                       1        0              0.0             1   \n",
              "3                       0        0              0.0             0   \n",
              "4                       1        0             15.0             1   \n",
              "...                   ...      ...              ...           ...   \n",
              "196812                  0        0              0.0             0   \n",
              "196813                  0        0              0.0             0   \n",
              "196814                  1        0              0.0             0   \n",
              "196815                  0        0              1.0             1   \n",
              "196816                  0        0             30.0             0   \n",
              "\n",
              "        DifficultyDressingBathing  HIVTesting  PhysicalActivities  \\\n",
              "0                               0           0                   1   \n",
              "1                               0           1                   1   \n",
              "2                               0           0                   0   \n",
              "3                               0           1                   1   \n",
              "4                               0           0                   0   \n",
              "...                           ...         ...                 ...   \n",
              "196812                          0           0                   0   \n",
              "196813                          0           1                   1   \n",
              "196814                          0           0                   0   \n",
              "196815                          0           0                   1   \n",
              "196816                          0           0                   1   \n",
              "\n",
              "       DifficultyErrands   Age  HadHeartAttack  \n",
              "0                      0  41.9               0  \n",
              "1                      1  42.3               0  \n",
              "2                      1  66.3               0  \n",
              "3                      0  32.3               0  \n",
              "4                      0  71.4               1  \n",
              "...                  ...   ...             ...  \n",
              "196812                 0  72.8               0  \n",
              "196813                 0  47.2               0  \n",
              "196814                 0  67.3               0  \n",
              "196815                 0  72.5               0  \n",
              "196816                 0  52.4               0  \n",
              "\n",
              "[196817 rows x 36 columns]"
            ]
          },
          "execution_count": 147,
          "metadata": {},
          "output_type": "execute_result"
        }
      ],
      "source": [
        "imputed_df"
      ]
    },
    {
      "cell_type": "markdown",
      "metadata": {
        "id": "joroPyWxTZEG"
      },
      "source": [
        "Dealing with OrdinalEncoder data by understanding the datatype"
      ]
    },
    {
      "cell_type": "code",
      "execution_count": 31,
      "metadata": {
        "colab": {
          "base_uri": "https://localhost:8080/"
        },
        "id": "nbDu3l6BmA8w",
        "outputId": "d1b1913a-84d6-4343-ad4c-dc76f2f71e66"
      },
      "outputs": [
        {
          "name": "stdout",
          "output_type": "stream",
          "text": [
            "ECigaretteUsage\n",
            "['Never used e-cigarettes in my entire life' 'Not at all (right now)'\n",
            " 'Use them a few days' 'Use them every day']\n",
            "LastCheckupTime\n",
            "['1 year but less than 2 years ago (Within past 2 years)'\n",
            " 'Within past year (anytime less than 12 months ago)'\n",
            " '5 or more years ago'\n",
            " '2 year but less than 5 years ago (Within past 5 years)']\n",
            "RemovedTeeth\n",
            "['0' '6 or more, but not all' 'All' '1 to 5']\n",
            "GeneralHealth\n",
            "['Very good' 'Fair' 'Excellent' 'Good' 'Poor']\n",
            "SmokerStatus\n",
            "['Never smoked' 'Current smoker - now smokes every day' 'Former smoker'\n",
            " 'Current smoker - now smokes some days']\n",
            "HadDiabetes\n",
            "['No' 'Yes' 'Yes, but only during pregnancy (female)'\n",
            " 'No, pre-diabetes or borderline diabetes']\n"
          ]
        }
      ],
      "source": [
        "for feature in ordial_features:\n",
        "  print(feature)\n",
        "  print(imputed_df[feature].unique())"
      ]
    },
    {
      "cell_type": "markdown",
      "metadata": {},
      "source": [
        "Top 10 ordial data before processing"
      ]
    },
    {
      "cell_type": "markdown",
      "metadata": {},
      "source": [
        "*Reference 2.5*"
      ]
    },
    {
      "cell_type": "code",
      "execution_count": 32,
      "metadata": {},
      "outputs": [
        {
          "data": {
            "text/html": [
              "<div>\n",
              "<style scoped>\n",
              "    .dataframe tbody tr th:only-of-type {\n",
              "        vertical-align: middle;\n",
              "    }\n",
              "\n",
              "    .dataframe tbody tr th {\n",
              "        vertical-align: top;\n",
              "    }\n",
              "\n",
              "    .dataframe thead th {\n",
              "        text-align: right;\n",
              "    }\n",
              "</style>\n",
              "<table border=\"1\" class=\"dataframe\">\n",
              "  <thead>\n",
              "    <tr style=\"text-align: right;\">\n",
              "      <th></th>\n",
              "      <th>ECigaretteUsage</th>\n",
              "      <th>LastCheckupTime</th>\n",
              "      <th>RemovedTeeth</th>\n",
              "      <th>GeneralHealth</th>\n",
              "      <th>SmokerStatus</th>\n",
              "      <th>HadDiabetes</th>\n",
              "    </tr>\n",
              "  </thead>\n",
              "  <tbody>\n",
              "    <tr>\n",
              "      <th>0</th>\n",
              "      <td>Never used e-cigarettes in my entire life</td>\n",
              "      <td>1 year but less than 2 years ago (Within past ...</td>\n",
              "      <td>0</td>\n",
              "      <td>Very good</td>\n",
              "      <td>Never smoked</td>\n",
              "      <td>No</td>\n",
              "    </tr>\n",
              "    <tr>\n",
              "      <th>1</th>\n",
              "      <td>Not at all (right now)</td>\n",
              "      <td>Within past year (anytime less than 12 months ...</td>\n",
              "      <td>6 or more, but not all</td>\n",
              "      <td>Fair</td>\n",
              "      <td>Current smoker - now smokes every day</td>\n",
              "      <td>No</td>\n",
              "    </tr>\n",
              "    <tr>\n",
              "      <th>2</th>\n",
              "      <td>Never used e-cigarettes in my entire life</td>\n",
              "      <td>Within past year (anytime less than 12 months ...</td>\n",
              "      <td>0</td>\n",
              "      <td>Fair</td>\n",
              "      <td>Former smoker</td>\n",
              "      <td>Yes</td>\n",
              "    </tr>\n",
              "    <tr>\n",
              "      <th>3</th>\n",
              "      <td>Never used e-cigarettes in my entire life</td>\n",
              "      <td>Within past year (anytime less than 12 months ...</td>\n",
              "      <td>0</td>\n",
              "      <td>Excellent</td>\n",
              "      <td>Never smoked</td>\n",
              "      <td>No</td>\n",
              "    </tr>\n",
              "    <tr>\n",
              "      <th>4</th>\n",
              "      <td>Not at all (right now)</td>\n",
              "      <td>Within past year (anytime less than 12 months ...</td>\n",
              "      <td>All</td>\n",
              "      <td>Fair</td>\n",
              "      <td>Former smoker</td>\n",
              "      <td>No</td>\n",
              "    </tr>\n",
              "    <tr>\n",
              "      <th>5</th>\n",
              "      <td>Not at all (right now)</td>\n",
              "      <td>Within past year (anytime less than 12 months ...</td>\n",
              "      <td>1 to 5</td>\n",
              "      <td>Very good</td>\n",
              "      <td>Current smoker - now smokes every day</td>\n",
              "      <td>No</td>\n",
              "    </tr>\n",
              "    <tr>\n",
              "      <th>6</th>\n",
              "      <td>Not at all (right now)</td>\n",
              "      <td>Within past year (anytime less than 12 months ...</td>\n",
              "      <td>0</td>\n",
              "      <td>Excellent</td>\n",
              "      <td>Former smoker</td>\n",
              "      <td>No</td>\n",
              "    </tr>\n",
              "    <tr>\n",
              "      <th>7</th>\n",
              "      <td>Never used e-cigarettes in my entire life</td>\n",
              "      <td>5 or more years ago</td>\n",
              "      <td>All</td>\n",
              "      <td>Good</td>\n",
              "      <td>Current smoker - now smokes every day</td>\n",
              "      <td>No</td>\n",
              "    </tr>\n",
              "    <tr>\n",
              "      <th>8</th>\n",
              "      <td>Never used e-cigarettes in my entire life</td>\n",
              "      <td>Within past year (anytime less than 12 months ...</td>\n",
              "      <td>1 to 5</td>\n",
              "      <td>Fair</td>\n",
              "      <td>Current smoker - now smokes every day</td>\n",
              "      <td>No</td>\n",
              "    </tr>\n",
              "    <tr>\n",
              "      <th>9</th>\n",
              "      <td>Not at all (right now)</td>\n",
              "      <td>Within past year (anytime less than 12 months ...</td>\n",
              "      <td>0</td>\n",
              "      <td>Very good</td>\n",
              "      <td>Never smoked</td>\n",
              "      <td>No</td>\n",
              "    </tr>\n",
              "  </tbody>\n",
              "</table>\n",
              "</div>"
            ],
            "text/plain": [
              "                             ECigaretteUsage  \\\n",
              "0  Never used e-cigarettes in my entire life   \n",
              "1                     Not at all (right now)   \n",
              "2  Never used e-cigarettes in my entire life   \n",
              "3  Never used e-cigarettes in my entire life   \n",
              "4                     Not at all (right now)   \n",
              "5                     Not at all (right now)   \n",
              "6                     Not at all (right now)   \n",
              "7  Never used e-cigarettes in my entire life   \n",
              "8  Never used e-cigarettes in my entire life   \n",
              "9                     Not at all (right now)   \n",
              "\n",
              "                                     LastCheckupTime            RemovedTeeth  \\\n",
              "0  1 year but less than 2 years ago (Within past ...                       0   \n",
              "1  Within past year (anytime less than 12 months ...  6 or more, but not all   \n",
              "2  Within past year (anytime less than 12 months ...                       0   \n",
              "3  Within past year (anytime less than 12 months ...                       0   \n",
              "4  Within past year (anytime less than 12 months ...                     All   \n",
              "5  Within past year (anytime less than 12 months ...                  1 to 5   \n",
              "6  Within past year (anytime less than 12 months ...                       0   \n",
              "7                                5 or more years ago                     All   \n",
              "8  Within past year (anytime less than 12 months ...                  1 to 5   \n",
              "9  Within past year (anytime less than 12 months ...                       0   \n",
              "\n",
              "  GeneralHealth                           SmokerStatus HadDiabetes  \n",
              "0     Very good                           Never smoked          No  \n",
              "1          Fair  Current smoker - now smokes every day          No  \n",
              "2          Fair                          Former smoker         Yes  \n",
              "3     Excellent                           Never smoked          No  \n",
              "4          Fair                          Former smoker          No  \n",
              "5     Very good  Current smoker - now smokes every day          No  \n",
              "6     Excellent                          Former smoker          No  \n",
              "7          Good  Current smoker - now smokes every day          No  \n",
              "8          Fair  Current smoker - now smokes every day          No  \n",
              "9     Very good                           Never smoked          No  "
            ]
          },
          "execution_count": 32,
          "metadata": {},
          "output_type": "execute_result"
        }
      ],
      "source": [
        "imputed_df[ordial_features].head(10)"
      ]
    },
    {
      "cell_type": "code",
      "execution_count": null,
      "metadata": {
        "id": "BhaQ47D6nJFi"
      },
      "outputs": [],
      "source": [
        "from sklearn.preprocessing import OrdinalEncoder\n",
        "\n",
        "ordinal_encoder = OrdinalEncoder(categories=[['Never used e-cigarettes in my entire life', 'Not at all (right now)', 'Use them a few days', 'Use them every day']])\n",
        "ordinal_encoded = ordinal_encoder.fit_transform(imputed_df[['ECigaretteUsage']])\n",
        "normalized_df['ECigaretteUsage'] = ordinal_encoded\n",
        "\n",
        "ordinal_encoder = OrdinalEncoder(categories=[['Within past year (anytime less than 12 months ago)', '1 year but less than 2 years ago (Within past 2 years)', '2 year but less than 5 years ago (Within past 5 years)', '5 or more years ago']])\n",
        "ordinal_encoded = ordinal_encoder.fit_transform(imputed_df[['LastCheckupTime']])\n",
        "normalized_df['LastCheckupTime'] = ordinal_encoded\n",
        "\n",
        "ordinal_encoder = OrdinalEncoder(categories=[['0', '1 to 5', '6 or more, but not all', 'All']])\n",
        "ordinal_encoded = ordinal_encoder.fit_transform(imputed_df[['RemovedTeeth']])\n",
        "normalized_df['RemovedTeeth'] = ordinal_encoded\n",
        "\n",
        "ordinal_encoder = OrdinalEncoder(categories=[['Poor', 'Fair', 'Good', 'Very good', \"Excellent\"]])\n",
        "ordinal_encoded = ordinal_encoder.fit_transform(imputed_df[['GeneralHealth']])\n",
        "normalized_df['GeneralHealth'] = ordinal_encoded\n",
        "\n",
        "ordinal_encoder = OrdinalEncoder(categories=[['Never smoked', 'Former smoker','Current smoker - now smokes some days' ,'Current smoker - now smokes every day']])\n",
        "ordinal_encoded = ordinal_encoder.fit_transform(imputed_df[['SmokerStatus']])\n",
        "normalized_df['SmokerStatus'] = ordinal_encoded\n",
        "\n",
        "ordinal_encoder = OrdinalEncoder(categories=[['No', 'No, pre-diabetes or borderline diabetes','Yes, but only during pregnancy (female)', 'Yes']])\n",
        "ordinal_encoded = ordinal_encoder.fit_transform(imputed_df[['HadDiabetes']])\n",
        "normalized_df['HadDiabetes'] = ordinal_encoded"
      ]
    },
    {
      "cell_type": "markdown",
      "metadata": {},
      "source": [
        "*Reference 2.6*"
      ]
    },
    {
      "cell_type": "code",
      "execution_count": 39,
      "metadata": {
        "colab": {
          "base_uri": "https://localhost:8080/",
          "height": 424
        },
        "id": "FKsZGPRuqOq7",
        "outputId": "bdc2663f-3842-4843-c774-426d060c0dcb"
      },
      "outputs": [
        {
          "data": {
            "text/html": [
              "<div>\n",
              "<style scoped>\n",
              "    .dataframe tbody tr th:only-of-type {\n",
              "        vertical-align: middle;\n",
              "    }\n",
              "\n",
              "    .dataframe tbody tr th {\n",
              "        vertical-align: top;\n",
              "    }\n",
              "\n",
              "    .dataframe thead th {\n",
              "        text-align: right;\n",
              "    }\n",
              "</style>\n",
              "<table border=\"1\" class=\"dataframe\">\n",
              "  <thead>\n",
              "    <tr style=\"text-align: right;\">\n",
              "      <th></th>\n",
              "      <th>ECigaretteUsage</th>\n",
              "      <th>LastCheckupTime</th>\n",
              "      <th>RemovedTeeth</th>\n",
              "      <th>GeneralHealth</th>\n",
              "      <th>SmokerStatus</th>\n",
              "      <th>HadDiabetes</th>\n",
              "    </tr>\n",
              "  </thead>\n",
              "  <tbody>\n",
              "    <tr>\n",
              "      <th>0</th>\n",
              "      <td>0.0</td>\n",
              "      <td>1.0</td>\n",
              "      <td>0.0</td>\n",
              "      <td>3.0</td>\n",
              "      <td>0.0</td>\n",
              "      <td>0.0</td>\n",
              "    </tr>\n",
              "    <tr>\n",
              "      <th>1</th>\n",
              "      <td>1.0</td>\n",
              "      <td>0.0</td>\n",
              "      <td>2.0</td>\n",
              "      <td>1.0</td>\n",
              "      <td>3.0</td>\n",
              "      <td>0.0</td>\n",
              "    </tr>\n",
              "    <tr>\n",
              "      <th>2</th>\n",
              "      <td>0.0</td>\n",
              "      <td>0.0</td>\n",
              "      <td>0.0</td>\n",
              "      <td>1.0</td>\n",
              "      <td>1.0</td>\n",
              "      <td>3.0</td>\n",
              "    </tr>\n",
              "    <tr>\n",
              "      <th>3</th>\n",
              "      <td>0.0</td>\n",
              "      <td>0.0</td>\n",
              "      <td>0.0</td>\n",
              "      <td>4.0</td>\n",
              "      <td>0.0</td>\n",
              "      <td>0.0</td>\n",
              "    </tr>\n",
              "    <tr>\n",
              "      <th>4</th>\n",
              "      <td>1.0</td>\n",
              "      <td>0.0</td>\n",
              "      <td>3.0</td>\n",
              "      <td>1.0</td>\n",
              "      <td>1.0</td>\n",
              "      <td>0.0</td>\n",
              "    </tr>\n",
              "    <tr>\n",
              "      <th>5</th>\n",
              "      <td>1.0</td>\n",
              "      <td>0.0</td>\n",
              "      <td>1.0</td>\n",
              "      <td>3.0</td>\n",
              "      <td>3.0</td>\n",
              "      <td>0.0</td>\n",
              "    </tr>\n",
              "    <tr>\n",
              "      <th>6</th>\n",
              "      <td>1.0</td>\n",
              "      <td>0.0</td>\n",
              "      <td>0.0</td>\n",
              "      <td>4.0</td>\n",
              "      <td>1.0</td>\n",
              "      <td>0.0</td>\n",
              "    </tr>\n",
              "    <tr>\n",
              "      <th>7</th>\n",
              "      <td>0.0</td>\n",
              "      <td>3.0</td>\n",
              "      <td>3.0</td>\n",
              "      <td>2.0</td>\n",
              "      <td>3.0</td>\n",
              "      <td>0.0</td>\n",
              "    </tr>\n",
              "    <tr>\n",
              "      <th>8</th>\n",
              "      <td>0.0</td>\n",
              "      <td>0.0</td>\n",
              "      <td>1.0</td>\n",
              "      <td>1.0</td>\n",
              "      <td>3.0</td>\n",
              "      <td>0.0</td>\n",
              "    </tr>\n",
              "    <tr>\n",
              "      <th>9</th>\n",
              "      <td>1.0</td>\n",
              "      <td>0.0</td>\n",
              "      <td>0.0</td>\n",
              "      <td>3.0</td>\n",
              "      <td>0.0</td>\n",
              "      <td>0.0</td>\n",
              "    </tr>\n",
              "  </tbody>\n",
              "</table>\n",
              "</div>"
            ],
            "text/plain": [
              "   ECigaretteUsage  LastCheckupTime  RemovedTeeth  GeneralHealth  \\\n",
              "0              0.0              1.0           0.0            3.0   \n",
              "1              1.0              0.0           2.0            1.0   \n",
              "2              0.0              0.0           0.0            1.0   \n",
              "3              0.0              0.0           0.0            4.0   \n",
              "4              1.0              0.0           3.0            1.0   \n",
              "5              1.0              0.0           1.0            3.0   \n",
              "6              1.0              0.0           0.0            4.0   \n",
              "7              0.0              3.0           3.0            2.0   \n",
              "8              0.0              0.0           1.0            1.0   \n",
              "9              1.0              0.0           0.0            3.0   \n",
              "\n",
              "   SmokerStatus  HadDiabetes  \n",
              "0           0.0          0.0  \n",
              "1           3.0          0.0  \n",
              "2           1.0          3.0  \n",
              "3           0.0          0.0  \n",
              "4           1.0          0.0  \n",
              "5           3.0          0.0  \n",
              "6           1.0          0.0  \n",
              "7           3.0          0.0  \n",
              "8           3.0          0.0  \n",
              "9           0.0          0.0  "
            ]
          },
          "execution_count": 39,
          "metadata": {},
          "output_type": "execute_result"
        }
      ],
      "source": [
        "normalized_df[ordial_features].head(10)"
      ]
    },
    {
      "cell_type": "markdown",
      "metadata": {
        "id": "byVaenoDUXrF"
      },
      "source": [
        "Move on to OneHotEncoder"
      ]
    },
    {
      "cell_type": "markdown",
      "metadata": {},
      "source": [
        "*Reference 2.7*"
      ]
    },
    {
      "cell_type": "code",
      "execution_count": 40,
      "metadata": {},
      "outputs": [
        {
          "data": {
            "text/html": [
              "<div>\n",
              "<style scoped>\n",
              "    .dataframe tbody tr th:only-of-type {\n",
              "        vertical-align: middle;\n",
              "    }\n",
              "\n",
              "    .dataframe tbody tr th {\n",
              "        vertical-align: top;\n",
              "    }\n",
              "\n",
              "    .dataframe thead th {\n",
              "        text-align: right;\n",
              "    }\n",
              "</style>\n",
              "<table border=\"1\" class=\"dataframe\">\n",
              "  <thead>\n",
              "    <tr style=\"text-align: right;\">\n",
              "      <th></th>\n",
              "      <th>CovidPos</th>\n",
              "      <th>RaceEthnicityCategory</th>\n",
              "    </tr>\n",
              "  </thead>\n",
              "  <tbody>\n",
              "    <tr>\n",
              "      <th>0</th>\n",
              "      <td>No</td>\n",
              "      <td>White only, Non-Hispanic</td>\n",
              "    </tr>\n",
              "    <tr>\n",
              "      <th>1</th>\n",
              "      <td>Yes</td>\n",
              "      <td>White only, Non-Hispanic</td>\n",
              "    </tr>\n",
              "    <tr>\n",
              "      <th>2</th>\n",
              "      <td>No</td>\n",
              "      <td>White only, Non-Hispanic</td>\n",
              "    </tr>\n",
              "    <tr>\n",
              "      <th>3</th>\n",
              "      <td>No</td>\n",
              "      <td>White only, Non-Hispanic</td>\n",
              "    </tr>\n",
              "    <tr>\n",
              "      <th>4</th>\n",
              "      <td>No</td>\n",
              "      <td>White only, Non-Hispanic</td>\n",
              "    </tr>\n",
              "    <tr>\n",
              "      <th>5</th>\n",
              "      <td>No</td>\n",
              "      <td>Black only, Non-Hispanic</td>\n",
              "    </tr>\n",
              "    <tr>\n",
              "      <th>6</th>\n",
              "      <td>Yes</td>\n",
              "      <td>Hispanic</td>\n",
              "    </tr>\n",
              "    <tr>\n",
              "      <th>7</th>\n",
              "      <td>No</td>\n",
              "      <td>Multiracial, Non-Hispanic</td>\n",
              "    </tr>\n",
              "    <tr>\n",
              "      <th>8</th>\n",
              "      <td>Yes</td>\n",
              "      <td>White only, Non-Hispanic</td>\n",
              "    </tr>\n",
              "    <tr>\n",
              "      <th>9</th>\n",
              "      <td>No</td>\n",
              "      <td>White only, Non-Hispanic</td>\n",
              "    </tr>\n",
              "  </tbody>\n",
              "</table>\n",
              "</div>"
            ],
            "text/plain": [
              "  CovidPos      RaceEthnicityCategory\n",
              "0       No   White only, Non-Hispanic\n",
              "1      Yes   White only, Non-Hispanic\n",
              "2       No   White only, Non-Hispanic\n",
              "3       No   White only, Non-Hispanic\n",
              "4       No   White only, Non-Hispanic\n",
              "5       No   Black only, Non-Hispanic\n",
              "6      Yes                   Hispanic\n",
              "7       No  Multiracial, Non-Hispanic\n",
              "8      Yes   White only, Non-Hispanic\n",
              "9       No   White only, Non-Hispanic"
            ]
          },
          "execution_count": 40,
          "metadata": {},
          "output_type": "execute_result"
        }
      ],
      "source": [
        "imputed_df[nominal_features].head(10)"
      ]
    },
    {
      "cell_type": "code",
      "execution_count": 41,
      "metadata": {
        "colab": {
          "base_uri": "https://localhost:8080/",
          "height": 444
        },
        "id": "xGbFOupYTTHW",
        "outputId": "258042cc-1c16-4107-d687-13da8003ef93"
      },
      "outputs": [
        {
          "data": {
            "text/html": [
              "<div>\n",
              "<style scoped>\n",
              "    .dataframe tbody tr th:only-of-type {\n",
              "        vertical-align: middle;\n",
              "    }\n",
              "\n",
              "    .dataframe tbody tr th {\n",
              "        vertical-align: top;\n",
              "    }\n",
              "\n",
              "    .dataframe thead th {\n",
              "        text-align: right;\n",
              "    }\n",
              "</style>\n",
              "<table border=\"1\" class=\"dataframe\">\n",
              "  <thead>\n",
              "    <tr style=\"text-align: right;\">\n",
              "      <th></th>\n",
              "      <th>CovidPos_No</th>\n",
              "      <th>CovidPos_Tested positive using home test without a health professional</th>\n",
              "      <th>CovidPos_Yes</th>\n",
              "      <th>RaceEthnicityCategory_Black only, Non-Hispanic</th>\n",
              "      <th>RaceEthnicityCategory_Hispanic</th>\n",
              "      <th>RaceEthnicityCategory_Multiracial, Non-Hispanic</th>\n",
              "      <th>RaceEthnicityCategory_Other race only, Non-Hispanic</th>\n",
              "      <th>RaceEthnicityCategory_White only, Non-Hispanic</th>\n",
              "    </tr>\n",
              "  </thead>\n",
              "  <tbody>\n",
              "    <tr>\n",
              "      <th>0</th>\n",
              "      <td>1.0</td>\n",
              "      <td>0.0</td>\n",
              "      <td>0.0</td>\n",
              "      <td>0.0</td>\n",
              "      <td>0.0</td>\n",
              "      <td>0.0</td>\n",
              "      <td>0.0</td>\n",
              "      <td>1.0</td>\n",
              "    </tr>\n",
              "    <tr>\n",
              "      <th>1</th>\n",
              "      <td>0.0</td>\n",
              "      <td>0.0</td>\n",
              "      <td>1.0</td>\n",
              "      <td>0.0</td>\n",
              "      <td>0.0</td>\n",
              "      <td>0.0</td>\n",
              "      <td>0.0</td>\n",
              "      <td>1.0</td>\n",
              "    </tr>\n",
              "    <tr>\n",
              "      <th>2</th>\n",
              "      <td>1.0</td>\n",
              "      <td>0.0</td>\n",
              "      <td>0.0</td>\n",
              "      <td>0.0</td>\n",
              "      <td>0.0</td>\n",
              "      <td>0.0</td>\n",
              "      <td>0.0</td>\n",
              "      <td>1.0</td>\n",
              "    </tr>\n",
              "    <tr>\n",
              "      <th>3</th>\n",
              "      <td>1.0</td>\n",
              "      <td>0.0</td>\n",
              "      <td>0.0</td>\n",
              "      <td>0.0</td>\n",
              "      <td>0.0</td>\n",
              "      <td>0.0</td>\n",
              "      <td>0.0</td>\n",
              "      <td>1.0</td>\n",
              "    </tr>\n",
              "    <tr>\n",
              "      <th>4</th>\n",
              "      <td>1.0</td>\n",
              "      <td>0.0</td>\n",
              "      <td>0.0</td>\n",
              "      <td>0.0</td>\n",
              "      <td>0.0</td>\n",
              "      <td>0.0</td>\n",
              "      <td>0.0</td>\n",
              "      <td>1.0</td>\n",
              "    </tr>\n",
              "    <tr>\n",
              "      <th>5</th>\n",
              "      <td>1.0</td>\n",
              "      <td>0.0</td>\n",
              "      <td>0.0</td>\n",
              "      <td>1.0</td>\n",
              "      <td>0.0</td>\n",
              "      <td>0.0</td>\n",
              "      <td>0.0</td>\n",
              "      <td>0.0</td>\n",
              "    </tr>\n",
              "    <tr>\n",
              "      <th>6</th>\n",
              "      <td>0.0</td>\n",
              "      <td>0.0</td>\n",
              "      <td>1.0</td>\n",
              "      <td>0.0</td>\n",
              "      <td>1.0</td>\n",
              "      <td>0.0</td>\n",
              "      <td>0.0</td>\n",
              "      <td>0.0</td>\n",
              "    </tr>\n",
              "    <tr>\n",
              "      <th>7</th>\n",
              "      <td>1.0</td>\n",
              "      <td>0.0</td>\n",
              "      <td>0.0</td>\n",
              "      <td>0.0</td>\n",
              "      <td>0.0</td>\n",
              "      <td>1.0</td>\n",
              "      <td>0.0</td>\n",
              "      <td>0.0</td>\n",
              "    </tr>\n",
              "    <tr>\n",
              "      <th>8</th>\n",
              "      <td>0.0</td>\n",
              "      <td>0.0</td>\n",
              "      <td>1.0</td>\n",
              "      <td>0.0</td>\n",
              "      <td>0.0</td>\n",
              "      <td>0.0</td>\n",
              "      <td>0.0</td>\n",
              "      <td>1.0</td>\n",
              "    </tr>\n",
              "    <tr>\n",
              "      <th>9</th>\n",
              "      <td>1.0</td>\n",
              "      <td>0.0</td>\n",
              "      <td>0.0</td>\n",
              "      <td>0.0</td>\n",
              "      <td>0.0</td>\n",
              "      <td>0.0</td>\n",
              "      <td>0.0</td>\n",
              "      <td>1.0</td>\n",
              "    </tr>\n",
              "  </tbody>\n",
              "</table>\n",
              "</div>"
            ],
            "text/plain": [
              "   CovidPos_No  \\\n",
              "0          1.0   \n",
              "1          0.0   \n",
              "2          1.0   \n",
              "3          1.0   \n",
              "4          1.0   \n",
              "5          1.0   \n",
              "6          0.0   \n",
              "7          1.0   \n",
              "8          0.0   \n",
              "9          1.0   \n",
              "\n",
              "   CovidPos_Tested positive using home test without a health professional  \\\n",
              "0                                                0.0                        \n",
              "1                                                0.0                        \n",
              "2                                                0.0                        \n",
              "3                                                0.0                        \n",
              "4                                                0.0                        \n",
              "5                                                0.0                        \n",
              "6                                                0.0                        \n",
              "7                                                0.0                        \n",
              "8                                                0.0                        \n",
              "9                                                0.0                        \n",
              "\n",
              "   CovidPos_Yes  RaceEthnicityCategory_Black only, Non-Hispanic  \\\n",
              "0           0.0                                             0.0   \n",
              "1           1.0                                             0.0   \n",
              "2           0.0                                             0.0   \n",
              "3           0.0                                             0.0   \n",
              "4           0.0                                             0.0   \n",
              "5           0.0                                             1.0   \n",
              "6           1.0                                             0.0   \n",
              "7           0.0                                             0.0   \n",
              "8           1.0                                             0.0   \n",
              "9           0.0                                             0.0   \n",
              "\n",
              "   RaceEthnicityCategory_Hispanic  \\\n",
              "0                             0.0   \n",
              "1                             0.0   \n",
              "2                             0.0   \n",
              "3                             0.0   \n",
              "4                             0.0   \n",
              "5                             0.0   \n",
              "6                             1.0   \n",
              "7                             0.0   \n",
              "8                             0.0   \n",
              "9                             0.0   \n",
              "\n",
              "   RaceEthnicityCategory_Multiracial, Non-Hispanic  \\\n",
              "0                                              0.0   \n",
              "1                                              0.0   \n",
              "2                                              0.0   \n",
              "3                                              0.0   \n",
              "4                                              0.0   \n",
              "5                                              0.0   \n",
              "6                                              0.0   \n",
              "7                                              1.0   \n",
              "8                                              0.0   \n",
              "9                                              0.0   \n",
              "\n",
              "   RaceEthnicityCategory_Other race only, Non-Hispanic  \\\n",
              "0                                                0.0     \n",
              "1                                                0.0     \n",
              "2                                                0.0     \n",
              "3                                                0.0     \n",
              "4                                                0.0     \n",
              "5                                                0.0     \n",
              "6                                                0.0     \n",
              "7                                                0.0     \n",
              "8                                                0.0     \n",
              "9                                                0.0     \n",
              "\n",
              "   RaceEthnicityCategory_White only, Non-Hispanic  \n",
              "0                                             1.0  \n",
              "1                                             1.0  \n",
              "2                                             1.0  \n",
              "3                                             1.0  \n",
              "4                                             1.0  \n",
              "5                                             0.0  \n",
              "6                                             0.0  \n",
              "7                                             0.0  \n",
              "8                                             1.0  \n",
              "9                                             1.0  "
            ]
          },
          "execution_count": 41,
          "metadata": {},
          "output_type": "execute_result"
        }
      ],
      "source": [
        "from sklearn.preprocessing import OneHotEncoder\n",
        "\n",
        "one_hot_encoder = OneHotEncoder(sparse_output = False)  # sparse=False returns a dense array\n",
        "\n",
        "one_hot_encoded = one_hot_encoder.fit_transform(imputed_df[nominal_features])\n",
        "one_hot_encoded_df = pd.DataFrame(one_hot_encoded, columns=one_hot_encoder.get_feature_names_out(nominal_features))\n",
        "one_hot_encoded_df.head(10)"
      ]
    },
    {
      "cell_type": "markdown",
      "metadata": {},
      "source": [
        "*Reference 2.8*"
      ]
    },
    {
      "cell_type": "code",
      "execution_count": 42,
      "metadata": {},
      "outputs": [
        {
          "data": {
            "text/html": [
              "<div>\n",
              "<style scoped>\n",
              "    .dataframe tbody tr th:only-of-type {\n",
              "        vertical-align: middle;\n",
              "    }\n",
              "\n",
              "    .dataframe tbody tr th {\n",
              "        vertical-align: top;\n",
              "    }\n",
              "\n",
              "    .dataframe thead th {\n",
              "        text-align: right;\n",
              "    }\n",
              "</style>\n",
              "<table border=\"1\" class=\"dataframe\">\n",
              "  <thead>\n",
              "    <tr style=\"text-align: right;\">\n",
              "      <th></th>\n",
              "      <th>BMI</th>\n",
              "      <th>PhysicalHealthDays</th>\n",
              "      <th>SleepHours</th>\n",
              "      <th>MentalHealthDays</th>\n",
              "      <th>Age</th>\n",
              "      <th>ECigaretteUsage</th>\n",
              "      <th>LastCheckupTime</th>\n",
              "      <th>RemovedTeeth</th>\n",
              "      <th>GeneralHealth</th>\n",
              "      <th>SmokerStatus</th>\n",
              "      <th>...</th>\n",
              "      <th>DeafOrHardOfHearing</th>\n",
              "      <th>HadAsthma</th>\n",
              "      <th>DifficultyWalking</th>\n",
              "      <th>HadCOPD</th>\n",
              "      <th>HadArthritis</th>\n",
              "      <th>DifficultyDressingBathing</th>\n",
              "      <th>HIVTesting</th>\n",
              "      <th>PhysicalActivities</th>\n",
              "      <th>DifficultyErrands</th>\n",
              "      <th>HadHeartAttack</th>\n",
              "    </tr>\n",
              "  </thead>\n",
              "  <tbody>\n",
              "    <tr>\n",
              "      <th>0</th>\n",
              "      <td>-0.326418</td>\n",
              "      <td>0.000000</td>\n",
              "      <td>0.5</td>\n",
              "      <td>3.75</td>\n",
              "      <td>41.9</td>\n",
              "      <td>0.0</td>\n",
              "      <td>1.0</td>\n",
              "      <td>0.0</td>\n",
              "      <td>3.0</td>\n",
              "      <td>0.0</td>\n",
              "      <td>...</td>\n",
              "      <td>0</td>\n",
              "      <td>0</td>\n",
              "      <td>0</td>\n",
              "      <td>0</td>\n",
              "      <td>0</td>\n",
              "      <td>0</td>\n",
              "      <td>0</td>\n",
              "      <td>1</td>\n",
              "      <td>0</td>\n",
              "      <td>0</td>\n",
              "    </tr>\n",
              "    <tr>\n",
              "      <th>1</th>\n",
              "      <td>-0.672199</td>\n",
              "      <td>0.000000</td>\n",
              "      <td>1.5</td>\n",
              "      <td>0.00</td>\n",
              "      <td>42.3</td>\n",
              "      <td>1.0</td>\n",
              "      <td>0.0</td>\n",
              "      <td>2.0</td>\n",
              "      <td>1.0</td>\n",
              "      <td>3.0</td>\n",
              "      <td>...</td>\n",
              "      <td>0</td>\n",
              "      <td>1</td>\n",
              "      <td>0</td>\n",
              "      <td>0</td>\n",
              "      <td>0</td>\n",
              "      <td>0</td>\n",
              "      <td>1</td>\n",
              "      <td>1</td>\n",
              "      <td>1</td>\n",
              "      <td>0</td>\n",
              "    </tr>\n",
              "    <tr>\n",
              "      <th>2</th>\n",
              "      <td>0.828492</td>\n",
              "      <td>0.333333</td>\n",
              "      <td>-0.5</td>\n",
              "      <td>0.00</td>\n",
              "      <td>66.3</td>\n",
              "      <td>0.0</td>\n",
              "      <td>0.0</td>\n",
              "      <td>0.0</td>\n",
              "      <td>1.0</td>\n",
              "      <td>1.0</td>\n",
              "      <td>...</td>\n",
              "      <td>0</td>\n",
              "      <td>0</td>\n",
              "      <td>1</td>\n",
              "      <td>0</td>\n",
              "      <td>1</td>\n",
              "      <td>0</td>\n",
              "      <td>0</td>\n",
              "      <td>0</td>\n",
              "      <td>1</td>\n",
              "      <td>0</td>\n",
              "    </tr>\n",
              "    <tr>\n",
              "      <th>3</th>\n",
              "      <td>-0.601660</td>\n",
              "      <td>0.000000</td>\n",
              "      <td>0.5</td>\n",
              "      <td>0.00</td>\n",
              "      <td>32.3</td>\n",
              "      <td>0.0</td>\n",
              "      <td>0.0</td>\n",
              "      <td>0.0</td>\n",
              "      <td>4.0</td>\n",
              "      <td>0.0</td>\n",
              "      <td>...</td>\n",
              "      <td>0</td>\n",
              "      <td>0</td>\n",
              "      <td>0</td>\n",
              "      <td>0</td>\n",
              "      <td>0</td>\n",
              "      <td>0</td>\n",
              "      <td>1</td>\n",
              "      <td>1</td>\n",
              "      <td>0</td>\n",
              "      <td>0</td>\n",
              "    </tr>\n",
              "    <tr>\n",
              "      <th>4</th>\n",
              "      <td>0.751037</td>\n",
              "      <td>5.000000</td>\n",
              "      <td>-1.5</td>\n",
              "      <td>3.75</td>\n",
              "      <td>71.4</td>\n",
              "      <td>1.0</td>\n",
              "      <td>0.0</td>\n",
              "      <td>3.0</td>\n",
              "      <td>1.0</td>\n",
              "      <td>1.0</td>\n",
              "      <td>...</td>\n",
              "      <td>0</td>\n",
              "      <td>1</td>\n",
              "      <td>1</td>\n",
              "      <td>0</td>\n",
              "      <td>1</td>\n",
              "      <td>0</td>\n",
              "      <td>0</td>\n",
              "      <td>0</td>\n",
              "      <td>0</td>\n",
              "      <td>1</td>\n",
              "    </tr>\n",
              "    <tr>\n",
              "      <th>...</th>\n",
              "      <td>...</td>\n",
              "      <td>...</td>\n",
              "      <td>...</td>\n",
              "      <td>...</td>\n",
              "      <td>...</td>\n",
              "      <td>...</td>\n",
              "      <td>...</td>\n",
              "      <td>...</td>\n",
              "      <td>...</td>\n",
              "      <td>...</td>\n",
              "      <td>...</td>\n",
              "      <td>...</td>\n",
              "      <td>...</td>\n",
              "      <td>...</td>\n",
              "      <td>...</td>\n",
              "      <td>...</td>\n",
              "      <td>...</td>\n",
              "      <td>...</td>\n",
              "      <td>...</td>\n",
              "      <td>...</td>\n",
              "      <td>...</td>\n",
              "    </tr>\n",
              "    <tr>\n",
              "      <th>196812</th>\n",
              "      <td>1.796680</td>\n",
              "      <td>0.000000</td>\n",
              "      <td>0.5</td>\n",
              "      <td>0.00</td>\n",
              "      <td>72.8</td>\n",
              "      <td>0.0</td>\n",
              "      <td>0.0</td>\n",
              "      <td>1.0</td>\n",
              "      <td>2.0</td>\n",
              "      <td>3.0</td>\n",
              "      <td>...</td>\n",
              "      <td>0</td>\n",
              "      <td>0</td>\n",
              "      <td>0</td>\n",
              "      <td>0</td>\n",
              "      <td>0</td>\n",
              "      <td>0</td>\n",
              "      <td>0</td>\n",
              "      <td>0</td>\n",
              "      <td>0</td>\n",
              "      <td>0</td>\n",
              "    </tr>\n",
              "    <tr>\n",
              "      <th>196813</th>\n",
              "      <td>0.000000</td>\n",
              "      <td>0.000000</td>\n",
              "      <td>0.5</td>\n",
              "      <td>0.00</td>\n",
              "      <td>47.2</td>\n",
              "      <td>0.0</td>\n",
              "      <td>0.0</td>\n",
              "      <td>0.0</td>\n",
              "      <td>4.0</td>\n",
              "      <td>0.0</td>\n",
              "      <td>...</td>\n",
              "      <td>0</td>\n",
              "      <td>0</td>\n",
              "      <td>0</td>\n",
              "      <td>0</td>\n",
              "      <td>0</td>\n",
              "      <td>0</td>\n",
              "      <td>1</td>\n",
              "      <td>1</td>\n",
              "      <td>0</td>\n",
              "      <td>0</td>\n",
              "    </tr>\n",
              "    <tr>\n",
              "      <th>196814</th>\n",
              "      <td>1.313970</td>\n",
              "      <td>0.000000</td>\n",
              "      <td>0.0</td>\n",
              "      <td>0.00</td>\n",
              "      <td>67.3</td>\n",
              "      <td>0.0</td>\n",
              "      <td>1.0</td>\n",
              "      <td>1.0</td>\n",
              "      <td>2.0</td>\n",
              "      <td>0.0</td>\n",
              "      <td>...</td>\n",
              "      <td>1</td>\n",
              "      <td>0</td>\n",
              "      <td>1</td>\n",
              "      <td>0</td>\n",
              "      <td>0</td>\n",
              "      <td>0</td>\n",
              "      <td>0</td>\n",
              "      <td>0</td>\n",
              "      <td>0</td>\n",
              "      <td>0</td>\n",
              "    </tr>\n",
              "    <tr>\n",
              "      <th>196815</th>\n",
              "      <td>-0.491010</td>\n",
              "      <td>0.000000</td>\n",
              "      <td>0.5</td>\n",
              "      <td>0.25</td>\n",
              "      <td>72.5</td>\n",
              "      <td>0.0</td>\n",
              "      <td>0.0</td>\n",
              "      <td>1.0</td>\n",
              "      <td>3.0</td>\n",
              "      <td>0.0</td>\n",
              "      <td>...</td>\n",
              "      <td>0</td>\n",
              "      <td>0</td>\n",
              "      <td>0</td>\n",
              "      <td>0</td>\n",
              "      <td>1</td>\n",
              "      <td>0</td>\n",
              "      <td>0</td>\n",
              "      <td>1</td>\n",
              "      <td>0</td>\n",
              "      <td>0</td>\n",
              "    </tr>\n",
              "    <tr>\n",
              "      <th>196816</th>\n",
              "      <td>-0.421853</td>\n",
              "      <td>10.000000</td>\n",
              "      <td>-1.0</td>\n",
              "      <td>7.50</td>\n",
              "      <td>52.4</td>\n",
              "      <td>0.0</td>\n",
              "      <td>1.0</td>\n",
              "      <td>1.0</td>\n",
              "      <td>2.0</td>\n",
              "      <td>1.0</td>\n",
              "      <td>...</td>\n",
              "      <td>0</td>\n",
              "      <td>0</td>\n",
              "      <td>0</td>\n",
              "      <td>0</td>\n",
              "      <td>0</td>\n",
              "      <td>0</td>\n",
              "      <td>0</td>\n",
              "      <td>1</td>\n",
              "      <td>0</td>\n",
              "      <td>0</td>\n",
              "    </tr>\n",
              "  </tbody>\n",
              "</table>\n",
              "<p>196817 rows × 42 columns</p>\n",
              "</div>"
            ],
            "text/plain": [
              "             BMI  PhysicalHealthDays  SleepHours  MentalHealthDays   Age  \\\n",
              "0      -0.326418            0.000000         0.5              3.75  41.9   \n",
              "1      -0.672199            0.000000         1.5              0.00  42.3   \n",
              "2       0.828492            0.333333        -0.5              0.00  66.3   \n",
              "3      -0.601660            0.000000         0.5              0.00  32.3   \n",
              "4       0.751037            5.000000        -1.5              3.75  71.4   \n",
              "...          ...                 ...         ...               ...   ...   \n",
              "196812  1.796680            0.000000         0.5              0.00  72.8   \n",
              "196813  0.000000            0.000000         0.5              0.00  47.2   \n",
              "196814  1.313970            0.000000         0.0              0.00  67.3   \n",
              "196815 -0.491010            0.000000         0.5              0.25  72.5   \n",
              "196816 -0.421853           10.000000        -1.0              7.50  52.4   \n",
              "\n",
              "        ECigaretteUsage  LastCheckupTime  RemovedTeeth  GeneralHealth  \\\n",
              "0                   0.0              1.0           0.0            3.0   \n",
              "1                   1.0              0.0           2.0            1.0   \n",
              "2                   0.0              0.0           0.0            1.0   \n",
              "3                   0.0              0.0           0.0            4.0   \n",
              "4                   1.0              0.0           3.0            1.0   \n",
              "...                 ...              ...           ...            ...   \n",
              "196812              0.0              0.0           1.0            2.0   \n",
              "196813              0.0              0.0           0.0            4.0   \n",
              "196814              0.0              1.0           1.0            2.0   \n",
              "196815              0.0              0.0           1.0            3.0   \n",
              "196816              0.0              1.0           1.0            2.0   \n",
              "\n",
              "        SmokerStatus  ...  DeafOrHardOfHearing  HadAsthma  DifficultyWalking  \\\n",
              "0                0.0  ...                    0          0                  0   \n",
              "1                3.0  ...                    0          1                  0   \n",
              "2                1.0  ...                    0          0                  1   \n",
              "3                0.0  ...                    0          0                  0   \n",
              "4                1.0  ...                    0          1                  1   \n",
              "...              ...  ...                  ...        ...                ...   \n",
              "196812           3.0  ...                    0          0                  0   \n",
              "196813           0.0  ...                    0          0                  0   \n",
              "196814           0.0  ...                    1          0                  1   \n",
              "196815           0.0  ...                    0          0                  0   \n",
              "196816           1.0  ...                    0          0                  0   \n",
              "\n",
              "        HadCOPD  HadArthritis  DifficultyDressingBathing  HIVTesting  \\\n",
              "0             0             0                          0           0   \n",
              "1             0             0                          0           1   \n",
              "2             0             1                          0           0   \n",
              "3             0             0                          0           1   \n",
              "4             0             1                          0           0   \n",
              "...         ...           ...                        ...         ...   \n",
              "196812        0             0                          0           0   \n",
              "196813        0             0                          0           1   \n",
              "196814        0             0                          0           0   \n",
              "196815        0             1                          0           0   \n",
              "196816        0             0                          0           0   \n",
              "\n",
              "        PhysicalActivities  DifficultyErrands  HadHeartAttack  \n",
              "0                        1                  0               0  \n",
              "1                        1                  1               0  \n",
              "2                        0                  1               0  \n",
              "3                        1                  0               0  \n",
              "4                        0                  0               1  \n",
              "...                    ...                ...             ...  \n",
              "196812                   0                  0               0  \n",
              "196813                   1                  0               0  \n",
              "196814                   0                  0               0  \n",
              "196815                   1                  0               0  \n",
              "196816                   1                  0               0  \n",
              "\n",
              "[196817 rows x 42 columns]"
            ]
          },
          "execution_count": 42,
          "metadata": {},
          "output_type": "execute_result"
        }
      ],
      "source": [
        "df_final = pd.concat([normalized_df, one_hot_encoded_df,imputed_df[binary_features]], axis=1)\n",
        "df_final"
      ]
    },
    {
      "cell_type": "code",
      "execution_count": 43,
      "metadata": {
        "colab": {
          "base_uri": "https://localhost:8080/"
        },
        "id": "bPK-C8n61adc",
        "outputId": "85930633-979e-4be1-b59a-74445c4e2c6e"
      },
      "outputs": [
        {
          "data": {
            "text/plain": [
              "(196817, 42)"
            ]
          },
          "execution_count": 43,
          "metadata": {},
          "output_type": "execute_result"
        }
      ],
      "source": [
        "df_final.shape"
      ]
    },
    {
      "cell_type": "markdown",
      "metadata": {
        "id": "79kQ-tjmnjKw"
      },
      "source": [
        "As a rule of thumb:\n",
        "\n",
        "- Use OneHotEncoder for nominal categorical variables with no inherent order.\n",
        "- Use OrdinalEncoder for ordinal categorical variables where the order matters."
      ]
    },
    {
      "cell_type": "markdown",
      "metadata": {
        "id": "4iJ_VFaJnufe"
      },
      "source": [
        "## [Q8] Feature Selection"
      ]
    },
    {
      "cell_type": "markdown",
      "metadata": {},
      "source": [
        "Regression K best features"
      ]
    },
    {
      "cell_type": "code",
      "execution_count": 44,
      "metadata": {
        "colab": {
          "base_uri": "https://localhost:8080/",
          "height": 1000
        },
        "id": "ac85wya6VNKY",
        "outputId": "ff62f397-e9ca-4d32-c07f-e9402939277e"
      },
      "outputs": [
        {
          "data": {
            "text/html": [
              "<div>\n",
              "<style scoped>\n",
              "    .dataframe tbody tr th:only-of-type {\n",
              "        vertical-align: middle;\n",
              "    }\n",
              "\n",
              "    .dataframe tbody tr th {\n",
              "        vertical-align: top;\n",
              "    }\n",
              "\n",
              "    .dataframe thead th {\n",
              "        text-align: right;\n",
              "    }\n",
              "</style>\n",
              "<table border=\"1\" class=\"dataframe\">\n",
              "  <thead>\n",
              "    <tr style=\"text-align: right;\">\n",
              "      <th></th>\n",
              "      <th>Feature</th>\n",
              "      <th>Score</th>\n",
              "    </tr>\n",
              "  </thead>\n",
              "  <tbody>\n",
              "    <tr>\n",
              "      <th>18</th>\n",
              "      <td>PneumoVaxEver</td>\n",
              "      <td>42097.177978</td>\n",
              "    </tr>\n",
              "    <tr>\n",
              "      <th>35</th>\n",
              "      <td>HadArthritis</td>\n",
              "      <td>32647.269055</td>\n",
              "    </tr>\n",
              "    <tr>\n",
              "      <th>6</th>\n",
              "      <td>RemovedTeeth</td>\n",
              "      <td>27337.238304</td>\n",
              "    </tr>\n",
              "    <tr>\n",
              "      <th>27</th>\n",
              "      <td>FluVaxLast12</td>\n",
              "      <td>16471.110643</td>\n",
              "    </tr>\n",
              "    <tr>\n",
              "      <th>4</th>\n",
              "      <td>ECigaretteUsage</td>\n",
              "      <td>16180.675940</td>\n",
              "    </tr>\n",
              "    <tr>\n",
              "      <th>25</th>\n",
              "      <td>ChestScan</td>\n",
              "      <td>14572.047883</td>\n",
              "    </tr>\n",
              "    <tr>\n",
              "      <th>23</th>\n",
              "      <td>HadSkinCancer</td>\n",
              "      <td>12341.046947</td>\n",
              "    </tr>\n",
              "    <tr>\n",
              "      <th>5</th>\n",
              "      <td>LastCheckupTime</td>\n",
              "      <td>11445.232427</td>\n",
              "    </tr>\n",
              "    <tr>\n",
              "      <th>33</th>\n",
              "      <td>DifficultyWalking</td>\n",
              "      <td>11045.371966</td>\n",
              "    </tr>\n",
              "    <tr>\n",
              "      <th>37</th>\n",
              "      <td>HIVTesting</td>\n",
              "      <td>9860.228281</td>\n",
              "    </tr>\n",
              "    <tr>\n",
              "      <th>17</th>\n",
              "      <td>RaceEthnicityCategory_White only, Non-Hispanic</td>\n",
              "      <td>9300.118703</td>\n",
              "    </tr>\n",
              "    <tr>\n",
              "      <th>31</th>\n",
              "      <td>DeafOrHardOfHearing</td>\n",
              "      <td>8910.599762</td>\n",
              "    </tr>\n",
              "    <tr>\n",
              "      <th>24</th>\n",
              "      <td>HighRiskLastYear</td>\n",
              "      <td>8449.579726</td>\n",
              "    </tr>\n",
              "    <tr>\n",
              "      <th>9</th>\n",
              "      <td>HadDiabetes</td>\n",
              "      <td>8169.855541</td>\n",
              "    </tr>\n",
              "    <tr>\n",
              "      <th>19</th>\n",
              "      <td>HadAngina</td>\n",
              "      <td>7971.744143</td>\n",
              "    </tr>\n",
              "    <tr>\n",
              "      <th>3</th>\n",
              "      <td>MentalHealthDays</td>\n",
              "      <td>7382.673795</td>\n",
              "    </tr>\n",
              "    <tr>\n",
              "      <th>10</th>\n",
              "      <td>CovidPos_No</td>\n",
              "      <td>6279.740199</td>\n",
              "    </tr>\n",
              "    <tr>\n",
              "      <th>12</th>\n",
              "      <td>CovidPos_Yes</td>\n",
              "      <td>6115.002430</td>\n",
              "    </tr>\n",
              "    <tr>\n",
              "      <th>40</th>\n",
              "      <td>HadHeartAttack</td>\n",
              "      <td>5953.506967</td>\n",
              "    </tr>\n",
              "    <tr>\n",
              "      <th>14</th>\n",
              "      <td>RaceEthnicityCategory_Hispanic</td>\n",
              "      <td>5861.135966</td>\n",
              "    </tr>\n",
              "    <tr>\n",
              "      <th>34</th>\n",
              "      <td>HadCOPD</td>\n",
              "      <td>4242.836800</td>\n",
              "    </tr>\n",
              "    <tr>\n",
              "      <th>29</th>\n",
              "      <td>HadKidneyDisease</td>\n",
              "      <td>3765.636273</td>\n",
              "    </tr>\n",
              "    <tr>\n",
              "      <th>26</th>\n",
              "      <td>HadStroke</td>\n",
              "      <td>3574.865384</td>\n",
              "    </tr>\n",
              "    <tr>\n",
              "      <th>7</th>\n",
              "      <td>GeneralHealth</td>\n",
              "      <td>3520.297545</td>\n",
              "    </tr>\n",
              "    <tr>\n",
              "      <th>2</th>\n",
              "      <td>SleepHours</td>\n",
              "      <td>3068.114522</td>\n",
              "    </tr>\n",
              "    <tr>\n",
              "      <th>30</th>\n",
              "      <td>AlcoholDrinkers</td>\n",
              "      <td>2989.777826</td>\n",
              "    </tr>\n",
              "    <tr>\n",
              "      <th>20</th>\n",
              "      <td>HadDepressiveDisorder</td>\n",
              "      <td>2621.922393</td>\n",
              "    </tr>\n",
              "    <tr>\n",
              "      <th>38</th>\n",
              "      <td>PhysicalActivities</td>\n",
              "      <td>2268.959479</td>\n",
              "    </tr>\n",
              "    <tr>\n",
              "      <th>16</th>\n",
              "      <td>RaceEthnicityCategory_Other race only, Non-His...</td>\n",
              "      <td>1727.012892</td>\n",
              "    </tr>\n",
              "    <tr>\n",
              "      <th>1</th>\n",
              "      <td>PhysicalHealthDays</td>\n",
              "      <td>1630.847884</td>\n",
              "    </tr>\n",
              "    <tr>\n",
              "      <th>21</th>\n",
              "      <td>DifficultyConcentrating</td>\n",
              "      <td>1508.004887</td>\n",
              "    </tr>\n",
              "    <tr>\n",
              "      <th>15</th>\n",
              "      <td>RaceEthnicityCategory_Multiracial, Non-Hispanic</td>\n",
              "      <td>905.497914</td>\n",
              "    </tr>\n",
              "    <tr>\n",
              "      <th>22</th>\n",
              "      <td>BlindOrVisionDifficulty</td>\n",
              "      <td>759.372368</td>\n",
              "    </tr>\n",
              "    <tr>\n",
              "      <th>36</th>\n",
              "      <td>DifficultyDressingBathing</td>\n",
              "      <td>730.010327</td>\n",
              "    </tr>\n",
              "    <tr>\n",
              "      <th>32</th>\n",
              "      <td>HadAsthma</td>\n",
              "      <td>632.717201</td>\n",
              "    </tr>\n",
              "    <tr>\n",
              "      <th>28</th>\n",
              "      <td>Sex</td>\n",
              "      <td>514.852526</td>\n",
              "    </tr>\n",
              "    <tr>\n",
              "      <th>13</th>\n",
              "      <td>RaceEthnicityCategory_Black only, Non-Hispanic</td>\n",
              "      <td>370.022325</td>\n",
              "    </tr>\n",
              "    <tr>\n",
              "      <th>8</th>\n",
              "      <td>SmokerStatus</td>\n",
              "      <td>351.656872</td>\n",
              "    </tr>\n",
              "    <tr>\n",
              "      <th>39</th>\n",
              "      <td>DifficultyErrands</td>\n",
              "      <td>292.159830</td>\n",
              "    </tr>\n",
              "    <tr>\n",
              "      <th>0</th>\n",
              "      <td>BMI</td>\n",
              "      <td>99.820029</td>\n",
              "    </tr>\n",
              "    <tr>\n",
              "      <th>11</th>\n",
              "      <td>CovidPos_Tested positive using home test witho...</td>\n",
              "      <td>76.867420</td>\n",
              "    </tr>\n",
              "  </tbody>\n",
              "</table>\n",
              "</div>"
            ],
            "text/plain": [
              "                                              Feature         Score\n",
              "18                                      PneumoVaxEver  42097.177978\n",
              "35                                       HadArthritis  32647.269055\n",
              "6                                        RemovedTeeth  27337.238304\n",
              "27                                       FluVaxLast12  16471.110643\n",
              "4                                     ECigaretteUsage  16180.675940\n",
              "25                                          ChestScan  14572.047883\n",
              "23                                      HadSkinCancer  12341.046947\n",
              "5                                     LastCheckupTime  11445.232427\n",
              "33                                  DifficultyWalking  11045.371966\n",
              "37                                         HIVTesting   9860.228281\n",
              "17     RaceEthnicityCategory_White only, Non-Hispanic   9300.118703\n",
              "31                                DeafOrHardOfHearing   8910.599762\n",
              "24                                   HighRiskLastYear   8449.579726\n",
              "9                                         HadDiabetes   8169.855541\n",
              "19                                          HadAngina   7971.744143\n",
              "3                                    MentalHealthDays   7382.673795\n",
              "10                                        CovidPos_No   6279.740199\n",
              "12                                       CovidPos_Yes   6115.002430\n",
              "40                                     HadHeartAttack   5953.506967\n",
              "14                     RaceEthnicityCategory_Hispanic   5861.135966\n",
              "34                                            HadCOPD   4242.836800\n",
              "29                                   HadKidneyDisease   3765.636273\n",
              "26                                          HadStroke   3574.865384\n",
              "7                                       GeneralHealth   3520.297545\n",
              "2                                          SleepHours   3068.114522\n",
              "30                                    AlcoholDrinkers   2989.777826\n",
              "20                              HadDepressiveDisorder   2621.922393\n",
              "38                                 PhysicalActivities   2268.959479\n",
              "16  RaceEthnicityCategory_Other race only, Non-His...   1727.012892\n",
              "1                                  PhysicalHealthDays   1630.847884\n",
              "21                            DifficultyConcentrating   1508.004887\n",
              "15    RaceEthnicityCategory_Multiracial, Non-Hispanic    905.497914\n",
              "22                            BlindOrVisionDifficulty    759.372368\n",
              "36                          DifficultyDressingBathing    730.010327\n",
              "32                                          HadAsthma    632.717201\n",
              "28                                                Sex    514.852526\n",
              "13     RaceEthnicityCategory_Black only, Non-Hispanic    370.022325\n",
              "8                                        SmokerStatus    351.656872\n",
              "39                                  DifficultyErrands    292.159830\n",
              "0                                                 BMI     99.820029\n",
              "11  CovidPos_Tested positive using home test witho...     76.867420"
            ]
          },
          "execution_count": 44,
          "metadata": {},
          "output_type": "execute_result"
        }
      ],
      "source": [
        "from sklearn.feature_selection import SelectKBest, f_classif, f_regression\n",
        "\n",
        "y = df_final['Age']\n",
        "X = df_final.drop(columns=['Age'])\n",
        "\n",
        "selector = SelectKBest(score_func=f_regression)\n",
        "X_selected = selector.fit_transform(X, y)\n",
        "selected_features = X.columns[selector.get_support()]\n",
        "\n",
        "feature_scores = selector.scores_\n",
        "\n",
        "feature_importance_reg = pd.DataFrame({\n",
        "    'Feature': X.columns,\n",
        "    'Score': feature_scores\n",
        "})\n",
        "\n",
        "feature_importance_reg = feature_importance_reg.sort_values(by='Score', ascending=False)\n",
        "\n",
        "\n",
        "feature_importance_reg"
      ]
    },
    {
      "cell_type": "code",
      "execution_count": 45,
      "metadata": {},
      "outputs": [
        {
          "data": {
            "image/png": "[encoded data removed]",
            "text/plain": [
              "<Figure size 1000x600 with 1 Axes>"
            ]
          },
          "metadata": {},
          "output_type": "display_data"
        }
      ],
      "source": [
        "plt.figure(figsize=(10, 6))\n",
        "plt.barh(feature_importance_reg['Feature'], feature_importance_reg['Score'], color='skyblue')\n",
        "plt.xlabel('Score')\n",
        "plt.ylabel('Feature')\n",
        "plt.title('Feature Importance based on SelectKBest Scores (Regression)')\n",
        "plt.gca().invert_yaxis()  # Invert y-axis to have the most important feature on top\n",
        "plt.show()"
      ]
    },
    {
      "cell_type": "markdown",
      "metadata": {
        "id": "p5uPC_5o3065"
      },
      "source": [
        "After selecting K best, it is clear that there is a large drop after RemovedTeeth as seen by the graph above. However, to insure there is no loss of information and allow for model generalization, we have decided to keep the top 25% scores."
      ]
    },
    {
      "cell_type": "code",
      "execution_count": 46,
      "metadata": {
        "colab": {
          "base_uri": "https://localhost:8080/",
          "height": 394
        },
        "id": "cYqRJlS_olSH",
        "outputId": "3f823518-4169-4e2e-9cd0-03d6c275947c"
      },
      "outputs": [
        {
          "data": {
            "text/html": [
              "<div>\n",
              "<style scoped>\n",
              "    .dataframe tbody tr th:only-of-type {\n",
              "        vertical-align: middle;\n",
              "    }\n",
              "\n",
              "    .dataframe tbody tr th {\n",
              "        vertical-align: top;\n",
              "    }\n",
              "\n",
              "    .dataframe thead th {\n",
              "        text-align: right;\n",
              "    }\n",
              "</style>\n",
              "<table border=\"1\" class=\"dataframe\">\n",
              "  <thead>\n",
              "    <tr style=\"text-align: right;\">\n",
              "      <th></th>\n",
              "      <th>Feature</th>\n",
              "      <th>Score</th>\n",
              "    </tr>\n",
              "  </thead>\n",
              "  <tbody>\n",
              "    <tr>\n",
              "      <th>18</th>\n",
              "      <td>PneumoVaxEver</td>\n",
              "      <td>42097.177978</td>\n",
              "    </tr>\n",
              "    <tr>\n",
              "      <th>35</th>\n",
              "      <td>HadArthritis</td>\n",
              "      <td>32647.269055</td>\n",
              "    </tr>\n",
              "    <tr>\n",
              "      <th>6</th>\n",
              "      <td>RemovedTeeth</td>\n",
              "      <td>27337.238304</td>\n",
              "    </tr>\n",
              "    <tr>\n",
              "      <th>27</th>\n",
              "      <td>FluVaxLast12</td>\n",
              "      <td>16471.110643</td>\n",
              "    </tr>\n",
              "    <tr>\n",
              "      <th>4</th>\n",
              "      <td>ECigaretteUsage</td>\n",
              "      <td>16180.675940</td>\n",
              "    </tr>\n",
              "    <tr>\n",
              "      <th>25</th>\n",
              "      <td>ChestScan</td>\n",
              "      <td>14572.047883</td>\n",
              "    </tr>\n",
              "    <tr>\n",
              "      <th>23</th>\n",
              "      <td>HadSkinCancer</td>\n",
              "      <td>12341.046947</td>\n",
              "    </tr>\n",
              "    <tr>\n",
              "      <th>5</th>\n",
              "      <td>LastCheckupTime</td>\n",
              "      <td>11445.232427</td>\n",
              "    </tr>\n",
              "    <tr>\n",
              "      <th>33</th>\n",
              "      <td>DifficultyWalking</td>\n",
              "      <td>11045.371966</td>\n",
              "    </tr>\n",
              "    <tr>\n",
              "      <th>37</th>\n",
              "      <td>HIVTesting</td>\n",
              "      <td>9860.228281</td>\n",
              "    </tr>\n",
              "    <tr>\n",
              "      <th>17</th>\n",
              "      <td>RaceEthnicityCategory_White only, Non-Hispanic</td>\n",
              "      <td>9300.118703</td>\n",
              "    </tr>\n",
              "  </tbody>\n",
              "</table>\n",
              "</div>"
            ],
            "text/plain": [
              "                                           Feature         Score\n",
              "18                                   PneumoVaxEver  42097.177978\n",
              "35                                    HadArthritis  32647.269055\n",
              "6                                     RemovedTeeth  27337.238304\n",
              "27                                    FluVaxLast12  16471.110643\n",
              "4                                  ECigaretteUsage  16180.675940\n",
              "25                                       ChestScan  14572.047883\n",
              "23                                   HadSkinCancer  12341.046947\n",
              "5                                  LastCheckupTime  11445.232427\n",
              "33                               DifficultyWalking  11045.371966\n",
              "37                                      HIVTesting   9860.228281\n",
              "17  RaceEthnicityCategory_White only, Non-Hispanic   9300.118703"
            ]
          },
          "execution_count": 46,
          "metadata": {},
          "output_type": "execute_result"
        }
      ],
      "source": [
        "threshold = feature_importance_reg['Score'].quantile(0.75)\n",
        "\n",
        "k_best_regression_top25 = feature_importance_reg[feature_importance_reg['Score'] >= threshold]\n",
        "k_best_regression_top25"
      ]
    },
    {
      "cell_type": "markdown",
      "metadata": {},
      "source": [
        "Selecting K-best for classification"
      ]
    },
    {
      "cell_type": "code",
      "execution_count": 47,
      "metadata": {},
      "outputs": [
        {
          "data": {
            "text/html": [
              "<div>\n",
              "<style scoped>\n",
              "    .dataframe tbody tr th:only-of-type {\n",
              "        vertical-align: middle;\n",
              "    }\n",
              "\n",
              "    .dataframe tbody tr th {\n",
              "        vertical-align: top;\n",
              "    }\n",
              "\n",
              "    .dataframe thead th {\n",
              "        text-align: right;\n",
              "    }\n",
              "</style>\n",
              "<table border=\"1\" class=\"dataframe\">\n",
              "  <thead>\n",
              "    <tr style=\"text-align: right;\">\n",
              "      <th></th>\n",
              "      <th>Feature</th>\n",
              "      <th>Score</th>\n",
              "    </tr>\n",
              "  </thead>\n",
              "  <tbody>\n",
              "    <tr>\n",
              "      <th>20</th>\n",
              "      <td>HadAngina</td>\n",
              "      <td>48469.546545</td>\n",
              "    </tr>\n",
              "    <tr>\n",
              "      <th>8</th>\n",
              "      <td>GeneralHealth</td>\n",
              "      <td>7023.132189</td>\n",
              "    </tr>\n",
              "    <tr>\n",
              "      <th>27</th>\n",
              "      <td>HadStroke</td>\n",
              "      <td>6455.728259</td>\n",
              "    </tr>\n",
              "    <tr>\n",
              "      <th>4</th>\n",
              "      <td>Age</td>\n",
              "      <td>5953.506967</td>\n",
              "    </tr>\n",
              "    <tr>\n",
              "      <th>26</th>\n",
              "      <td>ChestScan</td>\n",
              "      <td>5654.179516</td>\n",
              "    </tr>\n",
              "    <tr>\n",
              "      <th>7</th>\n",
              "      <td>RemovedTeeth</td>\n",
              "      <td>5566.624943</td>\n",
              "    </tr>\n",
              "    <tr>\n",
              "      <th>34</th>\n",
              "      <td>DifficultyWalking</td>\n",
              "      <td>5191.396344</td>\n",
              "    </tr>\n",
              "    <tr>\n",
              "      <th>10</th>\n",
              "      <td>HadDiabetes</td>\n",
              "      <td>4125.214181</td>\n",
              "    </tr>\n",
              "    <tr>\n",
              "      <th>1</th>\n",
              "      <td>PhysicalHealthDays</td>\n",
              "      <td>3618.084493</td>\n",
              "    </tr>\n",
              "    <tr>\n",
              "      <th>35</th>\n",
              "      <td>HadCOPD</td>\n",
              "      <td>3562.136024</td>\n",
              "    </tr>\n",
              "    <tr>\n",
              "      <th>19</th>\n",
              "      <td>PneumoVaxEver</td>\n",
              "      <td>2790.730940</td>\n",
              "    </tr>\n",
              "    <tr>\n",
              "      <th>36</th>\n",
              "      <td>HadArthritis</td>\n",
              "      <td>2790.582702</td>\n",
              "    </tr>\n",
              "    <tr>\n",
              "      <th>30</th>\n",
              "      <td>HadKidneyDisease</td>\n",
              "      <td>2496.998390</td>\n",
              "    </tr>\n",
              "    <tr>\n",
              "      <th>32</th>\n",
              "      <td>DeafOrHardOfHearing</td>\n",
              "      <td>1910.871985</td>\n",
              "    </tr>\n",
              "    <tr>\n",
              "      <th>40</th>\n",
              "      <td>DifficultyErrands</td>\n",
              "      <td>1513.256563</td>\n",
              "    </tr>\n",
              "    <tr>\n",
              "      <th>39</th>\n",
              "      <td>PhysicalActivities</td>\n",
              "      <td>1418.048747</td>\n",
              "    </tr>\n",
              "    <tr>\n",
              "      <th>37</th>\n",
              "      <td>DifficultyDressingBathing</td>\n",
              "      <td>1309.042046</td>\n",
              "    </tr>\n",
              "    <tr>\n",
              "      <th>9</th>\n",
              "      <td>SmokerStatus</td>\n",
              "      <td>1153.585807</td>\n",
              "    </tr>\n",
              "    <tr>\n",
              "      <th>31</th>\n",
              "      <td>AlcoholDrinkers</td>\n",
              "      <td>1103.939527</td>\n",
              "    </tr>\n",
              "    <tr>\n",
              "      <th>29</th>\n",
              "      <td>Sex</td>\n",
              "      <td>1086.006231</td>\n",
              "    </tr>\n",
              "    <tr>\n",
              "      <th>23</th>\n",
              "      <td>BlindOrVisionDifficulty</td>\n",
              "      <td>986.540166</td>\n",
              "    </tr>\n",
              "    <tr>\n",
              "      <th>6</th>\n",
              "      <td>LastCheckupTime</td>\n",
              "      <td>881.520465</td>\n",
              "    </tr>\n",
              "    <tr>\n",
              "      <th>22</th>\n",
              "      <td>DifficultyConcentrating</td>\n",
              "      <td>532.216118</td>\n",
              "    </tr>\n",
              "    <tr>\n",
              "      <th>24</th>\n",
              "      <td>HadSkinCancer</td>\n",
              "      <td>497.876753</td>\n",
              "    </tr>\n",
              "    <tr>\n",
              "      <th>28</th>\n",
              "      <td>FluVaxLast12</td>\n",
              "      <td>388.649638</td>\n",
              "    </tr>\n",
              "    <tr>\n",
              "      <th>0</th>\n",
              "      <td>BMI</td>\n",
              "      <td>182.705807</td>\n",
              "    </tr>\n",
              "    <tr>\n",
              "      <th>3</th>\n",
              "      <td>MentalHealthDays</td>\n",
              "      <td>119.845939</td>\n",
              "    </tr>\n",
              "    <tr>\n",
              "      <th>18</th>\n",
              "      <td>RaceEthnicityCategory_White only, Non-Hispanic</td>\n",
              "      <td>116.094233</td>\n",
              "    </tr>\n",
              "    <tr>\n",
              "      <th>11</th>\n",
              "      <td>CovidPos_No</td>\n",
              "      <td>114.555655</td>\n",
              "    </tr>\n",
              "    <tr>\n",
              "      <th>15</th>\n",
              "      <td>RaceEthnicityCategory_Hispanic</td>\n",
              "      <td>107.352430</td>\n",
              "    </tr>\n",
              "    <tr>\n",
              "      <th>21</th>\n",
              "      <td>HadDepressiveDisorder</td>\n",
              "      <td>106.052224</td>\n",
              "    </tr>\n",
              "    <tr>\n",
              "      <th>33</th>\n",
              "      <td>HadAsthma</td>\n",
              "      <td>104.839646</td>\n",
              "    </tr>\n",
              "    <tr>\n",
              "      <th>12</th>\n",
              "      <td>CovidPos_Tested positive using home test witho...</td>\n",
              "      <td>95.519184</td>\n",
              "    </tr>\n",
              "    <tr>\n",
              "      <th>25</th>\n",
              "      <td>HighRiskLastYear</td>\n",
              "      <td>86.750201</td>\n",
              "    </tr>\n",
              "    <tr>\n",
              "      <th>5</th>\n",
              "      <td>ECigaretteUsage</td>\n",
              "      <td>65.296299</td>\n",
              "    </tr>\n",
              "    <tr>\n",
              "      <th>13</th>\n",
              "      <td>CovidPos_Yes</td>\n",
              "      <td>50.721011</td>\n",
              "    </tr>\n",
              "    <tr>\n",
              "      <th>38</th>\n",
              "      <td>HIVTesting</td>\n",
              "      <td>42.913156</td>\n",
              "    </tr>\n",
              "    <tr>\n",
              "      <th>14</th>\n",
              "      <td>RaceEthnicityCategory_Black only, Non-Hispanic</td>\n",
              "      <td>21.838477</td>\n",
              "    </tr>\n",
              "    <tr>\n",
              "      <th>17</th>\n",
              "      <td>RaceEthnicityCategory_Other race only, Non-His...</td>\n",
              "      <td>11.303254</td>\n",
              "    </tr>\n",
              "    <tr>\n",
              "      <th>16</th>\n",
              "      <td>RaceEthnicityCategory_Multiracial, Non-Hispanic</td>\n",
              "      <td>5.687718</td>\n",
              "    </tr>\n",
              "    <tr>\n",
              "      <th>2</th>\n",
              "      <td>SleepHours</td>\n",
              "      <td>2.030544</td>\n",
              "    </tr>\n",
              "  </tbody>\n",
              "</table>\n",
              "</div>"
            ],
            "text/plain": [
              "                                              Feature         Score\n",
              "20                                          HadAngina  48469.546545\n",
              "8                                       GeneralHealth   7023.132189\n",
              "27                                          HadStroke   6455.728259\n",
              "4                                                 Age   5953.506967\n",
              "26                                          ChestScan   5654.179516\n",
              "7                                        RemovedTeeth   5566.624943\n",
              "34                                  DifficultyWalking   5191.396344\n",
              "10                                        HadDiabetes   4125.214181\n",
              "1                                  PhysicalHealthDays   3618.084493\n",
              "35                                            HadCOPD   3562.136024\n",
              "19                                      PneumoVaxEver   2790.730940\n",
              "36                                       HadArthritis   2790.582702\n",
              "30                                   HadKidneyDisease   2496.998390\n",
              "32                                DeafOrHardOfHearing   1910.871985\n",
              "40                                  DifficultyErrands   1513.256563\n",
              "39                                 PhysicalActivities   1418.048747\n",
              "37                          DifficultyDressingBathing   1309.042046\n",
              "9                                        SmokerStatus   1153.585807\n",
              "31                                    AlcoholDrinkers   1103.939527\n",
              "29                                                Sex   1086.006231\n",
              "23                            BlindOrVisionDifficulty    986.540166\n",
              "6                                     LastCheckupTime    881.520465\n",
              "22                            DifficultyConcentrating    532.216118\n",
              "24                                      HadSkinCancer    497.876753\n",
              "28                                       FluVaxLast12    388.649638\n",
              "0                                                 BMI    182.705807\n",
              "3                                    MentalHealthDays    119.845939\n",
              "18     RaceEthnicityCategory_White only, Non-Hispanic    116.094233\n",
              "11                                        CovidPos_No    114.555655\n",
              "15                     RaceEthnicityCategory_Hispanic    107.352430\n",
              "21                              HadDepressiveDisorder    106.052224\n",
              "33                                          HadAsthma    104.839646\n",
              "12  CovidPos_Tested positive using home test witho...     95.519184\n",
              "25                                   HighRiskLastYear     86.750201\n",
              "5                                     ECigaretteUsage     65.296299\n",
              "13                                       CovidPos_Yes     50.721011\n",
              "38                                         HIVTesting     42.913156\n",
              "14     RaceEthnicityCategory_Black only, Non-Hispanic     21.838477\n",
              "17  RaceEthnicityCategory_Other race only, Non-His...     11.303254\n",
              "16    RaceEthnicityCategory_Multiracial, Non-Hispanic      5.687718\n",
              "2                                          SleepHours      2.030544"
            ]
          },
          "execution_count": 47,
          "metadata": {},
          "output_type": "execute_result"
        }
      ],
      "source": [
        "from sklearn.feature_selection import SelectKBest, f_classif\n",
        "\n",
        "y_classif = df_final['HadHeartAttack']\n",
        "X_classif = df_final.drop(columns=['HadHeartAttack'])\n",
        "\n",
        "selector = SelectKBest(score_func=f_classif)\n",
        "X_selected = selector.fit_transform(X_classif, y_classif)\n",
        "selected_features = X_classif.columns[selector.get_support()]\n",
        "\n",
        "feature_scores = selector.scores_\n",
        "\n",
        "feature_importance_classif = pd.DataFrame({\n",
        "    'Feature': X_classif.columns,\n",
        "    'Score': feature_scores\n",
        "})\n",
        "\n",
        "feature_importance_classif = feature_importance_classif.sort_values(by='Score', ascending=False)\n",
        "\n",
        "\n",
        "feature_importance_classif"
      ]
    },
    {
      "cell_type": "code",
      "execution_count": 71,
      "metadata": {},
      "outputs": [
        {
          "data": {
            "image/png": "[encoded data removed]",
            "text/plain": [
              "<Figure size 1000x600 with 1 Axes>"
            ]
          },
          "metadata": {},
          "output_type": "display_data"
        }
      ],
      "source": [
        "plt.figure(figsize=(10, 6))\n",
        "plt.barh(feature_importance_classif['Feature'], feature_importance_classif['Score'], color='skyblue')\n",
        "plt.xlabel('Score')\n",
        "plt.ylabel('Feature')\n",
        "plt.title('Feature Importance based on SelectKBest Scores (Classification)')\n",
        "plt.gca().invert_yaxis()\n",
        "plt.show()"
      ]
    },
    {
      "cell_type": "code",
      "execution_count": 49,
      "metadata": {},
      "outputs": [
        {
          "data": {
            "text/html": [
              "<div>\n",
              "<style scoped>\n",
              "    .dataframe tbody tr th:only-of-type {\n",
              "        vertical-align: middle;\n",
              "    }\n",
              "\n",
              "    .dataframe tbody tr th {\n",
              "        vertical-align: top;\n",
              "    }\n",
              "\n",
              "    .dataframe thead th {\n",
              "        text-align: right;\n",
              "    }\n",
              "</style>\n",
              "<table border=\"1\" class=\"dataframe\">\n",
              "  <thead>\n",
              "    <tr style=\"text-align: right;\">\n",
              "      <th></th>\n",
              "      <th>Feature</th>\n",
              "      <th>Score</th>\n",
              "    </tr>\n",
              "  </thead>\n",
              "  <tbody>\n",
              "    <tr>\n",
              "      <th>20</th>\n",
              "      <td>HadAngina</td>\n",
              "      <td>48469.546545</td>\n",
              "    </tr>\n",
              "    <tr>\n",
              "      <th>8</th>\n",
              "      <td>GeneralHealth</td>\n",
              "      <td>7023.132189</td>\n",
              "    </tr>\n",
              "    <tr>\n",
              "      <th>27</th>\n",
              "      <td>HadStroke</td>\n",
              "      <td>6455.728259</td>\n",
              "    </tr>\n",
              "    <tr>\n",
              "      <th>4</th>\n",
              "      <td>Age</td>\n",
              "      <td>5953.506967</td>\n",
              "    </tr>\n",
              "    <tr>\n",
              "      <th>26</th>\n",
              "      <td>ChestScan</td>\n",
              "      <td>5654.179516</td>\n",
              "    </tr>\n",
              "    <tr>\n",
              "      <th>7</th>\n",
              "      <td>RemovedTeeth</td>\n",
              "      <td>5566.624943</td>\n",
              "    </tr>\n",
              "    <tr>\n",
              "      <th>34</th>\n",
              "      <td>DifficultyWalking</td>\n",
              "      <td>5191.396344</td>\n",
              "    </tr>\n",
              "    <tr>\n",
              "      <th>10</th>\n",
              "      <td>HadDiabetes</td>\n",
              "      <td>4125.214181</td>\n",
              "    </tr>\n",
              "    <tr>\n",
              "      <th>1</th>\n",
              "      <td>PhysicalHealthDays</td>\n",
              "      <td>3618.084493</td>\n",
              "    </tr>\n",
              "    <tr>\n",
              "      <th>35</th>\n",
              "      <td>HadCOPD</td>\n",
              "      <td>3562.136024</td>\n",
              "    </tr>\n",
              "    <tr>\n",
              "      <th>19</th>\n",
              "      <td>PneumoVaxEver</td>\n",
              "      <td>2790.730940</td>\n",
              "    </tr>\n",
              "  </tbody>\n",
              "</table>\n",
              "</div>"
            ],
            "text/plain": [
              "               Feature         Score\n",
              "20           HadAngina  48469.546545\n",
              "8        GeneralHealth   7023.132189\n",
              "27           HadStroke   6455.728259\n",
              "4                  Age   5953.506967\n",
              "26           ChestScan   5654.179516\n",
              "7         RemovedTeeth   5566.624943\n",
              "34   DifficultyWalking   5191.396344\n",
              "10         HadDiabetes   4125.214181\n",
              "1   PhysicalHealthDays   3618.084493\n",
              "35             HadCOPD   3562.136024\n",
              "19       PneumoVaxEver   2790.730940"
            ]
          },
          "execution_count": 49,
          "metadata": {},
          "output_type": "execute_result"
        }
      ],
      "source": [
        "threshold = feature_importance_classif['Score'].quantile(0.75)\n",
        "\n",
        "k_best_classif_top25 = feature_importance_classif[feature_importance_classif['Score'] >= threshold]\n",
        "k_best_classif_top25"
      ]
    },
    {
      "cell_type": "markdown",
      "metadata": {
        "id": "xOPbnpD-41zG"
      },
      "source": [
        "# Regression"
      ]
    },
    {
      "cell_type": "markdown",
      "metadata": {
        "id": "nebj70op46Ia"
      },
      "source": [
        "## 6.1 Linear Regression"
      ]
    },
    {
      "cell_type": "code",
      "execution_count": 50,
      "metadata": {
        "colab": {
          "base_uri": "https://localhost:8080/"
        },
        "id": "SdsbvmzXan3u",
        "outputId": "3f263d09-b88e-40a7-95cd-2d44c16db393"
      },
      "outputs": [
        {
          "data": {
            "text/plain": [
              "['PneumoVaxEver',\n",
              " 'HadAngina',\n",
              " 'HadDepressiveDisorder',\n",
              " 'DifficultyConcentrating',\n",
              " 'BlindOrVisionDifficulty',\n",
              " 'HadSkinCancer',\n",
              " 'HighRiskLastYear',\n",
              " 'ChestScan',\n",
              " 'HadStroke',\n",
              " 'FluVaxLast12',\n",
              " 'Sex',\n",
              " 'HadKidneyDisease',\n",
              " 'AlcoholDrinkers',\n",
              " 'DeafOrHardOfHearing',\n",
              " 'HadAsthma',\n",
              " 'DifficultyWalking',\n",
              " 'HadCOPD',\n",
              " 'HadArthritis',\n",
              " 'DifficultyDressingBathing',\n",
              " 'HIVTesting',\n",
              " 'PhysicalActivities',\n",
              " 'DifficultyErrands',\n",
              " 'HadHeartAttack']"
            ]
          },
          "execution_count": 50,
          "metadata": {},
          "output_type": "execute_result"
        }
      ],
      "source": [
        "binary_features"
      ]
    },
    {
      "cell_type": "code",
      "execution_count": 51,
      "metadata": {
        "id": "54d8WinN45ic"
      },
      "outputs": [],
      "source": [
        "from sklearn.model_selection import train_test_split\n",
        "from sklearn.linear_model import LinearRegression\n",
        "from sklearn.metrics import mean_squared_error, r2_score\n",
        "\n",
        "continuous_features_without_age = continuous_features.copy()\n",
        "continuous_features_without_age.remove('Age')\n",
        "\n",
        "#get the binary and continous features\n",
        "binary_and_continuous_features = list(set(binary_features) | set(continuous_features_without_age))\n",
        "\n",
        "X_train, X_test, y_train, y_test = train_test_split(X, y, test_size=0.2, random_state=4211)\n",
        "results = []\n",
        "\n",
        "for feature in binary_and_continuous_features:\n",
        "  X_train_feature = X_train[[feature]]\n",
        "  X_test_feature = X_test[[feature]]\n",
        "\n",
        "  model = LinearRegression()\n",
        "  model.fit(X_train_feature, y_train)\n",
        "\n",
        "  y_pred = model.predict(X_test_feature)\n",
        "\n",
        "  mse = mean_squared_error(y_test,y_pred)\n",
        "  r2 = r2_score(y_test,y_pred)\n",
        "\n",
        "  results.append({'Feature': feature, 'MSE': mse, 'R-squared': r2})\n",
        "\n",
        "results_df = pd.DataFrame(results)"
      ]
    },
    {
      "cell_type": "markdown",
      "metadata": {
        "id": "5YPlxAlqCgYy"
      },
      "source": [
        "### [Q9 and Q10]"
      ]
    },
    {
      "cell_type": "markdown",
      "metadata": {},
      "source": [
        "*Reference 3.1*"
      ]
    },
    {
      "cell_type": "code",
      "execution_count": 52,
      "metadata": {
        "colab": {
          "base_uri": "https://localhost:8080/",
          "height": 802
        },
        "id": "jjfOGwjX-JSA",
        "outputId": "3517a760-4b24-4130-8c89-a89caf7db682"
      },
      "outputs": [
        {
          "data": {
            "text/html": [
              "<div>\n",
              "<style scoped>\n",
              "    .dataframe tbody tr th:only-of-type {\n",
              "        vertical-align: middle;\n",
              "    }\n",
              "\n",
              "    .dataframe tbody tr th {\n",
              "        vertical-align: top;\n",
              "    }\n",
              "\n",
              "    .dataframe thead th {\n",
              "        text-align: right;\n",
              "    }\n",
              "</style>\n",
              "<table border=\"1\" class=\"dataframe\">\n",
              "  <thead>\n",
              "    <tr style=\"text-align: right;\">\n",
              "      <th></th>\n",
              "      <th>Feature</th>\n",
              "      <th>MSE</th>\n",
              "      <th>R-squared</th>\n",
              "    </tr>\n",
              "  </thead>\n",
              "  <tbody>\n",
              "    <tr>\n",
              "      <th>10</th>\n",
              "      <td>PneumoVaxEver</td>\n",
              "      <td>254.100633</td>\n",
              "      <td>0.171436</td>\n",
              "    </tr>\n",
              "    <tr>\n",
              "      <th>2</th>\n",
              "      <td>HadArthritis</td>\n",
              "      <td>264.994335</td>\n",
              "      <td>0.135914</td>\n",
              "    </tr>\n",
              "    <tr>\n",
              "      <th>7</th>\n",
              "      <td>FluVaxLast12</td>\n",
              "      <td>283.229025</td>\n",
              "      <td>0.076455</td>\n",
              "    </tr>\n",
              "    <tr>\n",
              "      <th>21</th>\n",
              "      <td>ChestScan</td>\n",
              "      <td>285.048780</td>\n",
              "      <td>0.070521</td>\n",
              "    </tr>\n",
              "    <tr>\n",
              "      <th>3</th>\n",
              "      <td>HadSkinCancer</td>\n",
              "      <td>288.618166</td>\n",
              "      <td>0.058882</td>\n",
              "    </tr>\n",
              "    <tr>\n",
              "      <th>13</th>\n",
              "      <td>DifficultyWalking</td>\n",
              "      <td>290.666235</td>\n",
              "      <td>0.052204</td>\n",
              "    </tr>\n",
              "    <tr>\n",
              "      <th>0</th>\n",
              "      <td>HIVTesting</td>\n",
              "      <td>292.046654</td>\n",
              "      <td>0.047703</td>\n",
              "    </tr>\n",
              "    <tr>\n",
              "      <th>22</th>\n",
              "      <td>DeafOrHardOfHearing</td>\n",
              "      <td>293.398604</td>\n",
              "      <td>0.043294</td>\n",
              "    </tr>\n",
              "    <tr>\n",
              "      <th>17</th>\n",
              "      <td>HighRiskLastYear</td>\n",
              "      <td>294.240418</td>\n",
              "      <td>0.040549</td>\n",
              "    </tr>\n",
              "    <tr>\n",
              "      <th>8</th>\n",
              "      <td>HadAngina</td>\n",
              "      <td>294.568157</td>\n",
              "      <td>0.039480</td>\n",
              "    </tr>\n",
              "    <tr>\n",
              "      <th>20</th>\n",
              "      <td>HadHeartAttack</td>\n",
              "      <td>298.308749</td>\n",
              "      <td>0.027283</td>\n",
              "    </tr>\n",
              "    <tr>\n",
              "      <th>11</th>\n",
              "      <td>HadCOPD</td>\n",
              "      <td>300.430266</td>\n",
              "      <td>0.020365</td>\n",
              "    </tr>\n",
              "    <tr>\n",
              "      <th>19</th>\n",
              "      <td>HadStroke</td>\n",
              "      <td>300.932622</td>\n",
              "      <td>0.018727</td>\n",
              "    </tr>\n",
              "    <tr>\n",
              "      <th>6</th>\n",
              "      <td>HadKidneyDisease</td>\n",
              "      <td>301.017123</td>\n",
              "      <td>0.018452</td>\n",
              "    </tr>\n",
              "    <tr>\n",
              "      <th>14</th>\n",
              "      <td>AlcoholDrinkers</td>\n",
              "      <td>302.027915</td>\n",
              "      <td>0.015156</td>\n",
              "    </tr>\n",
              "    <tr>\n",
              "      <th>4</th>\n",
              "      <td>SleepHours</td>\n",
              "      <td>302.335559</td>\n",
              "      <td>0.014153</td>\n",
              "    </tr>\n",
              "    <tr>\n",
              "      <th>9</th>\n",
              "      <td>HadDepressiveDisorder</td>\n",
              "      <td>302.919676</td>\n",
              "      <td>0.012248</td>\n",
              "    </tr>\n",
              "    <tr>\n",
              "      <th>5</th>\n",
              "      <td>PhysicalActivities</td>\n",
              "      <td>303.595947</td>\n",
              "      <td>0.010043</td>\n",
              "    </tr>\n",
              "    <tr>\n",
              "      <th>24</th>\n",
              "      <td>DifficultyConcentrating</td>\n",
              "      <td>304.287028</td>\n",
              "      <td>0.007789</td>\n",
              "    </tr>\n",
              "    <tr>\n",
              "      <th>23</th>\n",
              "      <td>BlindOrVisionDifficulty</td>\n",
              "      <td>305.367727</td>\n",
              "      <td>0.004266</td>\n",
              "    </tr>\n",
              "    <tr>\n",
              "      <th>16</th>\n",
              "      <td>HadAsthma</td>\n",
              "      <td>305.723746</td>\n",
              "      <td>0.003105</td>\n",
              "    </tr>\n",
              "    <tr>\n",
              "      <th>18</th>\n",
              "      <td>DifficultyDressingBathing</td>\n",
              "      <td>305.746127</td>\n",
              "      <td>0.003032</td>\n",
              "    </tr>\n",
              "    <tr>\n",
              "      <th>1</th>\n",
              "      <td>Sex</td>\n",
              "      <td>305.819203</td>\n",
              "      <td>0.002793</td>\n",
              "    </tr>\n",
              "    <tr>\n",
              "      <th>12</th>\n",
              "      <td>DifficultyErrands</td>\n",
              "      <td>306.323749</td>\n",
              "      <td>0.001148</td>\n",
              "    </tr>\n",
              "    <tr>\n",
              "      <th>15</th>\n",
              "      <td>BMI</td>\n",
              "      <td>306.567628</td>\n",
              "      <td>0.000353</td>\n",
              "    </tr>\n",
              "  </tbody>\n",
              "</table>\n",
              "</div>"
            ],
            "text/plain": [
              "                      Feature         MSE  R-squared\n",
              "10              PneumoVaxEver  254.100633   0.171436\n",
              "2                HadArthritis  264.994335   0.135914\n",
              "7                FluVaxLast12  283.229025   0.076455\n",
              "21                  ChestScan  285.048780   0.070521\n",
              "3               HadSkinCancer  288.618166   0.058882\n",
              "13          DifficultyWalking  290.666235   0.052204\n",
              "0                  HIVTesting  292.046654   0.047703\n",
              "22        DeafOrHardOfHearing  293.398604   0.043294\n",
              "17           HighRiskLastYear  294.240418   0.040549\n",
              "8                   HadAngina  294.568157   0.039480\n",
              "20             HadHeartAttack  298.308749   0.027283\n",
              "11                    HadCOPD  300.430266   0.020365\n",
              "19                  HadStroke  300.932622   0.018727\n",
              "6            HadKidneyDisease  301.017123   0.018452\n",
              "14            AlcoholDrinkers  302.027915   0.015156\n",
              "4                  SleepHours  302.335559   0.014153\n",
              "9       HadDepressiveDisorder  302.919676   0.012248\n",
              "5          PhysicalActivities  303.595947   0.010043\n",
              "24    DifficultyConcentrating  304.287028   0.007789\n",
              "23    BlindOrVisionDifficulty  305.367727   0.004266\n",
              "16                  HadAsthma  305.723746   0.003105\n",
              "18  DifficultyDressingBathing  305.746127   0.003032\n",
              "1                         Sex  305.819203   0.002793\n",
              "12          DifficultyErrands  306.323749   0.001148\n",
              "15                        BMI  306.567628   0.000353"
            ]
          },
          "execution_count": 52,
          "metadata": {},
          "output_type": "execute_result"
        }
      ],
      "source": [
        "results_df.sort_values(by='MSE', ascending = True)"
      ]
    },
    {
      "cell_type": "markdown",
      "metadata": {
        "id": "a74NI-sUBL0U"
      },
      "source": [
        "It can be seen that the lowest MSE reading has the highest R^2 rating. This is clear when we consider the relationship between the two. A lower MSE typically results in a higher R² because it indicates that the model is making more accurate predictions, thereby explaining more of the variance in the dependent variable."
      ]
    },
    {
      "cell_type": "markdown",
      "metadata": {
        "id": "Y7qC_xTYCtbj"
      },
      "source": [
        "## [Q11]"
      ]
    },
    {
      "cell_type": "markdown",
      "metadata": {
        "id": "mK__aeD3DraC"
      },
      "source": [
        "**Discuss the mathematical meaning of the weight (in brief) for a binary categorical independent variable.**\n",
        "\n",
        "- The weight of a binary categorical independent variable indicates the expected change in the dependent variable when moving from one category to the other.\n",
        "- It reflects the average difference in the outcome associated with the two groups defined by the binary variable. The overall predicted value is determined by summing the contributions from all active binary variables, highlighting how they interact to influence the outcome\n",
        "\n",
        "**How can a nominal categorical feature with more than 2 possible values\n",
        "be formulated as the independent variable of a linear model?**\n",
        "- By introducing one hot encoding, you can practically change the problem to once again a binary problem, with each outcome for each feature either being a 1 or 0. The coefficients associated with the binary variables reflect the change in the dependent variable in relation to the reference category.\n"
      ]
    },
    {
      "cell_type": "code",
      "execution_count": 53,
      "metadata": {
        "id": "a6oHQbCY_uyC"
      },
      "outputs": [],
      "source": [
        "#Select the top 10 features from Q9-Q10 and the rest of the nominal categorical features\n",
        "features_to_consider = list(one_hot_encoder.get_feature_names_out(nominal_features)) + list(results_df.sort_values(by='MSE', ascending = True)['Feature'][:10])\n",
        "\n",
        "results=[]\n",
        "X_train, X_test, y_train, y_test = train_test_split(X, y, test_size=0.2, random_state=4211)\n",
        "\n",
        "for feature in features_to_consider:\n",
        "  X_train_feature = X_train[[feature]]\n",
        "  X_test_feature = X_test[[feature]]\n",
        "\n",
        "  model = LinearRegression()\n",
        "  model.fit(X_train_feature, y_train)\n",
        "\n",
        "  y_pred = model.predict(X_test_feature)\n",
        "\n",
        "  mse = mean_squared_error(y_test,y_pred)\n",
        "  r2 = r2_score(y_test,y_pred)\n",
        "\n",
        "  results.append({'Feature': feature, 'MSE': mse, 'R-squared': r2})\n",
        "\n",
        "results_df_all= pd.DataFrame(results)"
      ]
    },
    {
      "cell_type": "markdown",
      "metadata": {},
      "source": [
        "*Reference 3.2*"
      ]
    },
    {
      "cell_type": "code",
      "execution_count": 54,
      "metadata": {
        "colab": {
          "base_uri": "https://localhost:8080/",
          "height": 739
        },
        "id": "Noda7z9nIsTn",
        "outputId": "5a212868-8299-4a74-9612-b02f17bab185"
      },
      "outputs": [
        {
          "data": {
            "text/html": [
              "<div>\n",
              "<style scoped>\n",
              "    .dataframe tbody tr th:only-of-type {\n",
              "        vertical-align: middle;\n",
              "    }\n",
              "\n",
              "    .dataframe tbody tr th {\n",
              "        vertical-align: top;\n",
              "    }\n",
              "\n",
              "    .dataframe thead th {\n",
              "        text-align: right;\n",
              "    }\n",
              "</style>\n",
              "<table border=\"1\" class=\"dataframe\">\n",
              "  <thead>\n",
              "    <tr style=\"text-align: right;\">\n",
              "      <th></th>\n",
              "      <th>Feature</th>\n",
              "      <th>MSE</th>\n",
              "      <th>R-squared</th>\n",
              "    </tr>\n",
              "  </thead>\n",
              "  <tbody>\n",
              "    <tr>\n",
              "      <th>8</th>\n",
              "      <td>PneumoVaxEver</td>\n",
              "      <td>254.100633</td>\n",
              "      <td>0.171436</td>\n",
              "    </tr>\n",
              "    <tr>\n",
              "      <th>9</th>\n",
              "      <td>HadArthritis</td>\n",
              "      <td>264.994335</td>\n",
              "      <td>0.135914</td>\n",
              "    </tr>\n",
              "    <tr>\n",
              "      <th>10</th>\n",
              "      <td>FluVaxLast12</td>\n",
              "      <td>283.229025</td>\n",
              "      <td>0.076455</td>\n",
              "    </tr>\n",
              "    <tr>\n",
              "      <th>11</th>\n",
              "      <td>ChestScan</td>\n",
              "      <td>285.048780</td>\n",
              "      <td>0.070521</td>\n",
              "    </tr>\n",
              "    <tr>\n",
              "      <th>12</th>\n",
              "      <td>HadSkinCancer</td>\n",
              "      <td>288.618166</td>\n",
              "      <td>0.058882</td>\n",
              "    </tr>\n",
              "    <tr>\n",
              "      <th>13</th>\n",
              "      <td>DifficultyWalking</td>\n",
              "      <td>290.666235</td>\n",
              "      <td>0.052204</td>\n",
              "    </tr>\n",
              "    <tr>\n",
              "      <th>14</th>\n",
              "      <td>HIVTesting</td>\n",
              "      <td>292.046654</td>\n",
              "      <td>0.047703</td>\n",
              "    </tr>\n",
              "    <tr>\n",
              "      <th>7</th>\n",
              "      <td>RaceEthnicityCategory_White only, Non-Hispanic</td>\n",
              "      <td>293.114162</td>\n",
              "      <td>0.044222</td>\n",
              "    </tr>\n",
              "    <tr>\n",
              "      <th>15</th>\n",
              "      <td>DeafOrHardOfHearing</td>\n",
              "      <td>293.398604</td>\n",
              "      <td>0.043294</td>\n",
              "    </tr>\n",
              "    <tr>\n",
              "      <th>16</th>\n",
              "      <td>HighRiskLastYear</td>\n",
              "      <td>294.240418</td>\n",
              "      <td>0.040549</td>\n",
              "    </tr>\n",
              "    <tr>\n",
              "      <th>17</th>\n",
              "      <td>HadAngina</td>\n",
              "      <td>294.568157</td>\n",
              "      <td>0.039480</td>\n",
              "    </tr>\n",
              "    <tr>\n",
              "      <th>0</th>\n",
              "      <td>CovidPos_No</td>\n",
              "      <td>298.115389</td>\n",
              "      <td>0.027914</td>\n",
              "    </tr>\n",
              "    <tr>\n",
              "      <th>2</th>\n",
              "      <td>CovidPos_Yes</td>\n",
              "      <td>298.403693</td>\n",
              "      <td>0.026974</td>\n",
              "    </tr>\n",
              "    <tr>\n",
              "      <th>4</th>\n",
              "      <td>RaceEthnicityCategory_Hispanic</td>\n",
              "      <td>298.404412</td>\n",
              "      <td>0.026971</td>\n",
              "    </tr>\n",
              "    <tr>\n",
              "      <th>6</th>\n",
              "      <td>RaceEthnicityCategory_Other race only, Non-His...</td>\n",
              "      <td>303.850803</td>\n",
              "      <td>0.009212</td>\n",
              "    </tr>\n",
              "    <tr>\n",
              "      <th>5</th>\n",
              "      <td>RaceEthnicityCategory_Multiracial, Non-Hispanic</td>\n",
              "      <td>305.219956</td>\n",
              "      <td>0.004747</td>\n",
              "    </tr>\n",
              "    <tr>\n",
              "      <th>3</th>\n",
              "      <td>RaceEthnicityCategory_Black only, Non-Hispanic</td>\n",
              "      <td>306.161490</td>\n",
              "      <td>0.001677</td>\n",
              "    </tr>\n",
              "    <tr>\n",
              "      <th>1</th>\n",
              "      <td>CovidPos_Tested positive using home test witho...</td>\n",
              "      <td>306.579822</td>\n",
              "      <td>0.000313</td>\n",
              "    </tr>\n",
              "  </tbody>\n",
              "</table>\n",
              "</div>"
            ],
            "text/plain": [
              "                                              Feature         MSE  R-squared\n",
              "8                                       PneumoVaxEver  254.100633   0.171436\n",
              "9                                        HadArthritis  264.994335   0.135914\n",
              "10                                       FluVaxLast12  283.229025   0.076455\n",
              "11                                          ChestScan  285.048780   0.070521\n",
              "12                                      HadSkinCancer  288.618166   0.058882\n",
              "13                                  DifficultyWalking  290.666235   0.052204\n",
              "14                                         HIVTesting  292.046654   0.047703\n",
              "7      RaceEthnicityCategory_White only, Non-Hispanic  293.114162   0.044222\n",
              "15                                DeafOrHardOfHearing  293.398604   0.043294\n",
              "16                                   HighRiskLastYear  294.240418   0.040549\n",
              "17                                          HadAngina  294.568157   0.039480\n",
              "0                                         CovidPos_No  298.115389   0.027914\n",
              "2                                        CovidPos_Yes  298.403693   0.026974\n",
              "4                      RaceEthnicityCategory_Hispanic  298.404412   0.026971\n",
              "6   RaceEthnicityCategory_Other race only, Non-His...  303.850803   0.009212\n",
              "5     RaceEthnicityCategory_Multiracial, Non-Hispanic  305.219956   0.004747\n",
              "3      RaceEthnicityCategory_Black only, Non-Hispanic  306.161490   0.001677\n",
              "1   CovidPos_Tested positive using home test witho...  306.579822   0.000313"
            ]
          },
          "execution_count": 54,
          "metadata": {},
          "output_type": "execute_result"
        }
      ],
      "source": [
        "results_df_all_sorted = results_df_all.sort_values(by='MSE', ascending=True)\n",
        "results_df_all_sorted"
      ]
    },
    {
      "cell_type": "markdown",
      "metadata": {
        "id": "BrcwGchniRde"
      },
      "source": [
        "I will now try the top 5, top 10, top 15, and 18(max) and test the combination of features and determine model has the best performance"
      ]
    },
    {
      "cell_type": "code",
      "execution_count": 55,
      "metadata": {
        "colab": {
          "base_uri": "https://localhost:8080/",
          "height": 175
        },
        "id": "lwNEPa3oZIew",
        "outputId": "2238ceef-d279-45da-eaaf-b715e620fb4c"
      },
      "outputs": [
        {
          "data": {
            "text/html": [
              "<div>\n",
              "<style scoped>\n",
              "    .dataframe tbody tr th:only-of-type {\n",
              "        vertical-align: middle;\n",
              "    }\n",
              "\n",
              "    .dataframe tbody tr th {\n",
              "        vertical-align: top;\n",
              "    }\n",
              "\n",
              "    .dataframe thead th {\n",
              "        text-align: right;\n",
              "    }\n",
              "</style>\n",
              "<table border=\"1\" class=\"dataframe\">\n",
              "  <thead>\n",
              "    <tr style=\"text-align: right;\">\n",
              "      <th></th>\n",
              "      <th>No of Features</th>\n",
              "      <th>MSE</th>\n",
              "      <th>R-squared</th>\n",
              "      <th>Training Time</th>\n",
              "    </tr>\n",
              "  </thead>\n",
              "  <tbody>\n",
              "    <tr>\n",
              "      <th>0</th>\n",
              "      <td>5</td>\n",
              "      <td>214.080418</td>\n",
              "      <td>0.301933</td>\n",
              "      <td>0.014520</td>\n",
              "    </tr>\n",
              "    <tr>\n",
              "      <th>1</th>\n",
              "      <td>10</td>\n",
              "      <td>190.523495</td>\n",
              "      <td>0.378746</td>\n",
              "      <td>0.041798</td>\n",
              "    </tr>\n",
              "    <tr>\n",
              "      <th>2</th>\n",
              "      <td>15</td>\n",
              "      <td>184.984558</td>\n",
              "      <td>0.396808</td>\n",
              "      <td>0.355971</td>\n",
              "    </tr>\n",
              "    <tr>\n",
              "      <th>3</th>\n",
              "      <td>18</td>\n",
              "      <td>184.383680</td>\n",
              "      <td>0.398767</td>\n",
              "      <td>0.067542</td>\n",
              "    </tr>\n",
              "  </tbody>\n",
              "</table>\n",
              "</div>"
            ],
            "text/plain": [
              "   No of Features         MSE  R-squared  Training Time\n",
              "0               5  214.080418   0.301933       0.014520\n",
              "1              10  190.523495   0.378746       0.041798\n",
              "2              15  184.984558   0.396808       0.355971\n",
              "3              18  184.383680   0.398767       0.067542"
            ]
          },
          "execution_count": 55,
          "metadata": {},
          "output_type": "execute_result"
        }
      ],
      "source": [
        "import time\n",
        "feature_list = [results_df_all_sorted['Feature'][:i*5].to_list() for i in range(1,5)] # Get the top 5, top 10, top 15, top 18\n",
        "\n",
        "results = []\n",
        "\n",
        "X_train, X_test, y_train, y_test = train_test_split(X, y, test_size=0.2, random_state=4211)\n",
        "\n",
        "for features in feature_list:\n",
        "  X_train_feature = X_train[features]\n",
        "  X_test_feature = X_test[features]\n",
        "\n",
        "  model = LinearRegression()\n",
        "  start_time = time.time()\n",
        "  model.fit(X_train_feature, y_train)\n",
        "  training_time = time.time() - start_time\n",
        "\n",
        "  y_pred = model.predict(X_test_feature)\n",
        "\n",
        "  mse = mean_squared_error(y_test,y_pred)\n",
        "  r2 = r2_score(y_test,y_pred)\n",
        "\n",
        "  results.append({'No of Features': len(features), 'MSE': mse, 'R-squared': r2, 'Training Time': training_time})\n",
        "\n",
        "results_df= pd.DataFrame(results)\n",
        "results_df.sort_values(by='MSE', ascending = False)"
      ]
    },
    {
      "cell_type": "markdown",
      "metadata": {
        "id": "RgWUcNQGUhiN"
      },
      "source": [
        "Clearly, taking in more of the features improves the r^2 as well as the MSE. However, the incremental improvement is converging at around 0.4 r^2"
      ]
    },
    {
      "cell_type": "markdown",
      "metadata": {
        "id": "mBkXzSZdV1qF"
      },
      "source": [
        "## 6.2 Feedforward Neural Networks"
      ]
    },
    {
      "cell_type": "markdown",
      "metadata": {
        "id": "-_Zj55jspIPL"
      },
      "source": [
        "## [Q12]"
      ]
    },
    {
      "cell_type": "markdown",
      "metadata": {
        "id": "ZZTdv2JKbVQd"
      },
      "source": [
        "The model will be trained using the top 10 features from 6.1. "
      ]
    },
    {
      "cell_type": "code",
      "execution_count": 56,
      "metadata": {},
      "outputs": [
        {
          "name": "stdout",
          "output_type": "stream",
          "text": [
            "Training model for 1 hidden units\n",
            "Training model for 8 hidden units\n",
            "Training model for 32 hidden units\n",
            "Training model for 128 hidden units\n"
          ]
        }
      ],
      "source": [
        "from sklearn.neural_network import MLPRegressor\n",
        "import time\n",
        "\n",
        "hidden_units_list = [1, 8, 32, 128]\n",
        "results = []\n",
        "\n",
        "X_selected = X.copy()\n",
        "X_selected = X_selected[results_df_all_sorted['Feature'][:10].to_list()]\n",
        "\n",
        "X_train, X_test, y_train, y_test = train_test_split(X_selected, y, test_size=0.2, random_state=4211)\n",
        "\n",
        "\n",
        "for H in hidden_units_list:\n",
        "    print(f'Training model for {H} hidden units')\n",
        "    training_times = []\n",
        "    r2_scores = []\n",
        "    mse_scores = []\n",
        "\n",
        "    for _ in range(3): \n",
        "        model = MLPRegressor(hidden_layer_sizes=(H, H, H), early_stopping=True)\n",
        "\n",
        "        # Record training time\n",
        "        start_time = time.time()\n",
        "        model.fit(X_train, y_train)\n",
        "        training_time = time.time() - start_time\n",
        "        training_times.append(training_time)\n",
        "\n",
        "        # Evaluate the model\n",
        "        y_pred = model.predict(X_test)\n",
        "        r2 = r2_score(y_test, y_pred)\n",
        "        mse = mean_squared_error(y_test, y_pred)\n",
        "\n",
        "        r2_scores.append(r2)\n",
        "        mse_scores.append(mse)\n",
        "\n",
        "    # Calculate statistics\n",
        "    mean_training_time = np.mean(training_times)\n",
        "    std_training_time = np.std(training_times)\n",
        "    mean_r2 = np.mean(r2_scores)\n",
        "    std_r2 = np.std(r2_scores)\n",
        "    mean_mse = np.mean(mse_scores)\n",
        "    std_mse = np.std(mse_scores)\n",
        "\n",
        "    results.append({\n",
        "        'Hidden Units': H,\n",
        "        'Mean Training Time': mean_training_time,\n",
        "        'Std Training Time': std_training_time,\n",
        "        'Mean R^2 Score': mean_r2,\n",
        "        'Std R^2 Score': std_r2,\n",
        "        'Mean MSE': mean_mse,\n",
        "        'Std MSE': std_mse\n",
        "    })\n",
        "\n",
        "# Convert results to DataFrame for better visualization\n",
        "results_df_reg_NN = pd.DataFrame(results)\n"
      ]
    },
    {
      "cell_type": "markdown",
      "metadata": {},
      "source": [
        "*Reference 3.3*"
      ]
    },
    {
      "cell_type": "code",
      "execution_count": 57,
      "metadata": {},
      "outputs": [
        {
          "data": {
            "text/html": [
              "<div>\n",
              "<style scoped>\n",
              "    .dataframe tbody tr th:only-of-type {\n",
              "        vertical-align: middle;\n",
              "    }\n",
              "\n",
              "    .dataframe tbody tr th {\n",
              "        vertical-align: top;\n",
              "    }\n",
              "\n",
              "    .dataframe thead th {\n",
              "        text-align: right;\n",
              "    }\n",
              "</style>\n",
              "<table border=\"1\" class=\"dataframe\">\n",
              "  <thead>\n",
              "    <tr style=\"text-align: right;\">\n",
              "      <th></th>\n",
              "      <th>Hidden Units</th>\n",
              "      <th>Mean Training Time</th>\n",
              "      <th>Std Training Time</th>\n",
              "      <th>Mean R^2 Score</th>\n",
              "      <th>Std R^2 Score</th>\n",
              "      <th>Mean MSE</th>\n",
              "      <th>Std MSE</th>\n",
              "    </tr>\n",
              "  </thead>\n",
              "  <tbody>\n",
              "    <tr>\n",
              "      <th>0</th>\n",
              "      <td>1</td>\n",
              "      <td>9.462898</td>\n",
              "      <td>4.174129</td>\n",
              "      <td>-0.000151</td>\n",
              "      <td>0.000134</td>\n",
              "      <td>306.722072</td>\n",
              "      <td>0.040954</td>\n",
              "    </tr>\n",
              "    <tr>\n",
              "      <th>1</th>\n",
              "      <td>8</td>\n",
              "      <td>10.198643</td>\n",
              "      <td>4.375519</td>\n",
              "      <td>0.409886</td>\n",
              "      <td>0.000287</td>\n",
              "      <td>180.973747</td>\n",
              "      <td>0.088123</td>\n",
              "    </tr>\n",
              "    <tr>\n",
              "      <th>2</th>\n",
              "      <td>32</td>\n",
              "      <td>10.569572</td>\n",
              "      <td>1.658518</td>\n",
              "      <td>0.411570</td>\n",
              "      <td>0.000129</td>\n",
              "      <td>180.457351</td>\n",
              "      <td>0.039613</td>\n",
              "    </tr>\n",
              "    <tr>\n",
              "      <th>3</th>\n",
              "      <td>128</td>\n",
              "      <td>113.501318</td>\n",
              "      <td>39.280800</td>\n",
              "      <td>0.411357</td>\n",
              "      <td>0.000425</td>\n",
              "      <td>180.522675</td>\n",
              "      <td>0.130462</td>\n",
              "    </tr>\n",
              "  </tbody>\n",
              "</table>\n",
              "</div>"
            ],
            "text/plain": [
              "   Hidden Units  Mean Training Time  Std Training Time  Mean R^2 Score  \\\n",
              "0             1            9.462898           4.174129       -0.000151   \n",
              "1             8           10.198643           4.375519        0.409886   \n",
              "2            32           10.569572           1.658518        0.411570   \n",
              "3           128          113.501318          39.280800        0.411357   \n",
              "\n",
              "   Std R^2 Score    Mean MSE   Std MSE  \n",
              "0       0.000134  306.722072  0.040954  \n",
              "1       0.000287  180.973747  0.088123  \n",
              "2       0.000129  180.457351  0.039613  \n",
              "3       0.000425  180.522675  0.130462  "
            ]
          },
          "execution_count": 57,
          "metadata": {},
          "output_type": "execute_result"
        }
      ],
      "source": [
        "results_df_reg_NN"
      ]
    },
    {
      "cell_type": "code",
      "execution_count": 59,
      "metadata": {},
      "outputs": [
        {
          "data": {
            "image/png": "[encoded data removed]",
            "text/plain": [
              "<Figure size 800x600 with 1 Axes>"
            ]
          },
          "metadata": {},
          "output_type": "display_data"
        }
      ],
      "source": [
        "plt.figure(figsize=(8, 6))\n",
        "plt.plot(results_df_reg_NN['Hidden Units'], results_df_reg_NN['Mean R^2 Score'], marker='o', linestyle='-', color='b')\n",
        "\n",
        "# labels and title\n",
        "plt.xlabel('Hidden Units')\n",
        "plt.ylabel('Mean R^2 Score')\n",
        "plt.title('Hidden Units vs Mean R^2 Score')\n",
        "plt.grid(True)\n",
        "\n",
        "# Annotating each point with R^2 value\n",
        "for i in range(len(results_df)):\n",
        "    plt.text(results_df_reg_NN['Hidden Units'][i], results_df_reg_NN['Mean R^2 Score'][i], \n",
        "             f'{results_df_reg_NN[\"Mean R^2 Score\"][i]:.2f}', \n",
        "             ha='right', va='bottom', fontsize=9, color='black')\n",
        "\n",
        "plt.tight_layout() \n",
        "plt.show()"
      ]
    },
    {
      "cell_type": "markdown",
      "metadata": {
        "id": "7xmg1etMor5S"
      },
      "source": [
        "## [Q13]\n",
        "- The neural network achieved an R² of 0.40, showing a modest improvement over the linear regression model's R² of 0.37, indicating it captures slightly more variance in the target variable.\n",
        "- Given the relatively longer training time for the neural network and only a small increase in R², linear regression may be preferred, especially with smaller datasets where simpler models often generalize better.\n",
        "- The interpretability of linear regression, with clear coefficients showing feature relationships, further supports its use when speed and understanding model behavior are priorities."
      ]
    },
    {
      "cell_type": "markdown",
      "metadata": {},
      "source": [
        "\n",
        "## [Q14]\n",
        "It is clear that as the number of hidden layers increases, the R2 score increases and the MSE decreases. This can be due to the fact neural network's ability to capture complex relationships in data, leading to improved R². However, 128 units results in diminishing returns, with a lower R2 and higher MSE. The performance difference can be attributed to a combination of overfitting, data size, training dynamics, and the complexity of the model relative to the task.\n",
        "\n",
        "- R² represents the proportion of variance in the dependent variable that is predictable from the independent variables. It's a relative measure that indicates how well the model fits the data.\n",
        "- MSE provides an absolute measure of how well the model's predictions match the actual data, penalizing larger errors more than smaller ones due to the squaring of errors. **Lower MSE values indicate better model performance; however, MSE does not provide a normalized measure of fit as R² does.**\n",
        "\n",
        "R² is often used to assess the goodness-of-fit of the model, while MSE is commonly used for quantifying the accuracy of predictions"
      ]
    },
    {
      "cell_type": "markdown",
      "metadata": {},
      "source": [
        "# Classification "
      ]
    },
    {
      "cell_type": "markdown",
      "metadata": {
        "id": "sz0QMZgJ0l7c"
      },
      "source": [
        "## 7.1 Logistic Regression"
      ]
    },
    {
      "cell_type": "markdown",
      "metadata": {
        "id": "gcCltCOC0sbl"
      },
      "source": [
        "## [Q15-17]"
      ]
    },
    {
      "cell_type": "code",
      "execution_count": 62,
      "metadata": {
        "id": "y1iJKXqNk-X8"
      },
      "outputs": [],
      "source": [
        "from sklearn.model_selection import train_test_split\n",
        "from sklearn.linear_model import SGDClassifier\n",
        "from sklearn.metrics import accuracy_score, f1_score\n",
        "\n",
        "selected_features = k_best_classif_top25['Feature'].tolist() #selected classif features from Q8\n",
        "X_selected = X_classif[selected_features]\n",
        "\n",
        "X_train, X_val, y_train, y_val = train_test_split(X_selected, y_classif, test_size=0.2, random_state=4211)\n",
        "\n",
        "# Lists to store results\n",
        "eta_list = [1/(10**i) for i in range(1,4)]  # Initial step size\n",
        "num_repeats = 3\n",
        "\n",
        "summary = []\n",
        "\n",
        "for eta in eta_list:\n",
        "  training_times = []\n",
        "  accuracies = []\n",
        "  f1_scores = []\n",
        "  for _ in range(num_repeats):\n",
        "    model = SGDClassifier(loss='log_loss', learning_rate='adaptive', eta0=eta)\n",
        "\n",
        "\n",
        "    # Record training time\n",
        "    start_time = time.time()\n",
        "    model.fit(X_train, y_train)\n",
        "    training_time = time.time() - start_time\n",
        "\n",
        "    # Make predictions on the validation set\n",
        "    y_pred = model.predict(X_val)\n",
        "\n",
        "    # Evaluate the model\n",
        "    accuracy = accuracy_score(y_val, y_pred)\n",
        "    f1 = f1_score(y_val, y_pred)\n",
        "\n",
        "    # Store results\n",
        "    training_times.append(training_time)\n",
        "    accuracies.append(accuracy)\n",
        "    f1_scores.append(f1)\n",
        "\n",
        "  # Calculate mean and standard deviation for training time, accuracy, and F1 score\n",
        "  mean_training_time = np.mean(training_times)\n",
        "  std_training_time = np.std(training_times)\n",
        "  mean_accuracy = np.mean(accuracies)\n",
        "  std_accuracy = np.std(accuracies)\n",
        "  mean_f1 = np.mean(f1_scores)\n",
        "  std_f1 = np.std(f1_scores)\n",
        "\n",
        "  summary.append({'eta':eta, 'Training Time mean' : mean_training_time,\n",
        "  'Training Time std' : std_training_time,\n",
        "  'Accuracy mean': mean_accuracy, 'Accuracy std' : std_accuracy,\n",
        "  'F1 mean' : mean_f1,\n",
        "  'F1 std': std_f1})\n",
        "\n",
        "results_df_classif_LR= pd.DataFrame(summary)"
      ]
    },
    {
      "cell_type": "markdown",
      "metadata": {},
      "source": [
        "*Reference 4.1*"
      ]
    },
    {
      "cell_type": "code",
      "execution_count": 63,
      "metadata": {},
      "outputs": [
        {
          "data": {
            "text/html": [
              "<div>\n",
              "<style scoped>\n",
              "    .dataframe tbody tr th:only-of-type {\n",
              "        vertical-align: middle;\n",
              "    }\n",
              "\n",
              "    .dataframe tbody tr th {\n",
              "        vertical-align: top;\n",
              "    }\n",
              "\n",
              "    .dataframe thead th {\n",
              "        text-align: right;\n",
              "    }\n",
              "</style>\n",
              "<table border=\"1\" class=\"dataframe\">\n",
              "  <thead>\n",
              "    <tr style=\"text-align: right;\">\n",
              "      <th></th>\n",
              "      <th>eta</th>\n",
              "      <th>Training Time mean</th>\n",
              "      <th>Training Time std</th>\n",
              "      <th>Accuracy mean</th>\n",
              "      <th>Accuracy std</th>\n",
              "      <th>F1 mean</th>\n",
              "      <th>F1 std</th>\n",
              "    </tr>\n",
              "  </thead>\n",
              "  <tbody>\n",
              "    <tr>\n",
              "      <th>0</th>\n",
              "      <td>0.100</td>\n",
              "      <td>2.814877</td>\n",
              "      <td>0.338164</td>\n",
              "      <td>0.945881</td>\n",
              "      <td>0.000012</td>\n",
              "      <td>0.351365</td>\n",
              "      <td>0.000326</td>\n",
              "    </tr>\n",
              "    <tr>\n",
              "      <th>1</th>\n",
              "      <td>0.010</td>\n",
              "      <td>1.733781</td>\n",
              "      <td>0.419931</td>\n",
              "      <td>0.945830</td>\n",
              "      <td>0.000084</td>\n",
              "      <td>0.356230</td>\n",
              "      <td>0.002894</td>\n",
              "    </tr>\n",
              "    <tr>\n",
              "      <th>2</th>\n",
              "      <td>0.001</td>\n",
              "      <td>0.956575</td>\n",
              "      <td>0.133332</td>\n",
              "      <td>0.947016</td>\n",
              "      <td>0.000138</td>\n",
              "      <td>0.348685</td>\n",
              "      <td>0.002843</td>\n",
              "    </tr>\n",
              "  </tbody>\n",
              "</table>\n",
              "</div>"
            ],
            "text/plain": [
              "     eta  Training Time mean  Training Time std  Accuracy mean  Accuracy std  \\\n",
              "0  0.100            2.814877           0.338164       0.945881      0.000012   \n",
              "1  0.010            1.733781           0.419931       0.945830      0.000084   \n",
              "2  0.001            0.956575           0.133332       0.947016      0.000138   \n",
              "\n",
              "    F1 mean    F1 std  \n",
              "0  0.351365  0.000326  \n",
              "1  0.356230  0.002894  \n",
              "2  0.348685  0.002843  "
            ]
          },
          "execution_count": 63,
          "metadata": {},
          "output_type": "execute_result"
        }
      ],
      "source": [
        "results_df_classif_LR"
      ]
    },
    {
      "cell_type": "markdown",
      "metadata": {},
      "source": [
        "*Reference 4.2*"
      ]
    },
    {
      "cell_type": "code",
      "execution_count": 64,
      "metadata": {
        "id": "znmnKh8CeFiX"
      },
      "outputs": [
        {
          "data": {
            "image/png": "[encoded data removed]",
            "text/plain": [
              "<Figure size 800x600 with 1 Axes>"
            ]
          },
          "metadata": {},
          "output_type": "display_data"
        }
      ],
      "source": [
        "from sklearn.metrics import roc_curve, auc\n",
        "import matplotlib.pyplot as plt\n",
        "\n",
        "#y_val and y_pred are taken from the previous cell\n",
        "\n",
        "fpr, tpr, thresholds = roc_curve(y_val, y_pred)\n",
        "roc_auc = auc(fpr, tpr)\n",
        "\n",
        "plt.figure(figsize=(8, 6))\n",
        "plt.plot(fpr, tpr, color='blue', label=f'ROC Curve (AUC = {roc_auc:.2f})')\n",
        "plt.plot([0, 1], [0, 1], color='red', linestyle='--')  # Diagonal line\n",
        "plt.xlim([0.0, 1.0])\n",
        "plt.ylim([0.0, 1.05])\n",
        "plt.xlabel('False Positive Rate')\n",
        "plt.ylabel('True Positive Rate')\n",
        "plt.title('Receiver Operating Characteristic (ROC) Curve')\n",
        "plt.legend(loc='lower right')\n",
        "plt.grid()\n",
        "plt.show()"
      ]
    },
    {
      "cell_type": "markdown",
      "metadata": {},
      "source": [
        "*Reference 4.3*"
      ]
    },
    {
      "cell_type": "code",
      "execution_count": 65,
      "metadata": {
        "id": "TEnicrvyjrk6"
      },
      "outputs": [
        {
          "name": "stdout",
          "output_type": "stream",
          "text": [
            "True Positives (TP): 561\n",
            "True Negatives (TN): 36714\n",
            "False Positives (FP): 504\n",
            "False Negatives (FN): 1585\n"
          ]
        }
      ],
      "source": [
        "from sklearn.metrics import confusion_matrix\n",
        "\n",
        "tn, fp, fn, tp = confusion_matrix(y_val, y_pred).ravel()\n",
        "\n",
        "# Output the results\n",
        "print(f\"True Positives (TP): {tp}\")\n",
        "print(f\"True Negatives (TN): {tn}\")\n",
        "print(f\"False Positives (FP): {fp}\")\n",
        "print(f\"False Negatives (FN): {fn}\")"
      ]
    },
    {
      "cell_type": "markdown",
      "metadata": {
        "id": "DkqmGFVnoL4d"
      },
      "source": [
        "Why might the confusion matrix (TP,FP,TN,FN) numbers be helful?\n",
        "\n",
        "1. Detailed Error Analysis\n",
        "- Specific Counts: The confusion matrix provides the counts of true positives (TP), true negatives (TN), false positives (FP), and false negatives (FN). This detailed breakdown allows you to understand where the model is making errors.\n",
        "\n",
        "- Targeted Insights: By examining these numbers, you can identify specific types of errors. For example, if there are many false negatives, it indicates that the model is missing positive cases, which is critical in healthcare\n",
        "\n",
        "\n",
        "2. Class imbalances:\n",
        "In healthcare datasets, class imbalance is common (e.g., fewer positive cases of a disease compared to negative cases).\n",
        "\n",
        "- Confusion Matrix: It reveals how well the model is identifying the minority class (e.g., positive disease cases). By examining FN and FP, healthcare professionals can understand whether the model is missing critical cases (false negatives) or incorrectly flagging healthy individuals as sick (false positives).\n",
        "\n",
        "- F1 Score: While the F1 score accounts for both precision and recall, it may mask the impact of false negatives in critical applications like disease detection. A high F1 score could be achieved with a model that still misses many positive cases, which is crucial in healthcare."
      ]
    },
    {
      "cell_type": "markdown",
      "metadata": {
        "id": "fR1ZhzkCpW4h"
      },
      "source": [
        "##  Feedforward Neural Network"
      ]
    },
    {
      "cell_type": "markdown",
      "metadata": {
        "id": "OGqvsCHQpQzu"
      },
      "source": [
        "## [Q18 & Q19]"
      ]
    },
    {
      "cell_type": "code",
      "execution_count": 66,
      "metadata": {},
      "outputs": [
        {
          "data": {
            "text/html": [
              "<div>\n",
              "<style scoped>\n",
              "    .dataframe tbody tr th:only-of-type {\n",
              "        vertical-align: middle;\n",
              "    }\n",
              "\n",
              "    .dataframe tbody tr th {\n",
              "        vertical-align: top;\n",
              "    }\n",
              "\n",
              "    .dataframe thead th {\n",
              "        text-align: right;\n",
              "    }\n",
              "</style>\n",
              "<table border=\"1\" class=\"dataframe\">\n",
              "  <thead>\n",
              "    <tr style=\"text-align: right;\">\n",
              "      <th></th>\n",
              "      <th>HadAngina</th>\n",
              "      <th>GeneralHealth</th>\n",
              "      <th>HadStroke</th>\n",
              "      <th>Age</th>\n",
              "      <th>ChestScan</th>\n",
              "      <th>RemovedTeeth</th>\n",
              "      <th>DifficultyWalking</th>\n",
              "      <th>HadDiabetes</th>\n",
              "      <th>PhysicalHealthDays</th>\n",
              "      <th>HadCOPD</th>\n",
              "      <th>PneumoVaxEver</th>\n",
              "    </tr>\n",
              "  </thead>\n",
              "  <tbody>\n",
              "    <tr>\n",
              "      <th>0</th>\n",
              "      <td>0</td>\n",
              "      <td>3.0</td>\n",
              "      <td>0</td>\n",
              "      <td>41.9</td>\n",
              "      <td>0</td>\n",
              "      <td>0.0</td>\n",
              "      <td>0</td>\n",
              "      <td>0.0</td>\n",
              "      <td>0.000000</td>\n",
              "      <td>0</td>\n",
              "      <td>0</td>\n",
              "    </tr>\n",
              "    <tr>\n",
              "      <th>1</th>\n",
              "      <td>0</td>\n",
              "      <td>1.0</td>\n",
              "      <td>0</td>\n",
              "      <td>42.3</td>\n",
              "      <td>1</td>\n",
              "      <td>2.0</td>\n",
              "      <td>0</td>\n",
              "      <td>0.0</td>\n",
              "      <td>0.000000</td>\n",
              "      <td>0</td>\n",
              "      <td>0</td>\n",
              "    </tr>\n",
              "    <tr>\n",
              "      <th>2</th>\n",
              "      <td>0</td>\n",
              "      <td>1.0</td>\n",
              "      <td>0</td>\n",
              "      <td>66.3</td>\n",
              "      <td>0</td>\n",
              "      <td>0.0</td>\n",
              "      <td>1</td>\n",
              "      <td>3.0</td>\n",
              "      <td>0.333333</td>\n",
              "      <td>0</td>\n",
              "      <td>1</td>\n",
              "    </tr>\n",
              "    <tr>\n",
              "      <th>3</th>\n",
              "      <td>0</td>\n",
              "      <td>4.0</td>\n",
              "      <td>0</td>\n",
              "      <td>32.3</td>\n",
              "      <td>0</td>\n",
              "      <td>0.0</td>\n",
              "      <td>0</td>\n",
              "      <td>0.0</td>\n",
              "      <td>0.000000</td>\n",
              "      <td>0</td>\n",
              "      <td>0</td>\n",
              "    </tr>\n",
              "    <tr>\n",
              "      <th>4</th>\n",
              "      <td>1</td>\n",
              "      <td>1.0</td>\n",
              "      <td>0</td>\n",
              "      <td>71.4</td>\n",
              "      <td>1</td>\n",
              "      <td>3.0</td>\n",
              "      <td>1</td>\n",
              "      <td>0.0</td>\n",
              "      <td>5.000000</td>\n",
              "      <td>0</td>\n",
              "      <td>0</td>\n",
              "    </tr>\n",
              "    <tr>\n",
              "      <th>...</th>\n",
              "      <td>...</td>\n",
              "      <td>...</td>\n",
              "      <td>...</td>\n",
              "      <td>...</td>\n",
              "      <td>...</td>\n",
              "      <td>...</td>\n",
              "      <td>...</td>\n",
              "      <td>...</td>\n",
              "      <td>...</td>\n",
              "      <td>...</td>\n",
              "      <td>...</td>\n",
              "    </tr>\n",
              "    <tr>\n",
              "      <th>196812</th>\n",
              "      <td>0</td>\n",
              "      <td>2.0</td>\n",
              "      <td>0</td>\n",
              "      <td>72.8</td>\n",
              "      <td>1</td>\n",
              "      <td>1.0</td>\n",
              "      <td>0</td>\n",
              "      <td>3.0</td>\n",
              "      <td>0.000000</td>\n",
              "      <td>0</td>\n",
              "      <td>1</td>\n",
              "    </tr>\n",
              "    <tr>\n",
              "      <th>196813</th>\n",
              "      <td>0</td>\n",
              "      <td>4.0</td>\n",
              "      <td>0</td>\n",
              "      <td>47.2</td>\n",
              "      <td>0</td>\n",
              "      <td>0.0</td>\n",
              "      <td>0</td>\n",
              "      <td>0.0</td>\n",
              "      <td>0.000000</td>\n",
              "      <td>0</td>\n",
              "      <td>0</td>\n",
              "    </tr>\n",
              "    <tr>\n",
              "      <th>196814</th>\n",
              "      <td>0</td>\n",
              "      <td>2.0</td>\n",
              "      <td>0</td>\n",
              "      <td>67.3</td>\n",
              "      <td>0</td>\n",
              "      <td>1.0</td>\n",
              "      <td>1</td>\n",
              "      <td>0.0</td>\n",
              "      <td>0.000000</td>\n",
              "      <td>0</td>\n",
              "      <td>0</td>\n",
              "    </tr>\n",
              "    <tr>\n",
              "      <th>196815</th>\n",
              "      <td>0</td>\n",
              "      <td>3.0</td>\n",
              "      <td>0</td>\n",
              "      <td>72.5</td>\n",
              "      <td>1</td>\n",
              "      <td>1.0</td>\n",
              "      <td>0</td>\n",
              "      <td>0.0</td>\n",
              "      <td>0.000000</td>\n",
              "      <td>0</td>\n",
              "      <td>1</td>\n",
              "    </tr>\n",
              "    <tr>\n",
              "      <th>196816</th>\n",
              "      <td>0</td>\n",
              "      <td>2.0</td>\n",
              "      <td>0</td>\n",
              "      <td>52.4</td>\n",
              "      <td>0</td>\n",
              "      <td>1.0</td>\n",
              "      <td>0</td>\n",
              "      <td>0.0</td>\n",
              "      <td>10.000000</td>\n",
              "      <td>0</td>\n",
              "      <td>1</td>\n",
              "    </tr>\n",
              "  </tbody>\n",
              "</table>\n",
              "<p>196817 rows × 11 columns</p>\n",
              "</div>"
            ],
            "text/plain": [
              "        HadAngina  GeneralHealth  HadStroke   Age  ChestScan  RemovedTeeth  \\\n",
              "0               0            3.0          0  41.9          0           0.0   \n",
              "1               0            1.0          0  42.3          1           2.0   \n",
              "2               0            1.0          0  66.3          0           0.0   \n",
              "3               0            4.0          0  32.3          0           0.0   \n",
              "4               1            1.0          0  71.4          1           3.0   \n",
              "...           ...            ...        ...   ...        ...           ...   \n",
              "196812          0            2.0          0  72.8          1           1.0   \n",
              "196813          0            4.0          0  47.2          0           0.0   \n",
              "196814          0            2.0          0  67.3          0           1.0   \n",
              "196815          0            3.0          0  72.5          1           1.0   \n",
              "196816          0            2.0          0  52.4          0           1.0   \n",
              "\n",
              "        DifficultyWalking  HadDiabetes  PhysicalHealthDays  HadCOPD  \\\n",
              "0                       0          0.0            0.000000        0   \n",
              "1                       0          0.0            0.000000        0   \n",
              "2                       1          3.0            0.333333        0   \n",
              "3                       0          0.0            0.000000        0   \n",
              "4                       1          0.0            5.000000        0   \n",
              "...                   ...          ...                 ...      ...   \n",
              "196812                  0          3.0            0.000000        0   \n",
              "196813                  0          0.0            0.000000        0   \n",
              "196814                  1          0.0            0.000000        0   \n",
              "196815                  0          0.0            0.000000        0   \n",
              "196816                  0          0.0           10.000000        0   \n",
              "\n",
              "        PneumoVaxEver  \n",
              "0                   0  \n",
              "1                   0  \n",
              "2                   1  \n",
              "3                   0  \n",
              "4                   0  \n",
              "...               ...  \n",
              "196812              1  \n",
              "196813              0  \n",
              "196814              0  \n",
              "196815              1  \n",
              "196816              1  \n",
              "\n",
              "[196817 rows x 11 columns]"
            ]
          },
          "execution_count": 66,
          "metadata": {},
          "output_type": "execute_result"
        }
      ],
      "source": [
        "X_selected"
      ]
    },
    {
      "cell_type": "code",
      "execution_count": 73,
      "metadata": {
        "id": "vqrxxGbKgtQR"
      },
      "outputs": [
        {
          "name": "stdout",
          "output_type": "stream",
          "text": [
            "\n",
            "Running experiments for hidden units: 1\n",
            "\n",
            "Running experiments for hidden units: 8\n",
            "\n",
            "Running experiments for hidden units: 32\n",
            "\n",
            "Running experiments for hidden units: 128\n",
            "Model Complete\n"
          ]
        }
      ],
      "source": [
        "from sklearn.neural_network import MLPClassifier\n",
        "from sklearn.preprocessing import StandardScaler\n",
        "\n",
        "selected_features = k_best_classif_top25['Feature'].tolist() #selected classif features from Q8\n",
        "X_selected = X_classif[selected_features]\n",
        "\n",
        "#Split the data\n",
        "X_train, X_val, y_train, y_val = train_test_split(X_selected, y_classif, test_size=0.2, random_state=4211)\n",
        "\n",
        "hidden_units = [1, 8, 32, 128]\n",
        "accuracies = []\n",
        "accuracies_std = []\n",
        "f1_scores = []\n",
        "f1_scores_std = []\n",
        "training_times = []\n",
        "training_times_std = []\n",
        "models = {}  # Dictionary to store all models\n",
        "\n",
        "for H in hidden_units:\n",
        "    print(f'\\nRunning experiments for hidden units: {H}')\n",
        "    accuracies_for_H = []\n",
        "    f1_scores_for_H = []\n",
        "    training_times_for_H = []\n",
        "\n",
        "    # Run the model 3 times for each H\n",
        "    for run in range(3):\n",
        "        #Create MLP Classifer with 3 hidden layer\n",
        "        model = MLPClassifier(hidden_layer_sizes=(H,H,H), early_stopping=True)\n",
        "\n",
        "        # Record training time\n",
        "        start_time = time.time()\n",
        "        model.fit(X_train, y_train)\n",
        "        end_time = time.time()\n",
        "\n",
        "        # Record training time\n",
        "        training_time = end_time - start_time\n",
        "        training_times_for_H.append(training_time)\n",
        "\n",
        "        # Evaluate the model\n",
        "        y_val_pred = model.predict(X_val)\n",
        "        accuracy = accuracy_score(y_val, y_val_pred)\n",
        "        f1 = f1_score(y_val, y_val_pred)\n",
        "\n",
        "        accuracies_for_H.append(accuracy)\n",
        "        f1_scores_for_H.append(f1)\n",
        "\n",
        "    # Average results for the current H\n",
        "    accuracies.append(np.mean(accuracies_for_H))\n",
        "    accuracies_std.append(np.std(accuracies_for_H))\n",
        "\n",
        "    f1_scores.append(np.mean(f1_scores_for_H))\n",
        "    f1_scores_std.append(np.std(f1_scores_for_H))\n",
        "\n",
        "    training_times.append(np.mean(training_times_for_H))\n",
        "    training_times_std.append(np.std(training_times_for_H))\n",
        "\n",
        "    models[H] = model\n",
        "\n",
        "print(\"Model Complete\")"
      ]
    },
    {
      "cell_type": "markdown",
      "metadata": {},
      "source": [
        "*Reference 4.4*"
      ]
    },
    {
      "cell_type": "code",
      "execution_count": 74,
      "metadata": {
        "id": "GvSQlZc0mKHH"
      },
      "outputs": [
        {
          "data": {
            "image/png": "[encoded data removed]",
            "text/plain": [
              "<Figure size 1200x600 with 2 Axes>"
            ]
          },
          "metadata": {},
          "output_type": "display_data"
        }
      ],
      "source": [
        "# Plot the results\n",
        "plt.figure(figsize=(12, 6))\n",
        "\n",
        "# Plot accuracy\n",
        "plt.subplot(1, 2, 1)\n",
        "plt.plot(hidden_units, accuracies, marker='o', label='Accuracy', color='blue')\n",
        "plt.title('Average Accuracy vs Hidden Units')\n",
        "plt.xlabel('Number of Hidden Units (H)')\n",
        "plt.ylabel('Average Accuracy')\n",
        "plt.xticks(hidden_units)\n",
        "plt.ylim(0.0, max(1.0, max(accuracies) + 0.05))  # Dynamically set y-axis limits for accuracy\n",
        "plt.grid()\n",
        "plt.legend()\n",
        "\n",
        "\n",
        "# Plot F1 Score\n",
        "plt.subplot(1, 2, 2)\n",
        "plt.plot(hidden_units, f1_scores, marker='o', label='F1 Score', color='orange')\n",
        "plt.title('Average F1 Score vs Hidden Units')\n",
        "plt.xlabel('Number of Hidden Units (H)')\n",
        "plt.ylabel('Average F1 Score')\n",
        "plt.xticks(hidden_units)\n",
        "plt.ylim(0.0, max(1.0, max(f1_scores) + 0.05))  # Dynamically set y-axis limits for F1 score\n",
        "plt.grid()\n",
        "plt.legend()\n",
        "\n",
        "plt.tight_layout()\n",
        "plt.show()"
      ]
    },
    {
      "cell_type": "markdown",
      "metadata": {},
      "source": [
        "*Reference 4.5*"
      ]
    },
    {
      "cell_type": "markdown",
      "metadata": {
        "id": "p4hfjxAYnVCi"
      },
      "source": [
        "Given the fact that the graph does not display the relationships well, we will also get a table for the values"
      ]
    },
    {
      "cell_type": "code",
      "execution_count": 75,
      "metadata": {
        "id": "N2Mv0Q9onT6q"
      },
      "outputs": [
        {
          "data": {
            "text/html": [
              "<div>\n",
              "<style scoped>\n",
              "    .dataframe tbody tr th:only-of-type {\n",
              "        vertical-align: middle;\n",
              "    }\n",
              "\n",
              "    .dataframe tbody tr th {\n",
              "        vertical-align: top;\n",
              "    }\n",
              "\n",
              "    .dataframe thead th {\n",
              "        text-align: right;\n",
              "    }\n",
              "</style>\n",
              "<table border=\"1\" class=\"dataframe\">\n",
              "  <thead>\n",
              "    <tr style=\"text-align: right;\">\n",
              "      <th></th>\n",
              "      <th>Hidden Units</th>\n",
              "      <th>Training Times mean</th>\n",
              "      <th>Training Times std</th>\n",
              "      <th>Accuracy Scores mean</th>\n",
              "      <th>Accuracy Scores std</th>\n",
              "      <th>F1 Scores mean</th>\n",
              "      <th>F1 Scores std</th>\n",
              "    </tr>\n",
              "  </thead>\n",
              "  <tbody>\n",
              "    <tr>\n",
              "      <th>0</th>\n",
              "      <td>1</td>\n",
              "      <td>1.758104</td>\n",
              "      <td>0.026288</td>\n",
              "      <td>0.945483</td>\n",
              "      <td>0.000000</td>\n",
              "      <td>0.000000</td>\n",
              "      <td>0.000000</td>\n",
              "    </tr>\n",
              "    <tr>\n",
              "      <th>1</th>\n",
              "      <td>8</td>\n",
              "      <td>3.615834</td>\n",
              "      <td>0.469639</td>\n",
              "      <td>0.947067</td>\n",
              "      <td>0.000168</td>\n",
              "      <td>0.198031</td>\n",
              "      <td>0.051394</td>\n",
              "    </tr>\n",
              "    <tr>\n",
              "      <th>2</th>\n",
              "      <td>32</td>\n",
              "      <td>4.734227</td>\n",
              "      <td>1.439698</td>\n",
              "      <td>0.947245</td>\n",
              "      <td>0.000328</td>\n",
              "      <td>0.253901</td>\n",
              "      <td>0.070799</td>\n",
              "    </tr>\n",
              "    <tr>\n",
              "      <th>3</th>\n",
              "      <td>128</td>\n",
              "      <td>42.845226</td>\n",
              "      <td>0.459179</td>\n",
              "      <td>0.947414</td>\n",
              "      <td>0.000157</td>\n",
              "      <td>0.273673</td>\n",
              "      <td>0.032016</td>\n",
              "    </tr>\n",
              "  </tbody>\n",
              "</table>\n",
              "</div>"
            ],
            "text/plain": [
              "   Hidden Units  Training Times mean  Training Times std  \\\n",
              "0             1             1.758104            0.026288   \n",
              "1             8             3.615834            0.469639   \n",
              "2            32             4.734227            1.439698   \n",
              "3           128            42.845226            0.459179   \n",
              "\n",
              "   Accuracy Scores mean  Accuracy Scores std  F1 Scores mean  F1 Scores std  \n",
              "0              0.945483             0.000000        0.000000       0.000000  \n",
              "1              0.947067             0.000168        0.198031       0.051394  \n",
              "2              0.947245             0.000328        0.253901       0.070799  \n",
              "3              0.947414             0.000157        0.273673       0.032016  "
            ]
          },
          "execution_count": 75,
          "metadata": {},
          "output_type": "execute_result"
        }
      ],
      "source": [
        "results = pd.DataFrame({'Hidden Units' : hidden_units,\n",
        "                        'Training Times mean': training_times, 'Training Times std': training_times_std,\n",
        "                        'Accuracy Scores mean': accuracies, 'Accuracy Scores std' :  accuracies_std,\n",
        "                        'F1 Scores mean' : f1_scores, 'F1 Scores std': f1_scores_std})\n",
        "results"
      ]
    },
    {
      "cell_type": "markdown",
      "metadata": {},
      "source": [
        "*Reference 4.6*"
      ]
    },
    {
      "cell_type": "markdown",
      "metadata": {
        "id": "MKRvSKARhYrP"
      },
      "source": [
        "We are getting an extremely low F1 score, yet are getting high accuracy."
      ]
    },
    {
      "cell_type": "code",
      "execution_count": 76,
      "metadata": {
        "id": "m6ViI-vZfd6K"
      },
      "outputs": [
        {
          "data": {
            "text/plain": [
              "HadHeartAttack\n",
              "0    186070\n",
              "1     10747\n",
              "Name: count, dtype: int64"
            ]
          },
          "execution_count": 76,
          "metadata": {},
          "output_type": "execute_result"
        }
      ],
      "source": [
        "y_classif.value_counts()"
      ]
    },
    {
      "cell_type": "code",
      "execution_count": 77,
      "metadata": {
        "id": "RwN3M1czgICi"
      },
      "outputs": [
        {
          "name": "stdout",
          "output_type": "stream",
          "text": [
            "Proportion of positive cases: 0.05460402302646621\n"
          ]
        }
      ],
      "source": [
        "print(f'Proportion of positive cases: {y_classif[y_classif== 1].shape[0]/(y_classif[y_classif == 0].shape[0]+y_classif[y_classif== 1].shape[0])}')"
      ]
    },
    {
      "cell_type": "markdown",
      "metadata": {},
      "source": [
        "*Reference 4.7*"
      ]
    },
    {
      "cell_type": "code",
      "execution_count": 80,
      "metadata": {
        "id": "QG8INibIx9pj"
      },
      "outputs": [
        {
          "name": "stdout",
          "output_type": "stream",
          "text": [
            "True Positives (TP): 401\n",
            "True Negatives (TN): 36885\n",
            "False Positives (FP): 333\n",
            "False Negatives (FN): 1745\n"
          ]
        }
      ],
      "source": [
        "tn, fp, fn, tp = confusion_matrix(y_val, y_val_pred).ravel()\n",
        "\n",
        "# Output the results\n",
        "print(f\"True Positives (TP): {tp}\")\n",
        "print(f\"True Negatives (TN): {tn}\")\n",
        "print(f\"False Positives (FP): {fp}\")\n",
        "print(f\"False Negatives (FN): {fn}\")"
      ]
    },
    {
      "cell_type": "markdown",
      "metadata": {
        "id": "4kSaE2bbzvvX"
      },
      "source": [
        "## [Q20]\n",
        "The logistic regression has a faster training time, with a higher F1 and almost the same accuracy score. The combination of SGD's efficiency, the simpler structure of logistic regression, and the characteristics of the dataset likely contributed to the higher F1 score. Furthermore, the complexity of the neural network likely contributed to the higher learning times."
      ]
    },
    {
      "cell_type": "markdown",
      "metadata": {
        "id": "y4RNgIT8yqBl"
      },
      "source": [
        "## [Q21]\n",
        "The F1 score tends to increase as the hidden layer size grows because more hidden units help the model capture complex patterns in the data. This is especially useful for datasets with intricate relationships. There may be an optimal number of hidden units where performance improves significantly, but adding too many beyond that can lead to diminishing returns.\n",
        "\n"
      ]
    },
    {
      "cell_type": "markdown",
      "metadata": {},
      "source": [
        "*Reference 4.8*"
      ]
    },
    {
      "cell_type": "markdown",
      "metadata": {},
      "source": [
        "## [Q22]"
      ]
    },
    {
      "cell_type": "code",
      "execution_count": 79,
      "metadata": {
        "id": "YX96PrfJcg94"
      },
      "outputs": [
        {
          "data": {
            "image/png": "[encoded data removed]",
            "text/plain": [
              "<Figure size 1000x600 with 1 Axes>"
            ]
          },
          "metadata": {},
          "output_type": "display_data"
        }
      ],
      "source": [
        "fpr = {}\n",
        "tpr = {}\n",
        "roc_auc = {}\n",
        "\n",
        "for H in [1, 128]:\n",
        "    y_val_prob = models[H].predict_proba(X_val)[:, 1]  # Get probabilities for the positive class\n",
        "    fpr[H], tpr[H], _ = roc_curve(y_val, y_val_prob)\n",
        "    roc_auc[H] = auc(fpr[H], tpr[H])\n",
        "\n",
        "# Plotting the ROC curves\n",
        "plt.figure(figsize=(10, 6))\n",
        "for H in [1, 128]:\n",
        "    plt.plot(fpr[H], tpr[H], lw=2, label=f'Hidden Units {H} (AUC = {roc_auc[H]:.2f})')\n",
        "\n",
        "plt.plot([0, 1], [0, 1], 'k--', lw=2)  # Diagonal line\n",
        "plt.xlim([0.0, 1.0])\n",
        "plt.ylim([0.0, 1.05])\n",
        "plt.xlabel('False Positive Rate')\n",
        "plt.ylabel('True Positive Rate')\n",
        "plt.title('Receiver Operating Characteristic (ROC) Curve')\n",
        "plt.legend(loc='lower right')\n",
        "plt.grid()\n",
        "plt.show()"
      ]
    },
    {
      "cell_type": "markdown",
      "metadata": {},
      "source": [
        "The ROC curve plots the true positive rate (recall) against the false positive rate at various threshold settings. Because of its nature to model the TPR, the ROC AUC curve for imbalanced datasets helps ensure that you’re not just achieving high accuracy through majority class predictions. Instead, it provides a more nuanced understanding of model performance, focusing on the ability to correctly classify the minority class while managing false positives effectively. This is crucial in many real-world applications where false negatives can have severe consequences, such as in fraud detection or medical diagnoses. \n",
        "\n",
        "The shape of the ROC curve provides insight into the model's overall performance. A curve that hugs the top left corner indicates a strong model, while a curve closer to the diagonal line (the line of no discrimination) indicates poor performance."
      ]
    },
    {
      "cell_type": "markdown",
      "metadata": {},
      "source": [
        "# Bonus Section"
      ]
    },
    {
      "cell_type": "markdown",
      "metadata": {},
      "source": [
        "## 8.1"
      ]
    },
    {
      "cell_type": "markdown",
      "metadata": {},
      "source": [
        "No feature engineering to be done"
      ]
    },
    {
      "cell_type": "code",
      "execution_count": 94,
      "metadata": {},
      "outputs": [],
      "source": [
        "bonus_df = train_data # original dataframe with no feature engieering"
      ]
    },
    {
      "cell_type": "markdown",
      "metadata": {},
      "source": [
        "### Combination A"
      ]
    },
    {
      "cell_type": "markdown",
      "metadata": {},
      "source": [
        "*Reference 5.1*"
      ]
    },
    {
      "cell_type": "code",
      "execution_count": 95,
      "metadata": {},
      "outputs": [],
      "source": [
        "categorical_features_bonus = list(categorical_features)\n",
        "categorical_features_bonus.remove('HadHeartAttack')"
      ]
    },
    {
      "cell_type": "code",
      "execution_count": 124,
      "metadata": {},
      "outputs": [
        {
          "name": "stdout",
          "output_type": "stream",
          "text": [
            "Combination A Classification Report:\n",
            "Combination A accuracy score: 0.9480489787623209\n",
            "Combination A f1 score: 0.3717357910906298\n"
          ]
        }
      ],
      "source": [
        "from sklearn.compose import ColumnTransformer\n",
        "from sklearn.pipeline import Pipeline\n",
        "from sklearn.metrics import classification_report\n",
        "\n",
        "y_bonus = bonus_df['HadHeartAttack']\n",
        "X_bonus = bonus_df.drop(columns=['HadHeartAttack'])\n",
        "\n",
        "#Split the data\n",
        "X_train, X_test, y_train, y_test = train_test_split(X_bonus, y_bonus, test_size=0.2, random_state=4211)\n",
        "\n",
        "#Preprocessor\n",
        "preprocessor_A = ColumnTransformer(\n",
        "    transformers=[\n",
        "        ('num', Pipeline(steps=[\n",
        "            ('imputer', SimpleImputer(strategy='mean')),\n",
        "            ('scaler', StandardScaler(with_mean=True))  \n",
        "        ]), numerical_features),\n",
        "        ('cat', Pipeline(steps=[\n",
        "            ('onehot', OneHotEncoder(handle_unknown='ignore')), \n",
        "            ('scaler', StandardScaler(with_mean=False))\n",
        "        ]), categorical_features_bonus)\n",
        "    ]\n",
        ")\n",
        "\n",
        "model_A = Pipeline(steps=[\n",
        "    ('preprocessor', preprocessor_A),\n",
        "    ('classifier', MLPClassifier(hidden_layer_sizes=(128, 128, 128), early_stopping=True))\n",
        "])\n",
        "\n",
        "model_A.fit(X_train, y_train)\n",
        "y_pred_A = model_A.predict(X_test)\n",
        "print(\"Combination A Classification Report:\")\n",
        "print(f'Combination A accuracy score: {accuracy_score(y_test, y_pred_A)}')\n",
        "print(f'Combination A f1 score: {f1_score(y_test, y_pred_A)}')"
      ]
    },
    {
      "cell_type": "markdown",
      "metadata": {},
      "source": [
        "Usually when we do f1_score, without any average criterion, it provides the f1 score for the positive class. Therefore the comparable f1 score here is 0.33."
      ]
    },
    {
      "cell_type": "markdown",
      "metadata": {},
      "source": [
        "### Combination B"
      ]
    },
    {
      "cell_type": "code",
      "execution_count": 115,
      "metadata": {},
      "outputs": [],
      "source": [
        "bonus_features_excluding_ordinal = list(set(categorical_features_bonus) - set(ordial_features))"
      ]
    },
    {
      "cell_type": "markdown",
      "metadata": {},
      "source": [
        "Setting up the correct Ordinal Order"
      ]
    },
    {
      "cell_type": "code",
      "execution_count": 111,
      "metadata": {},
      "outputs": [
        {
          "data": {
            "text/plain": [
              "[['Never used e-cigarettes in my entire life',\n",
              "  'Not at all (right now)',\n",
              "  'Use them a few days',\n",
              "  'Use them every day'],\n",
              " ['Within past year (anytime less than 12 months ago)',\n",
              "  '1 year but less than 2 years ago (Within past 2 years)',\n",
              "  '2 year but less than 5 years ago (Within past 5 years)',\n",
              "  '5 or more years ago'],\n",
              " ['0', '1 to 5', '6 or more, but not all', 'All'],\n",
              " ['Poor', 'Fair', 'Good', 'Very good', 'Excellent'],\n",
              " ['Never smoked',\n",
              "  'Former smoker',\n",
              "  'Current smoker - now smokes some days',\n",
              "  'Current smoker - now smokes every day'],\n",
              " ['No',\n",
              "  'No, pre-diabetes or borderline diabetes',\n",
              "  'Yes, but only during pregnancy (female)',\n",
              "  'Yes']]"
            ]
          },
          "execution_count": 111,
          "metadata": {},
          "output_type": "execute_result"
        }
      ],
      "source": [
        "ordial_order = [['Never used e-cigarettes in my entire life', 'Not at all (right now)', 'Use them a few days', 'Use them every day'], \n",
        "                ['Within past year (anytime less than 12 months ago)', '1 year but less than 2 years ago (Within past 2 years)', '2 year but less than 5 years ago (Within past 5 years)', '5 or more years ago'], \n",
        "                ['0', '1 to 5', '6 or more, but not all', 'All'],\n",
        "                ['Poor', 'Fair', 'Good', 'Very good', \"Excellent\"],\n",
        "                ['Never smoked', 'Former smoker','Current smoker - now smokes some days' ,'Current smoker - now smokes every day'],\n",
        "                ['No', 'No, pre-diabetes or borderline diabetes','Yes, but only during pregnancy (female)', 'Yes']\n",
        "                ]\n",
        "\n",
        "ordial_order"
      ]
    },
    {
      "cell_type": "markdown",
      "metadata": {},
      "source": [
        "*Reference 5.2*"
      ]
    },
    {
      "cell_type": "code",
      "execution_count": 125,
      "metadata": {},
      "outputs": [
        {
          "name": "stdout",
          "output_type": "stream",
          "text": [
            "Combination B Classification Report:\n",
            "Combination B accuracy score: 0.9484300375978051\n",
            "Combination B f1 score: 0.2836979534227241\n"
          ]
        }
      ],
      "source": [
        "preprocessor_B = ColumnTransformer(\n",
        "    transformers=[\n",
        "        ('num', Pipeline(steps=[\n",
        "            ('imputer', SimpleImputer(strategy='constant', fill_value=0)),\n",
        "            ('scaler', StandardScaler(with_mean=True))\n",
        "        ]), numerical_features),\n",
        "        ('ord', OrdinalEncoder(categories=ordial_order), ordial_features),\n",
        "        ('cat', OneHotEncoder(handle_unknown='ignore'), bonus_features_excluding_ordinal)  \n",
        "    ]\n",
        ")\n",
        "\n",
        "model_B = Pipeline(steps=[\n",
        "    ('preprocessor', preprocessor_B),\n",
        "    ('classifier', MLPClassifier(hidden_layer_sizes=(128, 128, 128), early_stopping=True))\n",
        "])\n",
        "\n",
        "model_B.fit(X_train, y_train)\n",
        "y_pred_B = model_B.predict(X_test)\n",
        "print(\"Combination B Classification Report:\")\n",
        "print(f'Combination B accuracy score: {accuracy_score(y_test, y_pred_B)}')\n",
        "print(f'Combination B f1 score: {f1_score(y_test, y_pred_B)}')"
      ]
    },
    {
      "cell_type": "markdown",
      "metadata": {},
      "source": [
        "The f1 score improves by 0.02, suggesting some improvements. This can be due to the definition of the ordered categorical features"
      ]
    },
    {
      "cell_type": "markdown",
      "metadata": {},
      "source": [
        "### Combination C"
      ]
    },
    {
      "cell_type": "markdown",
      "metadata": {},
      "source": [
        "*Reference 5.3*"
      ]
    },
    {
      "cell_type": "code",
      "execution_count": 126,
      "metadata": {},
      "outputs": [
        {
          "name": "stdout",
          "output_type": "stream",
          "text": [
            "Combination B Classification Report:\n",
            "Combination C accuracy score: 0.9489381160451174\n",
            "Combination C f1 score: 0.31864406779661014\n"
          ]
        }
      ],
      "source": [
        "preprocessor_C = ColumnTransformer(\n",
        "    transformers=[\n",
        "        ('num', Pipeline(steps=[\n",
        "            ('imputer', SimpleImputer(strategy='median')),\n",
        "            ('scaler', RobustScaler())\n",
        "        ]), numerical_features),\n",
        "        ('ord', OrdinalEncoder(categories=ordial_order), ordial_features),\n",
        "        ('cat', OneHotEncoder(handle_unknown='ignore'), bonus_features_excluding_ordinal)  \n",
        "    ]\n",
        ")\n",
        "\n",
        "model_C = Pipeline(steps=[\n",
        "    ('preprocessor', preprocessor_C),\n",
        "    ('classifier', MLPClassifier(hidden_layer_sizes=(128, 128, 128), early_stopping=True))\n",
        "])\n",
        "\n",
        "model_C.fit(X_train, y_train)\n",
        "y_pred_C = model_C.predict(X_test)\n",
        "print(\"Combination B Classification Report:\")\n",
        "print(f'Combination C accuracy score: {accuracy_score(y_test, y_pred_C)}')\n",
        "print(f'Combination C f1 score: {f1_score(y_test, y_pred_C)}')"
      ]
    },
    {
      "cell_type": "markdown",
      "metadata": {},
      "source": [
        "## 8.2"
      ]
    },
    {
      "cell_type": "markdown",
      "metadata": {},
      "source": [
        "### [Q25]"
      ]
    },
    {
      "cell_type": "markdown",
      "metadata": {},
      "source": [
        "*Reference 5.4*"
      ]
    },
    {
      "cell_type": "code",
      "execution_count": 134,
      "metadata": {},
      "outputs": [
        {
          "name": "stdout",
          "output_type": "stream",
          "text": [
            "\n",
            "Summary of Hyperparameter Settings:\n",
            "                                           Parameters  Mean Accuracy  \\\n",
            "0   {'classifier__activation': 'relu', 'classifier...       0.947559   \n",
            "1   {'classifier__activation': 'relu', 'classifier...       0.947140   \n",
            "2   {'classifier__activation': 'relu', 'classifier...       0.947559   \n",
            "3   {'classifier__activation': 'relu', 'classifier...       0.947311   \n",
            "4   {'classifier__activation': 'relu', 'classifier...       0.947489   \n",
            "5   {'classifier__activation': 'relu', 'classifier...       0.947076   \n",
            "6   {'classifier__activation': 'relu', 'classifier...       0.947489   \n",
            "7   {'classifier__activation': 'relu', 'classifier...       0.947210   \n",
            "8   {'classifier__activation': 'relu', 'classifier...       0.947273   \n",
            "9   {'classifier__activation': 'relu', 'classifier...       0.947025   \n",
            "10  {'classifier__activation': 'relu', 'classifier...       0.947273   \n",
            "11  {'classifier__activation': 'relu', 'classifier...       0.947267   \n",
            "12  {'classifier__activation': 'tanh', 'classifier...       0.947191   \n",
            "13  {'classifier__activation': 'tanh', 'classifier...       0.946943   \n",
            "14  {'classifier__activation': 'tanh', 'classifier...       0.947191   \n",
            "15  {'classifier__activation': 'tanh', 'classifier...       0.946949   \n",
            "16  {'classifier__activation': 'tanh', 'classifier...       0.947483   \n",
            "17  {'classifier__activation': 'tanh', 'classifier...       0.947000   \n",
            "18  {'classifier__activation': 'tanh', 'classifier...       0.947483   \n",
            "19  {'classifier__activation': 'tanh', 'classifier...       0.946987   \n",
            "20  {'classifier__activation': 'tanh', 'classifier...       0.947311   \n",
            "21  {'classifier__activation': 'tanh', 'classifier...       0.947025   \n",
            "22  {'classifier__activation': 'tanh', 'classifier...       0.947311   \n",
            "23  {'classifier__activation': 'tanh', 'classifier...       0.947025   \n",
            "\n",
            "    Std Accuracy  \n",
            "0       0.000223  \n",
            "1       0.000431  \n",
            "2       0.000223  \n",
            "3       0.000400  \n",
            "4       0.000529  \n",
            "5       0.000385  \n",
            "6       0.000529  \n",
            "7       0.000337  \n",
            "8       0.000183  \n",
            "9       0.000394  \n",
            "10      0.000183  \n",
            "11      0.000302  \n",
            "12      0.000209  \n",
            "13      0.001056  \n",
            "14      0.000209  \n",
            "15      0.001058  \n",
            "16      0.000336  \n",
            "17      0.000971  \n",
            "18      0.000336  \n",
            "19      0.000966  \n",
            "20      0.000561  \n",
            "21      0.000983  \n",
            "22      0.000561  \n",
            "23      0.000983  \n",
            "\n",
            "Best Hyperparameter Setting: {'classifier__activation': 'relu', 'classifier__alpha': 0.1, 'classifier__learning_rate': 'constant', 'classifier__solver': 'adam'}\n",
            "Best Mean Validation Accuracy: 0.9475589530391415\n",
            "Standard Deviation of Validation Accuracy: 0.00022262602721278323\n"
          ]
        }
      ],
      "source": [
        "from sklearn.model_selection import GridSearchCV\n",
        "\n",
        "# Select the features from Q8\n",
        "selected_features = k_best_classif_top25['Feature'].tolist()\n",
        "X_selected = X_bonus[selected_features]\n",
        "\n",
        "# Define numerical and categorical features based on your dataset\n",
        "numerical_features_bonus = [feature for feature in selected_features if feature in X_bonus.select_dtypes(include=[np.number]).columns]\n",
        "categorical_features_bonus = [feature for feature in selected_features if feature not in numerical_features]\n",
        "\n",
        "# Preprocessor setup\n",
        "preprocessor_A = ColumnTransformer(\n",
        "    transformers=[\n",
        "        ('num', Pipeline(steps=[\n",
        "            ('imputer', SimpleImputer(strategy='mean')),\n",
        "            ('scaler', StandardScaler(with_mean=True))\n",
        "        ]), numerical_features_bonus),\n",
        "        ('cat', Pipeline(steps=[\n",
        "            ('onehot', OneHotEncoder(handle_unknown='ignore')),\n",
        "            ('scaler', StandardScaler(with_mean=False))\n",
        "        ]), categorical_features_bonus) \n",
        "    ]\n",
        ")\n",
        "\n",
        "# Hyperparameter grid\n",
        "param_grid = {\n",
        "    'classifier__activation': ['relu', 'tanh'],\n",
        "    'classifier__solver': ['adam', 'sgd'],\n",
        "    'classifier__alpha': [0.1, 0.01, 0.001],\n",
        "    'classifier__learning_rate': ['constant', 'adaptive'],\n",
        "}\n",
        "\n",
        "# Initialize MLPClassifier\n",
        "mlp = MLPClassifier(hidden_layer_sizes=(32,32,32), random_state=4211, early_stopping=True)\n",
        "\n",
        "# Create the pipeline\n",
        "pipeline = Pipeline(steps=[\n",
        "    ('preprocessor', preprocessor_A),\n",
        "    ('classifier', mlp)\n",
        "])\n",
        "\n",
        "# Perform a single train-test split\n",
        "X_train, X_test, y_train, y_test = train_test_split(X_selected, y_bonus, test_size=0.2, random_state=4211)\n",
        "\n",
        "# Run GridSearchCV with 5-fold cross-validation\n",
        "grid_search = GridSearchCV(pipeline, param_grid, cv=5, scoring='accuracy', n_jobs=-1)\n",
        "grid_search.fit(X_train, y_train)\n",
        "\n",
        "# Extract cross-validation results\n",
        "cv_results = grid_search.cv_results_\n",
        "\n",
        "# Create a DataFrame for easy analysis\n",
        "results_df = pd.DataFrame({\n",
        "    'Parameters': cv_results['params'],\n",
        "    'Mean Accuracy': cv_results['mean_test_score'],\n",
        "    'Std Accuracy': cv_results['std_test_score']\n",
        "})\n",
        "\n",
        "# Highlight the best hyperparameter setting based on mean accuracy\n",
        "best_hyperparameters = results_df.loc[results_df['Mean Accuracy'].idxmax()]\n",
        "\n",
        "# Report results\n",
        "print(\"\\nSummary of Hyperparameter Settings:\")\n",
        "print(results_df)\n",
        "print(\"\\nBest Hyperparameter Setting:\", best_hyperparameters['Parameters'])\n",
        "print(\"Best Mean Validation Accuracy:\", best_hyperparameters['Mean Accuracy'])\n",
        "print(\"Standard Deviation of Validation Accuracy:\", best_hyperparameters['Std Accuracy'])"
      ]
    },
    {
      "cell_type": "markdown",
      "metadata": {},
      "source": [
        "Finally, we will now test the model using the best hyperparamter settings"
      ]
    },
    {
      "cell_type": "markdown",
      "metadata": {},
      "source": [
        "*Reference 5.5*"
      ]
    },
    {
      "cell_type": "code",
      "execution_count": 140,
      "metadata": {},
      "outputs": [
        {
          "name": "stdout",
          "output_type": "stream",
          "text": [
            "Combination Classification Report (Final):\n",
            "Combination final accuracy score: 0.9485824611319987\n",
            "Combination final f1 score: 0.23193685488767457\n"
          ]
        }
      ],
      "source": [
        "#Set up the selected features from Q8 for both the train and test data\n",
        "selected_features = k_best_classif_top25['Feature'].tolist()\n",
        "X_selected = X_bonus[selected_features]\n",
        "\n",
        "y_test = test_data['HadHeartAttack']\n",
        "X_test = test_data.drop(columns=['HadHeartAttack'])\n",
        "X_test = X_test[selected_features]\n",
        "\n",
        "# Define numerical and categorical features based on your dataset\n",
        "numerical_features_bonus = [feature for feature in selected_features if feature in X_bonus.select_dtypes(include=[np.number]).columns]\n",
        "categorical_features_bonus = [feature for feature in selected_features if feature not in numerical_features]\n",
        "\n",
        "preprocessor_A = ColumnTransformer(\n",
        "    transformers=[\n",
        "        ('num', Pipeline(steps=[\n",
        "            ('imputer', SimpleImputer(strategy='mean')),\n",
        "            ('scaler', StandardScaler(with_mean=True))\n",
        "        ]), numerical_features_bonus),\n",
        "        ('cat', Pipeline(steps=[\n",
        "            ('onehot', OneHotEncoder(handle_unknown='ignore')),\n",
        "            ('scaler', StandardScaler(with_mean=False))\n",
        "        ]), categorical_features_bonus) \n",
        "    ]\n",
        ")\n",
        "\n",
        "# Define the model with the best param's from above\n",
        "model_final = Pipeline(steps=[\n",
        "    ('preprocessor', preprocessor_A),\n",
        "    ('classifier', MLPClassifier(hidden_layer_sizes=(128, 128, 128), \n",
        "                                 alpha=0.1, \n",
        "                                 activation='relu', \n",
        "                                 learning_rate='constant', \n",
        "                                 solver='adam',  # Added comma here\n",
        "                                 early_stopping=True))\n",
        "])\n",
        "\n",
        "model_final.fit(X_selected, y_bonus)\n",
        "y_pred_final = model_final.predict(X_test)\n",
        "print(\"Combination Classification Report (Final):\")\n",
        "print(f'Combination final accuracy score: {accuracy_score(y_test, y_pred_final)}')\n",
        "print(f'Combination final f1 score: {f1_score(y_test, y_pred_final)}')"
      ]
    }
  ],
  "metadata": {
    "accelerator": "GPU",
    "colab": {
      "gpuType": "T4",
      "provenance": []
    },
    "kernelspec": {
      "display_name": "Python 3",
      "name": "python3"
    },
    "language_info": {
      "codemirror_mode": {
        "name": "ipython",
        "version": 3
      },
      "file_extension": ".py",
      "mimetype": "text/x-python",
      "name": "python",
      "nbconvert_exporter": "python",
      "pygments_lexer": "ipython3",
      "version": "3.11.9"
    }
  },
  "nbformat": 4,
  "nbformat_minor": 0
}
